{
 "cells": [
  {
   "cell_type": "markdown",
   "id": "7f38ab3c-51cd-4724-981c-2afd7910233a",
   "metadata": {},
   "source": [
    "## Assignment"
   ]
  },
  {
   "cell_type": "markdown",
   "id": "48f4c71c-c73d-4ef3-beb2-f4c6ea8dee13",
   "metadata": {},
   "source": [
    "----------------"
   ]
  },
  {
   "cell_type": "markdown",
   "id": "863c24c0-80c4-45fe-81b2-396147881d7e",
   "metadata": {},
   "source": [
    "This is Part A"
   ]
  },
  {
   "cell_type": "markdown",
   "id": "8ff002f9-b569-44db-8ccf-8e3dd5fef383",
   "metadata": {
    "tags": []
   },
   "source": [
    "--------------------"
   ]
  },
  {
   "cell_type": "code",
   "execution_count": 112,
   "id": "2422e299-0a40-4c12-a8f5-2b3060f87028",
   "metadata": {
    "tags": []
   },
   "outputs": [
    {
     "name": "stdout",
     "output_type": "stream",
     "text": [
      "done\n"
     ]
    }
   ],
   "source": [
    "#Imports\n",
    "import pandas as pd\n",
    "import numpy as np \n",
    "import keras\n",
    "from keras.models import Sequential\n",
    "from keras.layers import Dense\n",
    "from sklearn.model_selection import train_test_split\n",
    "from sklearn.metrics import mean_squared_error\n",
    "print ('done')"
   ]
  },
  {
   "cell_type": "code",
   "execution_count": 113,
   "id": "46d4dec0-b892-498d-b165-5bba9a3fed27",
   "metadata": {
    "tags": []
   },
   "outputs": [
    {
     "data": {
      "text/html": [
       "<div>\n",
       "<style scoped>\n",
       "    .dataframe tbody tr th:only-of-type {\n",
       "        vertical-align: middle;\n",
       "    }\n",
       "\n",
       "    .dataframe tbody tr th {\n",
       "        vertical-align: top;\n",
       "    }\n",
       "\n",
       "    .dataframe thead th {\n",
       "        text-align: right;\n",
       "    }\n",
       "</style>\n",
       "<table border=\"1\" class=\"dataframe\">\n",
       "  <thead>\n",
       "    <tr style=\"text-align: right;\">\n",
       "      <th></th>\n",
       "      <th>Cement</th>\n",
       "      <th>Blast Furnace Slag</th>\n",
       "      <th>Fly Ash</th>\n",
       "      <th>Water</th>\n",
       "      <th>Superplasticizer</th>\n",
       "      <th>Coarse Aggregate</th>\n",
       "      <th>Fine Aggregate</th>\n",
       "      <th>Age</th>\n",
       "      <th>Strength</th>\n",
       "    </tr>\n",
       "  </thead>\n",
       "  <tbody>\n",
       "    <tr>\n",
       "      <th>0</th>\n",
       "      <td>540.0</td>\n",
       "      <td>0.0</td>\n",
       "      <td>0.0</td>\n",
       "      <td>162.0</td>\n",
       "      <td>2.5</td>\n",
       "      <td>1040.0</td>\n",
       "      <td>676.0</td>\n",
       "      <td>28</td>\n",
       "      <td>79.99</td>\n",
       "    </tr>\n",
       "    <tr>\n",
       "      <th>1</th>\n",
       "      <td>540.0</td>\n",
       "      <td>0.0</td>\n",
       "      <td>0.0</td>\n",
       "      <td>162.0</td>\n",
       "      <td>2.5</td>\n",
       "      <td>1055.0</td>\n",
       "      <td>676.0</td>\n",
       "      <td>28</td>\n",
       "      <td>61.89</td>\n",
       "    </tr>\n",
       "    <tr>\n",
       "      <th>2</th>\n",
       "      <td>332.5</td>\n",
       "      <td>142.5</td>\n",
       "      <td>0.0</td>\n",
       "      <td>228.0</td>\n",
       "      <td>0.0</td>\n",
       "      <td>932.0</td>\n",
       "      <td>594.0</td>\n",
       "      <td>270</td>\n",
       "      <td>40.27</td>\n",
       "    </tr>\n",
       "    <tr>\n",
       "      <th>3</th>\n",
       "      <td>332.5</td>\n",
       "      <td>142.5</td>\n",
       "      <td>0.0</td>\n",
       "      <td>228.0</td>\n",
       "      <td>0.0</td>\n",
       "      <td>932.0</td>\n",
       "      <td>594.0</td>\n",
       "      <td>365</td>\n",
       "      <td>41.05</td>\n",
       "    </tr>\n",
       "    <tr>\n",
       "      <th>4</th>\n",
       "      <td>198.6</td>\n",
       "      <td>132.4</td>\n",
       "      <td>0.0</td>\n",
       "      <td>192.0</td>\n",
       "      <td>0.0</td>\n",
       "      <td>978.4</td>\n",
       "      <td>825.5</td>\n",
       "      <td>360</td>\n",
       "      <td>44.30</td>\n",
       "    </tr>\n",
       "  </tbody>\n",
       "</table>\n",
       "</div>"
      ],
      "text/plain": [
       "   Cement  Blast Furnace Slag  Fly Ash  Water  Superplasticizer  \\\n",
       "0   540.0                 0.0      0.0  162.0               2.5   \n",
       "1   540.0                 0.0      0.0  162.0               2.5   \n",
       "2   332.5               142.5      0.0  228.0               0.0   \n",
       "3   332.5               142.5      0.0  228.0               0.0   \n",
       "4   198.6               132.4      0.0  192.0               0.0   \n",
       "\n",
       "   Coarse Aggregate  Fine Aggregate  Age  Strength  \n",
       "0            1040.0           676.0   28     79.99  \n",
       "1            1055.0           676.0   28     61.89  \n",
       "2             932.0           594.0  270     40.27  \n",
       "3             932.0           594.0  365     41.05  \n",
       "4             978.4           825.5  360     44.30  "
      ]
     },
     "execution_count": 113,
     "metadata": {},
     "output_type": "execute_result"
    }
   ],
   "source": [
    "#We read in the data \n",
    "concrete_data = pd.read_csv('https://s3-api.us-geo.objectstorage.softlayer.net/cf-courses-data/CognitiveClass/DL0101EN/labs/data/concrete_data.csv')\n",
    "concrete_data.head()\n"
   ]
  },
  {
   "cell_type": "code",
   "execution_count": 114,
   "id": "4dbe658e-e84c-42ac-aef5-6d745f9c709b",
   "metadata": {
    "tags": []
   },
   "outputs": [
    {
     "data": {
      "text/plain": [
       "(1030, 9)"
      ]
     },
     "execution_count": 114,
     "metadata": {},
     "output_type": "execute_result"
    }
   ],
   "source": [
    "#Look at the data more closley, must be (1030, 9)\n",
    "concrete_data.shape"
   ]
  },
  {
   "cell_type": "code",
   "execution_count": 115,
   "id": "d5def091-9e0c-4427-bc1d-4f42111e162c",
   "metadata": {
    "tags": []
   },
   "outputs": [],
   "source": [
    "#First lets split the data into predictors and target\n",
    "concrete_data_columns = concrete_data.columns\n",
    "predictors = concrete_data[concrete_data_columns[concrete_data_columns != 'Strength']] \n",
    "target = concrete_data['Strength']  \n",
    "\n",
    "#Building one hidden layer of 10 nodes, and a ReLu activation function\n",
    "model = Sequential()\n",
    "n_cols = predictors.shape[1]\n",
    "model.add(Dense(10, activation='relu', input_shape=(n_cols,)))\n",
    "model.add(Dense(1)) \n",
    "\n",
    "#The adam optimizer and the mean squared error as the loss function\n",
    "model.compile(optimizer='adam', loss='mean_squared_error')"
   ]
  },
  {
   "cell_type": "markdown",
   "id": "177615a3-b096-41c7-b95d-6ffaf05206dd",
   "metadata": {},
   "source": [
    "#1 -  Randomlly split the data into a training and test set by holding 30% of the data for testing.\n"
   ]
  },
  {
   "cell_type": "code",
   "execution_count": 116,
   "id": "28bde690-980c-4aaa-90dc-1e7815b9b571",
   "metadata": {
    "tags": []
   },
   "outputs": [],
   "source": [
    "# Random split into training and test data by holding 30% and train it on 50 epochs\n",
    "#Split using sckit learn helper function\n",
    "\n",
    "X_train, X_test, y_train, y_test = train_test_split(predictors, target, test_size=0.3)\n"
   ]
  },
  {
   "cell_type": "markdown",
   "id": "328f28d8-0370-4841-ad9e-ff363b5a4caf",
   "metadata": {
    "tags": []
   },
   "source": [
    "#2 - Train it on 50 epochs"
   ]
  },
  {
   "cell_type": "code",
   "execution_count": 117,
   "id": "fa2a2332-0aa6-4a6a-81f2-209b65d9b04a",
   "metadata": {
    "tags": []
   },
   "outputs": [
    {
     "name": "stdout",
     "output_type": "stream",
     "text": [
      "Epoch 1/50\n",
      " - 4s - loss: 31160.8704\n",
      "Epoch 2/50\n",
      " - 0s - loss: 13899.4212\n",
      "Epoch 3/50\n",
      " - 0s - loss: 6220.0177\n",
      "Epoch 4/50\n",
      " - 0s - loss: 3944.9201\n",
      "Epoch 5/50\n",
      " - 0s - loss: 3443.1572\n",
      "Epoch 6/50\n",
      " - 0s - loss: 3215.8996\n",
      "Epoch 7/50\n",
      " - 0s - loss: 3012.4218\n",
      "Epoch 8/50\n",
      " - 0s - loss: 2821.5662\n",
      "Epoch 9/50\n",
      " - 0s - loss: 2645.4843\n",
      "Epoch 10/50\n",
      " - 0s - loss: 2477.9567\n",
      "Epoch 11/50\n",
      " - 0s - loss: 2325.4940\n",
      "Epoch 12/50\n",
      " - 0s - loss: 2181.9058\n",
      "Epoch 13/50\n",
      " - 0s - loss: 2046.3511\n",
      "Epoch 14/50\n",
      " - 0s - loss: 1917.1272\n",
      "Epoch 15/50\n",
      " - 0s - loss: 1791.1612\n",
      "Epoch 16/50\n",
      " - 0s - loss: 1672.8017\n",
      "Epoch 17/50\n",
      " - 0s - loss: 1561.7911\n",
      "Epoch 18/50\n",
      " - 0s - loss: 1457.4744\n",
      "Epoch 19/50\n",
      " - 0s - loss: 1361.1792\n",
      "Epoch 20/50\n",
      " - 0s - loss: 1272.4382\n",
      "Epoch 21/50\n",
      " - 0s - loss: 1187.1234\n",
      "Epoch 22/50\n",
      " - 0s - loss: 1105.5766\n",
      "Epoch 23/50\n",
      " - 0s - loss: 1027.2607\n",
      "Epoch 24/50\n",
      " - 0s - loss: 947.7060\n",
      "Epoch 25/50\n",
      " - 0s - loss: 871.6700\n",
      "Epoch 26/50\n",
      " - 0s - loss: 791.2786\n",
      "Epoch 27/50\n",
      " - 0s - loss: 714.5686\n",
      "Epoch 28/50\n",
      " - 0s - loss: 645.1718\n",
      "Epoch 29/50\n",
      " - 0s - loss: 588.1938\n",
      "Epoch 30/50\n",
      " - 0s - loss: 539.9851\n",
      "Epoch 31/50\n",
      " - 0s - loss: 501.2702\n",
      "Epoch 32/50\n",
      " - 0s - loss: 470.7065\n",
      "Epoch 33/50\n",
      " - 0s - loss: 444.6937\n",
      "Epoch 34/50\n",
      " - 0s - loss: 422.4695\n",
      "Epoch 35/50\n",
      " - 0s - loss: 403.1709\n",
      "Epoch 36/50\n",
      " - 0s - loss: 386.1872\n",
      "Epoch 37/50\n",
      " - 0s - loss: 371.8133\n",
      "Epoch 38/50\n",
      " - 0s - loss: 358.4207\n",
      "Epoch 39/50\n",
      " - 0s - loss: 346.1780\n",
      "Epoch 40/50\n",
      " - 0s - loss: 334.7851\n",
      "Epoch 41/50\n",
      " - 0s - loss: 323.3227\n",
      "Epoch 42/50\n",
      " - 0s - loss: 312.4745\n",
      "Epoch 43/50\n",
      " - 0s - loss: 302.0153\n",
      "Epoch 44/50\n",
      " - 0s - loss: 291.6702\n",
      "Epoch 45/50\n",
      " - 0s - loss: 281.9405\n",
      "Epoch 46/50\n",
      " - 0s - loss: 272.2629\n",
      "Epoch 47/50\n",
      " - 0s - loss: 262.9090\n",
      "Epoch 48/50\n",
      " - 0s - loss: 253.6877\n",
      "Epoch 49/50\n",
      " - 0s - loss: 245.1033\n",
      "Epoch 50/50\n",
      " - 0s - loss: 236.8007\n"
     ]
    },
    {
     "data": {
      "text/plain": [
       "<keras.callbacks.History at 0x7f69e74bcfd0>"
      ]
     },
     "execution_count": 117,
     "metadata": {},
     "output_type": "execute_result"
    }
   ],
   "source": [
    "# Train the model\n",
    "model.fit(X_train, y_train, epochs=50, verbose=2)"
   ]
  },
  {
   "cell_type": "markdown",
   "id": "cf1292a7-d43c-44b8-8b33-86c5ac7c3623",
   "metadata": {
    "tags": []
   },
   "source": [
    "#3 - Evaluate the model on the test data and compute the mean squared error between the predicted concrete strength and the actual concrete strength"
   ]
  },
  {
   "cell_type": "code",
   "execution_count": 118,
   "id": "899e7352-e60c-47c0-b72a-65d1f0f740c0",
   "metadata": {
    "tags": []
   },
   "outputs": [
    {
     "name": "stdout",
     "output_type": "stream",
     "text": [
      "mean Squared Error is: 252.28322290033086\n"
     ]
    }
   ],
   "source": [
    "# Predicting the strength from the test data\n",
    "y_pred = model.predict(X_test)\n",
    "\n",
    "# Compute the mean squared error from the actual v. predicted\n",
    "mse = mean_squared_error(y_test, y_pred)\n",
    "print(\"mean Squared Error is:\", mse)"
   ]
  },
  {
   "cell_type": "markdown",
   "id": "dc904399-35e5-45e6-927d-7fe84cc31e1d",
   "metadata": {},
   "source": [
    "#4 -  Repeat steps 1-3 50 times, create 50 MSE"
   ]
  },
  {
   "cell_type": "code",
   "execution_count": 119,
   "id": "0efad88b-32fc-4d52-a250-b4f9b2327d48",
   "metadata": {
    "tags": []
   },
   "outputs": [
    {
     "name": "stdout",
     "output_type": "stream",
     "text": [
      "For round 0 the mse is 110.91593972376708\n",
      "For round 1 the mse is 80.99344986993401\n",
      "For round 2 the mse is 67.50749430147448\n",
      "For round 3 the mse is 76.7535213734333\n",
      "For round 4 the mse is 72.16699071095401\n",
      "For round 5 the mse is 63.459297834834615\n",
      "For round 6 the mse is 62.73621675084942\n",
      "For round 7 the mse is 56.89398058060368\n",
      "For round 8 the mse is 54.57676596130461\n",
      "For round 9 the mse is 48.892639704540045\n",
      "For round 10 the mse is 45.95193901714846\n",
      "For round 11 the mse is 50.44307785104692\n",
      "For round 12 the mse is 50.684500333944285\n",
      "For round 13 the mse is 51.83661672954914\n",
      "For round 14 the mse is 41.97110527657791\n",
      "For round 15 the mse is 44.393077202003056\n",
      "For round 16 the mse is 50.34015501318265\n",
      "For round 17 the mse is 51.144411111104844\n",
      "For round 18 the mse is 48.84078612309955\n",
      "For round 19 the mse is 43.24716790302581\n",
      "For round 20 the mse is 55.08645330698595\n",
      "For round 21 the mse is 43.6508828327171\n",
      "For round 22 the mse is 57.42947722561681\n",
      "For round 23 the mse is 51.31777378552193\n",
      "For round 24 the mse is 47.70964019438298\n",
      "For round 25 the mse is 47.47676855231419\n",
      "For round 26 the mse is 47.552035256496055\n",
      "For round 27 the mse is 53.0841677116854\n",
      "For round 28 the mse is 45.645194112452714\n",
      "For round 29 the mse is 48.392525711597195\n",
      "For round 30 the mse is 48.469740199141626\n",
      "For round 31 the mse is 49.170761543356846\n",
      "For round 32 the mse is 52.959659407240686\n",
      "For round 33 the mse is 46.48690086484187\n",
      "For round 34 the mse is 57.5295649693973\n",
      "For round 35 the mse is 48.54170121654895\n",
      "For round 36 the mse is 45.44195313225169\n",
      "For round 37 the mse is 53.07460011513998\n",
      "For round 38 the mse is 51.10347595954513\n",
      "For round 39 the mse is 45.80575787511569\n",
      "For round 40 the mse is 50.88274731380727\n",
      "For round 41 the mse is 54.633007903535216\n",
      "For round 42 the mse is 52.56120108755909\n",
      "For round 43 the mse is 52.290481091860556\n",
      "For round 44 the mse is 42.25281423870847\n",
      "For round 45 the mse is 49.06093644924686\n",
      "For round 46 the mse is 52.114520659531216\n",
      "For round 47 the mse is 41.98717549472268\n",
      "For round 48 the mse is 44.04102452670423\n",
      "For round 49 the mse is 54.339636862255794\n",
      "the list of 50 mean squared errors is: [110.91593972376708, 80.99344986993401, 67.50749430147448, 76.7535213734333, 72.16699071095401, 63.459297834834615, 62.73621675084942, 56.89398058060368, 54.57676596130461, 48.892639704540045, 45.95193901714846, 50.44307785104692, 50.684500333944285, 51.83661672954914, 41.97110527657791, 44.393077202003056, 50.34015501318265, 51.144411111104844, 48.84078612309955, 43.24716790302581, 55.08645330698595, 43.6508828327171, 57.42947722561681, 51.31777378552193, 47.70964019438298, 47.47676855231419, 47.552035256496055, 53.0841677116854, 45.645194112452714, 48.392525711597195, 48.469740199141626, 49.170761543356846, 52.959659407240686, 46.48690086484187, 57.5295649693973, 48.54170121654895, 45.44195313225169, 53.07460011513998, 51.10347595954513, 45.80575787511569, 50.88274731380727, 54.633007903535216, 52.56120108755909, 52.290481091860556, 42.25281423870847, 49.06093644924686, 52.114520659531216, 41.98717549472268, 44.04102452670423, 54.339636862255794]\n"
     ]
    }
   ],
   "source": [
    "mse_array = []\n",
    "\n",
    "for i in range (50):\n",
    "    #Step 1 \n",
    "    X_train, X_test, y_train, y_test = train_test_split(predictors, target, test_size=0.3)\n",
    "    #Step 2 \n",
    "    model.fit(X_train, y_train, epochs=50, verbose=0) #Set to 0 to not print out a long list\n",
    "    #Step 3 \n",
    "    y_pred = model.predict(X_test)\n",
    "    mse = mean_squared_error(y_test, y_pred)\n",
    "    print (\"For round\", i, \"the mse is\", mse) \n",
    "    mse_array.append(mse)\n",
    "    \n",
    "print (\"the list of 50 mean squared errors is:\", mse_array) \n"
   ]
  },
  {
   "cell_type": "markdown",
   "id": "90ed7610-8384-4d86-8bd4-5226e0b99bb8",
   "metadata": {
    "tags": []
   },
   "source": [
    "5- Report the mean and the standard deviation for the mean squared errors "
   ]
  },
  {
   "cell_type": "code",
   "execution_count": 120,
   "id": "0828f14d-7676-4f0e-9a66-0df2bd6f9b0c",
   "metadata": {
    "tags": []
   },
   "outputs": [
    {
     "name": "stdout",
     "output_type": "stream",
     "text": [
      "Mean of the Mean Squared Errors: 53.27683425945319\n",
      "Standard Deviation of the Mean Squared Errors: 11.616886996229868\n"
     ]
    }
   ],
   "source": [
    "#Mean\n",
    "mean_mse = np.mean(mse_array)\n",
    "#Standard deviation\n",
    "std_mse = np.std(mse_array)\n",
    "# Report the mean and standard deviation\n",
    "print(\"Mean of the Mean Squared Errors:\", mean_mse)\n",
    "print(\"Standard Deviation of the Mean Squared Errors:\", std_mse)"
   ]
  },
  {
   "cell_type": "markdown",
   "id": "c0cff1ea-7e2d-48e3-923a-472d67e7d97c",
   "metadata": {},
   "source": [
    "----------------------------------------"
   ]
  },
  {
   "cell_type": "markdown",
   "id": "a5054cf7-1ea9-455f-8267-0d92a6cad0a7",
   "metadata": {
    "tags": []
   },
   "source": [
    "This is Part B"
   ]
  },
  {
   "cell_type": "markdown",
   "id": "878701ae-e9a4-4615-bfc9-9623c89ea730",
   "metadata": {},
   "source": [
    "--------------------"
   ]
  },
  {
   "cell_type": "code",
   "execution_count": 121,
   "id": "addca4a5-2e61-4c46-aeee-eb6e9698408d",
   "metadata": {
    "tags": []
   },
   "outputs": [],
   "source": [
    "#Normalize the data\n",
    "predictors_norm = (predictors - predictors.mean()) / predictors.std()\n",
    "n_cols_pred = predictors_norm.shape[1]\n",
    "\n",
    "#Building one hidden layer of 10 nodes, and a ReLu activation function\n",
    "model = Sequential()\n",
    "model.add(Dense(10, activation='relu', input_shape=(n_cols_pred,)))\n",
    "model.add(Dense(1)) \n",
    "\n",
    "#The adam optimizer and the mean squared error as the loss function\n",
    "model.compile(optimizer='adam', loss='mean_squared_error')"
   ]
  },
  {
   "cell_type": "markdown",
   "id": "e40362ed-8fe1-4977-82a8-771d5818a265",
   "metadata": {},
   "source": [
    "Steps 1 to 3"
   ]
  },
  {
   "cell_type": "code",
   "execution_count": 122,
   "id": "76d679b5-ea24-4fb8-98e2-7cbae0e3fe00",
   "metadata": {
    "collapsed": true,
    "jupyter": {
     "outputs_hidden": true
    },
    "tags": []
   },
   "outputs": [
    {
     "name": "stdout",
     "output_type": "stream",
     "text": [
      "mean Squared Error is: 347.56288146988265\n"
     ]
    }
   ],
   "source": [
    "#Step 1) Randomlly split the data into a training and test set by holding 30% of the data for testing.\n",
    "X_train, X_test, y_train, y_test = train_test_split(predictors_norm, target, test_size=0.3)\n",
    "#Step 2) Train it on 50 epochs\n",
    "model.fit(X_train, y_train, epochs=50, verbose=0)\n",
    "#Step 3) Evaluate the model on the test data and compute the mean squared error between the predicted concrete strength and the actual concrete strength\n",
    "y_pred = model.predict(X_test)\n",
    "mse = mean_squared_error(y_test, y_pred)\n",
    "print(\"mean Squared Error is:\", mse)"
   ]
  },
  {
   "cell_type": "markdown",
   "id": "4b74fc55-8355-4882-b125-ec66e137ab84",
   "metadata": {
    "tags": []
   },
   "source": [
    "Step 4"
   ]
  },
  {
   "cell_type": "code",
   "execution_count": 123,
   "id": "adb2b7c4-2602-43b8-8a26-d40423a327f6",
   "metadata": {
    "tags": []
   },
   "outputs": [
    {
     "name": "stdout",
     "output_type": "stream",
     "text": [
      "For round 0 the mse is 165.89800959716177\n",
      "For round 1 the mse is 132.00824767751212\n",
      "For round 2 the mse is 88.97384011438506\n",
      "For round 3 the mse is 87.22241233442388\n",
      "For round 4 the mse is 66.99414198924998\n",
      "For round 5 the mse is 66.50393680442293\n",
      "For round 6 the mse is 67.42552657355091\n",
      "For round 7 the mse is 71.44925680460064\n",
      "For round 8 the mse is 62.4177976307644\n",
      "For round 9 the mse is 49.23740336476637\n",
      "For round 10 the mse is 47.95751593577196\n",
      "For round 11 the mse is 49.00193092327578\n",
      "For round 12 the mse is 42.434489111272455\n",
      "For round 13 the mse is 45.96225393475098\n",
      "For round 14 the mse is 46.016442276936786\n",
      "For round 15 the mse is 41.21823089355086\n",
      "For round 16 the mse is 37.5786673840685\n",
      "For round 17 the mse is 33.25153620720629\n",
      "For round 18 the mse is 40.91516004984118\n",
      "For round 19 the mse is 32.74292959199453\n",
      "For round 20 the mse is 46.99338525947289\n",
      "For round 21 the mse is 40.015168681093826\n",
      "For round 22 the mse is 35.210387172124015\n",
      "For round 23 the mse is 41.80471352949593\n",
      "For round 24 the mse is 38.40059555860234\n",
      "For round 25 the mse is 42.673325389366354\n",
      "For round 26 the mse is 43.607949104327425\n",
      "For round 27 the mse is 33.512276689114046\n",
      "For round 28 the mse is 33.86806660026627\n",
      "For round 29 the mse is 37.574284788958046\n",
      "For round 30 the mse is 34.322770327757524\n",
      "For round 31 the mse is 37.151766449432046\n",
      "For round 32 the mse is 40.96715474838708\n",
      "For round 33 the mse is 38.00220729354141\n",
      "For round 34 the mse is 31.00767606939709\n",
      "For round 35 the mse is 32.41858844798026\n",
      "For round 36 the mse is 37.08038705270411\n",
      "For round 37 the mse is 36.97392170029517\n",
      "For round 38 the mse is 44.612876273735615\n",
      "For round 39 the mse is 35.089415854924276\n",
      "For round 40 the mse is 33.85043441752785\n",
      "For round 41 the mse is 41.425965468382905\n",
      "For round 42 the mse is 34.663463653716384\n",
      "For round 43 the mse is 36.18044596723429\n",
      "For round 44 the mse is 40.90344592421686\n",
      "For round 45 the mse is 36.629211582433236\n",
      "For round 46 the mse is 38.025737025559565\n",
      "For round 47 the mse is 39.583167774455724\n",
      "For round 48 the mse is 34.47795364355432\n",
      "For round 49 the mse is 34.06921734394744\n",
      "the list of 50 mean squared errors is: [165.89800959716177, 132.00824767751212, 88.97384011438506, 87.22241233442388, 66.99414198924998, 66.50393680442293, 67.42552657355091, 71.44925680460064, 62.4177976307644, 49.23740336476637, 47.95751593577196, 49.00193092327578, 42.434489111272455, 45.96225393475098, 46.016442276936786, 41.21823089355086, 37.5786673840685, 33.25153620720629, 40.91516004984118, 32.74292959199453, 46.99338525947289, 40.015168681093826, 35.210387172124015, 41.80471352949593, 38.40059555860234, 42.673325389366354, 43.607949104327425, 33.512276689114046, 33.86806660026627, 37.574284788958046, 34.322770327757524, 37.151766449432046, 40.96715474838708, 38.00220729354141, 31.00767606939709, 32.41858844798026, 37.08038705270411, 36.97392170029517, 44.612876273735615, 35.089415854924276, 33.85043441752785, 41.425965468382905, 34.663463653716384, 36.18044596723429, 40.90344592421686, 36.629211582433236, 38.025737025559565, 39.583167774455724, 34.47795364355432, 34.06921734394744]\n"
     ]
    }
   ],
   "source": [
    "#4 -  Repeat steps 1-3 50 times, create 50 MSE\n",
    "mse_array = []\n",
    "\n",
    "for i in range (50):\n",
    "    #Step 1 \n",
    "    X_train, X_test, y_train, y_test = train_test_split(predictors_norm, target, test_size=0.3)\n",
    "    #Step 2 \n",
    "    model.fit(X_train, y_train, epochs=50, verbose=0) #Set to 0 to not print out a long list\n",
    "    #Step 3 \n",
    "    y_pred = model.predict(X_test)\n",
    "    mse = mean_squared_error(y_test, y_pred)\n",
    "    print (\"For round\", i, \"the mse is\", mse) \n",
    "    mse_array.append(mse)\n",
    "    \n",
    "print (\"the list of 50 mean squared errors is:\", mse_array) \n"
   ]
  },
  {
   "cell_type": "markdown",
   "id": "d9068331-7485-4e64-9fd7-0af04dbbc6ac",
   "metadata": {},
   "source": [
    "Step 5- Report the mean and the standard deviation for the mean squared errors "
   ]
  },
  {
   "cell_type": "code",
   "execution_count": 124,
   "id": "7d0a9863-cf55-4dee-b77d-1aa585f7f0f0",
   "metadata": {
    "tags": []
   },
   "outputs": [
    {
     "name": "stdout",
     "output_type": "stream",
     "text": [
      "Mean of the Mean Squared Errors: 48.12611377983023\n",
      "Standard Deviation of the Mean Squared Errors: 24.62767557323511\n"
     ]
    }
   ],
   "source": [
    "#Mean\n",
    "mean_mse = np.mean(mse_array)\n",
    "#Standard deviation\n",
    "std_mse = np.std(mse_array)\n",
    "\n",
    "# Report the mean and standard deviation\n",
    "print(\"Mean of the Mean Squared Errors:\", mean_mse)\n",
    "print(\"Standard Deviation of the Mean Squared Errors:\", std_mse)"
   ]
  },
  {
   "cell_type": "markdown",
   "id": "c9384ed9-8a42-4609-a422-062ca41cfbaf",
   "metadata": {},
   "source": [
    "How does the mean of the mean squared errors compare to that from step A? \n",
    "\n",
    "The mean of the mean squared error in part B is less than the mean of the mean squared error in Part A, specifically its less by 5.15072047962 units. "
   ]
  },
  {
   "cell_type": "markdown",
   "id": "3f1bd32d-c3a6-486e-9275-b117b11ef1c4",
   "metadata": {
    "tags": []
   },
   "source": [
    "-------"
   ]
  },
  {
   "cell_type": "markdown",
   "id": "31a2e4f9-45f3-4e31-a28e-de8c09b1727f",
   "metadata": {},
   "source": [
    "This is Part C"
   ]
  },
  {
   "cell_type": "markdown",
   "id": "571b4ea9-53e6-4d58-8b24-931b22747dfe",
   "metadata": {
    "tags": []
   },
   "source": [
    "--------"
   ]
  },
  {
   "cell_type": "markdown",
   "id": "30353586-bd9b-4ca1-8ed7-db072b16c485",
   "metadata": {},
   "source": [
    "1- Repeat part B and use 100 epochs this time for training"
   ]
  },
  {
   "cell_type": "markdown",
   "id": "994e8f01-c70f-4abd-b319-0513ef77c749",
   "metadata": {},
   "source": [
    "Steps 1 to 3"
   ]
  },
  {
   "cell_type": "code",
   "execution_count": 125,
   "id": "728e7ae9-bbe9-40bd-9b71-0180952e9fad",
   "metadata": {
    "tags": []
   },
   "outputs": [
    {
     "name": "stdout",
     "output_type": "stream",
     "text": [
      "mean Squared Error is: 35.959609412214895\n"
     ]
    }
   ],
   "source": [
    "#Step 1) Randomlly split the data into a training and test set by holding 30% of the data for testing.\n",
    "X_train, X_test, y_train, y_test = train_test_split(predictors_norm, target, test_size=0.3)\n",
    "#Step 2) Train it on 50 epochs\n",
    "model.fit(X_train, y_train, epochs=100, verbose=0) #100 instead of 50\n",
    "#Step 3) Evaluate the model on the test data and compute the mean squared error between the predicted concrete strength and the actual concrete strength\n",
    "y_pred = model.predict(X_test)\n",
    "mse = mean_squared_error(y_test, y_pred)\n",
    "print(\"mean Squared Error is:\", mse)"
   ]
  },
  {
   "cell_type": "markdown",
   "id": "05ba9a04-7c37-4ca8-9a3d-6dc8f245267a",
   "metadata": {},
   "source": [
    "Step 4 "
   ]
  },
  {
   "cell_type": "code",
   "execution_count": 126,
   "id": "7c7c8031-8fec-441d-a81e-8907cd1a99c7",
   "metadata": {
    "tags": []
   },
   "outputs": [
    {
     "name": "stdout",
     "output_type": "stream",
     "text": [
      "For round 0 the mse is 38.738654623247726\n",
      "For round 1 the mse is 35.264228580337075\n",
      "For round 2 the mse is 36.6626521786865\n",
      "For round 3 the mse is 38.07846060368463\n",
      "For round 4 the mse is 39.50344849444677\n",
      "For round 5 the mse is 35.774092698201194\n",
      "For round 6 the mse is 41.198097488728486\n",
      "For round 7 the mse is 39.35117146330573\n",
      "For round 8 the mse is 36.080153112826565\n",
      "For round 9 the mse is 36.31548905065916\n",
      "For round 10 the mse is 31.971028793591802\n",
      "For round 11 the mse is 35.3193385098186\n",
      "For round 12 the mse is 32.72132836519214\n",
      "For round 13 the mse is 31.95708695816875\n",
      "For round 14 the mse is 36.939354281018\n",
      "For round 15 the mse is 35.45197522533682\n",
      "For round 16 the mse is 41.5984192867803\n",
      "For round 17 the mse is 31.73420521064431\n",
      "For round 18 the mse is 38.111879235488274\n",
      "For round 19 the mse is 33.469566703780096\n",
      "For round 20 the mse is 37.28758027759305\n",
      "For round 21 the mse is 35.78969897595221\n",
      "For round 22 the mse is 34.26423585986727\n",
      "For round 23 the mse is 34.599556292233736\n",
      "For round 24 the mse is 39.37535207109561\n",
      "For round 25 the mse is 34.62847549254819\n",
      "For round 26 the mse is 30.712507131875324\n",
      "For round 27 the mse is 37.666237356724594\n",
      "For round 28 the mse is 34.12781435465769\n",
      "For round 29 the mse is 32.600732061168905\n",
      "For round 30 the mse is 35.7497632788896\n",
      "For round 31 the mse is 35.019477107930335\n",
      "For round 32 the mse is 42.00301843065184\n",
      "For round 33 the mse is 33.10847732067304\n",
      "For round 34 the mse is 33.400190302522546\n",
      "For round 35 the mse is 35.47488540272833\n",
      "For round 36 the mse is 33.88981329508724\n",
      "For round 37 the mse is 39.288787878887085\n",
      "For round 38 the mse is 31.691084999553695\n",
      "For round 39 the mse is 36.10017265783883\n",
      "For round 40 the mse is 35.01042991081249\n",
      "For round 41 the mse is 34.572590991185045\n",
      "For round 42 the mse is 34.615092179347506\n",
      "For round 43 the mse is 37.07051530676775\n",
      "For round 44 the mse is 31.19846789947423\n",
      "For round 45 the mse is 33.25112691885088\n",
      "For round 46 the mse is 34.67866513647831\n",
      "For round 47 the mse is 34.444793167101345\n",
      "For round 48 the mse is 29.19633181054277\n",
      "For round 49 the mse is 33.38285682757308\n",
      "the list of 50 mean squared errors is: [38.738654623247726, 35.264228580337075, 36.6626521786865, 38.07846060368463, 39.50344849444677, 35.774092698201194, 41.198097488728486, 39.35117146330573, 36.080153112826565, 36.31548905065916, 31.971028793591802, 35.3193385098186, 32.72132836519214, 31.95708695816875, 36.939354281018, 35.45197522533682, 41.5984192867803, 31.73420521064431, 38.111879235488274, 33.469566703780096, 37.28758027759305, 35.78969897595221, 34.26423585986727, 34.599556292233736, 39.37535207109561, 34.62847549254819, 30.712507131875324, 37.666237356724594, 34.12781435465769, 32.600732061168905, 35.7497632788896, 35.019477107930335, 42.00301843065184, 33.10847732067304, 33.400190302522546, 35.47488540272833, 33.88981329508724, 39.288787878887085, 31.691084999553695, 36.10017265783883, 35.01042991081249, 34.572590991185045, 34.615092179347506, 37.07051530676775, 31.19846789947423, 33.25112691885088, 34.67866513647831, 34.444793167101345, 29.19633181054277, 33.38285682757308]\n"
     ]
    }
   ],
   "source": [
    "#4 -  Repeat steps 1-3 50 times, create 50 MSE\n",
    "mse_array = []\n",
    "\n",
    "for i in range (50):\n",
    "    #Step 1 \n",
    "    X_train, X_test, y_train, y_test = train_test_split(predictors_norm, target, test_size=0.3)\n",
    "    #Step 2 \n",
    "    model.fit(X_train, y_train, epochs=100, verbose=0) #100 instead of 50\n",
    "    #Step 3 \n",
    "    y_pred = model.predict(X_test)\n",
    "    mse = mean_squared_error(y_test, y_pred)\n",
    "    print (\"For round\", i, \"the mse is\", mse) \n",
    "    mse_array.append(mse)\n",
    "    \n",
    "print (\"the list of 50 mean squared errors is:\", mse_array) \n"
   ]
  },
  {
   "cell_type": "markdown",
   "id": "d99d602c-7c22-406e-bea3-adc643771609",
   "metadata": {},
   "source": [
    "Step 5- Report the mean and the standard deviation for the mean squared errors "
   ]
  },
  {
   "cell_type": "code",
   "execution_count": 127,
   "id": "9081dbe0-d18d-4dcd-ab63-d0287fa8134f",
   "metadata": {
    "tags": []
   },
   "outputs": [
    {
     "name": "stdout",
     "output_type": "stream",
     "text": [
      "Mean of the Mean Squared Errors: 35.40878723121111\n",
      "Standard Deviation of the Mean Squared Errors: 2.819302694999693\n"
     ]
    }
   ],
   "source": [
    "#Mean\n",
    "mean_mse = np.mean(mse_array)\n",
    "#Standard deviation\n",
    "std_mse = np.std(mse_array)\n",
    "\n",
    "# Report the mean and standard deviation\n",
    "print(\"Mean of the Mean Squared Errors:\", mean_mse)\n",
    "print(\"Standard Deviation of the Mean Squared Errors:\", std_mse)"
   ]
  },
  {
   "cell_type": "markdown",
   "id": "f2ccf281-0530-4cec-9b7d-4fcb07ea67fe",
   "metadata": {},
   "source": [
    "How does the mean of the mean squared errors compare to that from Step B\n",
    "\n",
    "The mean of the mean squared error in part C is less than the mean of the mean squared error in Part B, specifically its less by 12.7173265486 units.\n"
   ]
  },
  {
   "cell_type": "markdown",
   "id": "8808f4ae-232e-48ec-a77d-dcf036fc4fd6",
   "metadata": {
    "tags": []
   },
   "source": [
    "-----"
   ]
  },
  {
   "cell_type": "markdown",
   "id": "4b045130-4dab-44ab-9276-026693ab5e66",
   "metadata": {
    "tags": []
   },
   "source": [
    "Part D"
   ]
  },
  {
   "cell_type": "markdown",
   "id": "8bb87366-6fff-44d4-bf93-cfd040d21b74",
   "metadata": {
    "tags": []
   },
   "source": [
    "------"
   ]
  },
  {
   "cell_type": "markdown",
   "id": "7b3bf937-2ba0-4fb6-ac53-6d8b856fffac",
   "metadata": {
    "tags": []
   },
   "source": [
    "Repeat part B with a nureal network that has three hidden layers, each of 10 nodes, and ReLu activation function"
   ]
  },
  {
   "cell_type": "code",
   "execution_count": 128,
   "id": "12180dd5-042c-4920-9d23-119059bf4b8f",
   "metadata": {
    "tags": []
   },
   "outputs": [],
   "source": [
    "#Normalize the data\n",
    "predictors_norm = (predictors - predictors.mean()) / predictors.std()\n",
    "n_cols_pred = predictors_norm.shape[1]\n",
    "\n",
    "#Building three hidden layers of 10 nodes, and a ReLu activation function\n",
    "model = Sequential()\n",
    "model.add(Dense(10, activation='relu', input_shape=(n_cols_pred,)))\n",
    "model.add(Dense(10, activation='relu'))\n",
    "model.add(Dense(10, activation='relu'))\n",
    "model.add(Dense(1)) \n",
    "\n",
    "#The adam optimizer and the mean squared error as the loss function\n",
    "model.compile(optimizer='adam', loss='mean_squared_error')"
   ]
  },
  {
   "cell_type": "markdown",
   "id": "ff301340-7619-405b-a823-caad72668ff7",
   "metadata": {},
   "source": [
    "Steps 1 to 3"
   ]
  },
  {
   "cell_type": "code",
   "execution_count": 129,
   "id": "c76f3c08-625f-45e8-9160-cd4c130b2dd9",
   "metadata": {
    "tags": []
   },
   "outputs": [
    {
     "name": "stdout",
     "output_type": "stream",
     "text": [
      "mean Squared Error is: 85.52575740685285\n"
     ]
    }
   ],
   "source": [
    "#Step 1) Randomlly split the data into a training and test set by holding 30% of the data for testing.\n",
    "X_train, X_test, y_train, y_test = train_test_split(predictors_norm, target, test_size=0.3)\n",
    "#Step 2) Train it on 50 epochs\n",
    "model.fit(X_train, y_train, epochs=50, verbose=0)\n",
    "#Step 3) Evaluate the model on the test data and compute the mean squared error between the predicted concrete strength and the actual concrete strength\n",
    "y_pred = model.predict(X_test)\n",
    "mse = mean_squared_error(y_test, y_pred)\n",
    "print(\"mean Squared Error is:\", mse)"
   ]
  },
  {
   "cell_type": "markdown",
   "id": "5ec1ff27-103e-438c-a578-9cb042d8b462",
   "metadata": {},
   "source": [
    "Step 4 "
   ]
  },
  {
   "cell_type": "code",
   "execution_count": 130,
   "id": "4356e800-9db6-46ee-912f-332894730a91",
   "metadata": {},
   "outputs": [
    {
     "name": "stdout",
     "output_type": "stream",
     "text": [
      "For round 0 the mse is 56.69796385576846\n",
      "For round 1 the mse is 44.49367799981519\n",
      "For round 2 the mse is 37.67301534052144\n",
      "For round 3 the mse is 36.7178830098498\n",
      "For round 4 the mse is 35.837393300262136\n",
      "For round 5 the mse is 36.69839031355584\n",
      "For round 6 the mse is 28.73219245530523\n",
      "For round 7 the mse is 33.16806117391187\n",
      "For round 8 the mse is 34.232944557026165\n",
      "For round 9 the mse is 25.444135134556998\n",
      "For round 10 the mse is 27.085266294948966\n",
      "For round 11 the mse is 29.081032893319904\n",
      "For round 12 the mse is 28.25818009901222\n",
      "For round 13 the mse is 30.616461489623358\n",
      "For round 14 the mse is 29.844092917639617\n",
      "For round 15 the mse is 27.600951227093706\n",
      "For round 16 the mse is 27.630288175549783\n",
      "For round 17 the mse is 23.158094762144355\n",
      "For round 18 the mse is 27.56411316977925\n",
      "For round 19 the mse is 21.378184996747162\n",
      "For round 20 the mse is 29.891077654775057\n",
      "For round 21 the mse is 26.839773286126164\n",
      "For round 22 the mse is 23.810458577249975\n",
      "For round 23 the mse is 22.743826700356106\n",
      "For round 24 the mse is 22.586018692309658\n",
      "For round 25 the mse is 21.59660361699526\n",
      "For round 26 the mse is 25.69929992025503\n",
      "For round 27 the mse is 27.778936258630573\n",
      "For round 28 the mse is 21.316513988952757\n",
      "For round 29 the mse is 22.390967312604392\n",
      "For round 30 the mse is 20.494328199527367\n",
      "For round 31 the mse is 20.73514401316162\n",
      "For round 32 the mse is 21.98064631474875\n",
      "For round 33 the mse is 18.884801757310967\n",
      "For round 34 the mse is 21.79915324484003\n",
      "For round 35 the mse is 21.665128374190523\n",
      "For round 36 the mse is 20.3531413723906\n",
      "For round 37 the mse is 19.13228296499285\n",
      "For round 38 the mse is 21.288054158966993\n",
      "For round 39 the mse is 19.97628444101737\n",
      "For round 40 the mse is 19.87601800190432\n",
      "For round 41 the mse is 19.694981394931716\n",
      "For round 42 the mse is 19.20217973076359\n",
      "For round 43 the mse is 20.17764452517187\n",
      "For round 44 the mse is 20.537578733608097\n",
      "For round 45 the mse is 18.18442441362149\n",
      "For round 46 the mse is 19.47925976868286\n",
      "For round 47 the mse is 19.627981218881658\n",
      "For round 48 the mse is 19.934384295520847\n",
      "For round 49 the mse is 18.998111629894368\n",
      "the list of 50 mean squared errors is: [56.69796385576846, 44.49367799981519, 37.67301534052144, 36.7178830098498, 35.837393300262136, 36.69839031355584, 28.73219245530523, 33.16806117391187, 34.232944557026165, 25.444135134556998, 27.085266294948966, 29.081032893319904, 28.25818009901222, 30.616461489623358, 29.844092917639617, 27.600951227093706, 27.630288175549783, 23.158094762144355, 27.56411316977925, 21.378184996747162, 29.891077654775057, 26.839773286126164, 23.810458577249975, 22.743826700356106, 22.586018692309658, 21.59660361699526, 25.69929992025503, 27.778936258630573, 21.316513988952757, 22.390967312604392, 20.494328199527367, 20.73514401316162, 21.98064631474875, 18.884801757310967, 21.79915324484003, 21.665128374190523, 20.3531413723906, 19.13228296499285, 21.288054158966993, 19.97628444101737, 19.87601800190432, 19.694981394931716, 19.20217973076359, 20.17764452517187, 20.537578733608097, 18.18442441362149, 19.47925976868286, 19.627981218881658, 19.934384295520847, 18.998111629894368]\n"
     ]
    }
   ],
   "source": [
    "#4 -  Repeat steps 1-3 50 times, create 50 MSE\n",
    "mse_array = []\n",
    "\n",
    "for i in range (50):\n",
    "    #Step 1 \n",
    "    X_train, X_test, y_train, y_test = train_test_split(predictors_norm, target, test_size=0.3)\n",
    "    #Step 2 \n",
    "    model.fit(X_train, y_train, epochs=50, verbose=0) #Set to 0 to not print out a long list\n",
    "    #Step 3 \n",
    "    y_pred = model.predict(X_test)\n",
    "    mse = mean_squared_error(y_test, y_pred)\n",
    "    print (\"For round\", i, \"the mse is\", mse) \n",
    "    mse_array.append(mse)\n",
    "    \n",
    "print (\"the list of 50 mean squared errors is:\", mse_array) \n"
   ]
  },
  {
   "cell_type": "markdown",
   "id": "e39388dc-d105-43c0-b1ab-1af41a423f71",
   "metadata": {},
   "source": [
    "Step 5- Report the mean and the standard deviation for the mean squared errors "
   ]
  },
  {
   "cell_type": "code",
   "execution_count": 132,
   "id": "56b015ab-e57e-44a4-be51-8fff5b00566f",
   "metadata": {},
   "outputs": [
    {
     "name": "stdout",
     "output_type": "stream",
     "text": [
      "Mean of the Mean Squared Errors: 25.771746554576286\n",
      "Standard Deviation of the Mean Squared Errors: 7.4519266176412815\n"
     ]
    }
   ],
   "source": [
    "#Mean\n",
    "mean_mse = np.mean(mse_array)\n",
    "#Standard deviation\n",
    "std_mse = np.std(mse_array)\n",
    "\n",
    "# Report the mean and standard deviation\n",
    "print(\"Mean of the Mean Squared Errors:\", mean_mse)\n",
    "print(\"Standard Deviation of the Mean Squared Errors:\", std_mse)"
   ]
  },
  {
   "cell_type": "markdown",
   "id": "53cfd498-3141-4229-9f09-302aacd74a8b",
   "metadata": {
    "tags": []
   },
   "source": [
    "How does the mean of the mean squared errors compare to that from Step B?\n",
    "\n",
    "The mean of the mean squared error in part D is less than the mean of the mean squared error in Part B, specifically its less by 22.3543672253 units."
   ]
  }
 ],
 "metadata": {
  "kernelspec": {
   "display_name": "Python 3 (ipykernel)",
   "language": "python",
   "name": "python3"
  },
  "language_info": {
   "codemirror_mode": {
    "name": "ipython",
    "version": 3
   },
   "file_extension": ".py",
   "mimetype": "text/x-python",
   "name": "python",
   "nbconvert_exporter": "python",
   "pygments_lexer": "ipython3",
   "version": "3.10.9"
  }
 },
 "nbformat": 4,
 "nbformat_minor": 5
}
