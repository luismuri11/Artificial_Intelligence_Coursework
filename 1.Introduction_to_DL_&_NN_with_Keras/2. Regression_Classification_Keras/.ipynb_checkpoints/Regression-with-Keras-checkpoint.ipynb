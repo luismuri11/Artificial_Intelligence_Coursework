{
 "cells": [
  {
   "cell_type": "markdown",
   "metadata": {},
   "source": [
    "<a href=\"https://cognitiveclass.ai/?utm_medium=Exinfluencer&utm_source=Exinfluencer&utm_content=000026UJ&utm_term=10006555&utm_id=NA-SkillsNetwork-Channel-SkillsNetworkCoursesIBMDeveloperSkillsNetworkDL0101ENSkillsNetwork945-2022-01-01\"><img src=\"https://cf-courses-data.s3.us.cloud-object-storage.appdomain.cloud/IBMDeveloperSkillsNetwork-DL0101EN-SkillsNetwork/images/IDSN-logo.png\" width=\"400\"> </a>\n",
    "\n",
    "<h1 align=center><font size = 5>Regression Models with Keras</font></h1>\n"
   ]
  },
  {
   "cell_type": "markdown",
   "metadata": {},
   "source": [
    "## Introduction\n"
   ]
  },
  {
   "cell_type": "markdown",
   "metadata": {},
   "source": [
    "As we discussed in the videos, despite the popularity of more powerful libraries such as PyToch and TensorFlow, they are not easy to use and have a steep learning curve. So, for people who are just starting to learn deep learning, there is no better library to use other than the Keras library. \n",
    "\n",
    "Keras is a high-level API for building deep learning models. It has gained favor for its ease of use and syntactic simplicity facilitating fast development. As you will see in this lab and the other labs in this course, building a very complex deep learning network can be achieved with Keras with only few lines of code. You will appreciate Keras even more, once you learn how to build deep models using PyTorch and TensorFlow in the other courses.\n",
    "\n",
    "So, in this lab, you will learn how to use the Keras library to build a regression model.\n"
   ]
  },
  {
   "cell_type": "markdown",
   "metadata": {},
   "source": [
    "<h2>Regression Models with Keras</h2>\n",
    "\n",
    "<h3>Objective for this Notebook<h3>    \n",
    "<h5> 1. How to use the Keras library to build a regression model.</h5>\n",
    "<h5> 2. Download and Clean dataset </h5>\n",
    "<h5> 3. Build a Neural Network </h5>\n",
    "<h5> 4. Train and Test the Network. </h5>     \n",
    "\n"
   ]
  },
  {
   "cell_type": "markdown",
   "metadata": {},
   "source": [
    "## Table of Contents\n",
    "\n",
    "<div class=\"alert alert-block alert-info\" style=\"margin-top: 20px\">\n",
    "\n",
    "<font size = 3>\n",
    "    \n",
    "1. <a href=\"#item31\">Download and Clean Dataset</a>  \n",
    "2. <a href=\"#item32\">Import Keras</a>  \n",
    "3. <a href=\"#item33\">Build a Neural Network</a>  \n",
    "4. <a href=\"#item34\">Train and Test the Network</a>  \n",
    "\n",
    "</font>\n",
    "</div>\n"
   ]
  },
  {
   "cell_type": "markdown",
   "metadata": {},
   "source": [
    "<a id=\"item31\"></a>\n"
   ]
  },
  {
   "cell_type": "markdown",
   "metadata": {},
   "source": [
    "## Download and Clean Dataset\n"
   ]
  },
  {
   "cell_type": "markdown",
   "metadata": {},
   "source": [
    "Let's start by importing the <em>pandas</em> and the Numpy libraries.\n"
   ]
  },
  {
   "cell_type": "code",
   "execution_count": 1,
   "metadata": {
    "tags": []
   },
   "outputs": [],
   "source": [
    "# All Libraries required for this lab are listed below. The libraries pre-installed on Skills Network Labs are commented. \n",
    "# If you run this notebook on a different environment, e.g. your desktop, you may need to uncomment and install certain libraries.\n",
    "\n",
    "#!pip install numpy==1.21.4\n",
    "#!pip install pandas==1.3.4\n",
    "#!pip install keras==2.1.6"
   ]
  },
  {
   "cell_type": "code",
   "execution_count": 2,
   "metadata": {
    "tags": []
   },
   "outputs": [],
   "source": [
    "import pandas as pd\n",
    "import numpy as np"
   ]
  },
  {
   "cell_type": "markdown",
   "metadata": {},
   "source": [
    "We will be playing around with the same dataset that we used in the videos.\n",
    "\n",
    "<strong>The dataset is about the compressive strength of different samples of concrete based on the volumes of the different ingredients that were used to make them. Ingredients include:</strong>\n",
    "\n",
    "<strong>1. Cement</strong>\n",
    "\n",
    "<strong>2. Blast Furnace Slag</strong>\n",
    "\n",
    "<strong>3. Fly Ash</strong>\n",
    "\n",
    "<strong>4. Water</strong>\n",
    "\n",
    "<strong>5. Superplasticizer</strong>\n",
    "\n",
    "<strong>6. Coarse Aggregate</strong>\n",
    "\n",
    "<strong>7. Fine Aggregate</strong>\n"
   ]
  },
  {
   "cell_type": "markdown",
   "metadata": {},
   "source": [
    "Let's download the data and read it into a <em>pandas</em> dataframe.\n"
   ]
  },
  {
   "cell_type": "code",
   "execution_count": 3,
   "metadata": {
    "tags": []
   },
   "outputs": [
    {
     "data": {
      "text/html": [
       "<div>\n",
       "<style scoped>\n",
       "    .dataframe tbody tr th:only-of-type {\n",
       "        vertical-align: middle;\n",
       "    }\n",
       "\n",
       "    .dataframe tbody tr th {\n",
       "        vertical-align: top;\n",
       "    }\n",
       "\n",
       "    .dataframe thead th {\n",
       "        text-align: right;\n",
       "    }\n",
       "</style>\n",
       "<table border=\"1\" class=\"dataframe\">\n",
       "  <thead>\n",
       "    <tr style=\"text-align: right;\">\n",
       "      <th></th>\n",
       "      <th>Cement</th>\n",
       "      <th>Blast Furnace Slag</th>\n",
       "      <th>Fly Ash</th>\n",
       "      <th>Water</th>\n",
       "      <th>Superplasticizer</th>\n",
       "      <th>Coarse Aggregate</th>\n",
       "      <th>Fine Aggregate</th>\n",
       "      <th>Age</th>\n",
       "      <th>Strength</th>\n",
       "    </tr>\n",
       "  </thead>\n",
       "  <tbody>\n",
       "    <tr>\n",
       "      <th>0</th>\n",
       "      <td>540.0</td>\n",
       "      <td>0.0</td>\n",
       "      <td>0.0</td>\n",
       "      <td>162.0</td>\n",
       "      <td>2.5</td>\n",
       "      <td>1040.0</td>\n",
       "      <td>676.0</td>\n",
       "      <td>28</td>\n",
       "      <td>79.99</td>\n",
       "    </tr>\n",
       "    <tr>\n",
       "      <th>1</th>\n",
       "      <td>540.0</td>\n",
       "      <td>0.0</td>\n",
       "      <td>0.0</td>\n",
       "      <td>162.0</td>\n",
       "      <td>2.5</td>\n",
       "      <td>1055.0</td>\n",
       "      <td>676.0</td>\n",
       "      <td>28</td>\n",
       "      <td>61.89</td>\n",
       "    </tr>\n",
       "    <tr>\n",
       "      <th>2</th>\n",
       "      <td>332.5</td>\n",
       "      <td>142.5</td>\n",
       "      <td>0.0</td>\n",
       "      <td>228.0</td>\n",
       "      <td>0.0</td>\n",
       "      <td>932.0</td>\n",
       "      <td>594.0</td>\n",
       "      <td>270</td>\n",
       "      <td>40.27</td>\n",
       "    </tr>\n",
       "    <tr>\n",
       "      <th>3</th>\n",
       "      <td>332.5</td>\n",
       "      <td>142.5</td>\n",
       "      <td>0.0</td>\n",
       "      <td>228.0</td>\n",
       "      <td>0.0</td>\n",
       "      <td>932.0</td>\n",
       "      <td>594.0</td>\n",
       "      <td>365</td>\n",
       "      <td>41.05</td>\n",
       "    </tr>\n",
       "    <tr>\n",
       "      <th>4</th>\n",
       "      <td>198.6</td>\n",
       "      <td>132.4</td>\n",
       "      <td>0.0</td>\n",
       "      <td>192.0</td>\n",
       "      <td>0.0</td>\n",
       "      <td>978.4</td>\n",
       "      <td>825.5</td>\n",
       "      <td>360</td>\n",
       "      <td>44.30</td>\n",
       "    </tr>\n",
       "  </tbody>\n",
       "</table>\n",
       "</div>"
      ],
      "text/plain": [
       "   Cement  Blast Furnace Slag  Fly Ash  Water  Superplasticizer  \\\n",
       "0   540.0                 0.0      0.0  162.0               2.5   \n",
       "1   540.0                 0.0      0.0  162.0               2.5   \n",
       "2   332.5               142.5      0.0  228.0               0.0   \n",
       "3   332.5               142.5      0.0  228.0               0.0   \n",
       "4   198.6               132.4      0.0  192.0               0.0   \n",
       "\n",
       "   Coarse Aggregate  Fine Aggregate  Age  Strength  \n",
       "0            1040.0           676.0   28     79.99  \n",
       "1            1055.0           676.0   28     61.89  \n",
       "2             932.0           594.0  270     40.27  \n",
       "3             932.0           594.0  365     41.05  \n",
       "4             978.4           825.5  360     44.30  "
      ]
     },
     "execution_count": 3,
     "metadata": {},
     "output_type": "execute_result"
    }
   ],
   "source": [
    "concrete_data = pd.read_csv('https://s3-api.us-geo.objectstorage.softlayer.net/cf-courses-data/CognitiveClass/DL0101EN/labs/data/concrete_data.csv')\n",
    "concrete_data.head()"
   ]
  },
  {
   "cell_type": "markdown",
   "metadata": {},
   "source": [
    "So the first concrete sample has 540 cubic meter of cement, 0 cubic meter of blast furnace slag, 0 cubic meter of fly ash, 162 cubic meter of water, 2.5 cubic meter of superplaticizer, 1040 cubic meter of coarse aggregate, 676 cubic meter of fine aggregate. Such a concrete mix which is 28 days old, has a compressive strength of 79.99 MPa. \n"
   ]
  },
  {
   "cell_type": "markdown",
   "metadata": {},
   "source": [
    "#### Let's check how many data points we have.\n"
   ]
  },
  {
   "cell_type": "code",
   "execution_count": 14,
   "metadata": {
    "tags": []
   },
   "outputs": [
    {
     "data": {
      "text/plain": [
       "(1030, 9)"
      ]
     },
     "execution_count": 14,
     "metadata": {},
     "output_type": "execute_result"
    }
   ],
   "source": [
    "concrete_data.shape"
   ]
  },
  {
   "cell_type": "markdown",
   "metadata": {},
   "source": [
    "So, there are approximately 1000 samples to train our model on. Because of the few samples, we have to be careful not to overfit the training data.\n"
   ]
  },
  {
   "cell_type": "markdown",
   "metadata": {},
   "source": [
    "Let's check the dataset for any missing values.\n"
   ]
  },
  {
   "cell_type": "code",
   "execution_count": 15,
   "metadata": {
    "tags": []
   },
   "outputs": [
    {
     "data": {
      "text/html": [
       "<div>\n",
       "<style scoped>\n",
       "    .dataframe tbody tr th:only-of-type {\n",
       "        vertical-align: middle;\n",
       "    }\n",
       "\n",
       "    .dataframe tbody tr th {\n",
       "        vertical-align: top;\n",
       "    }\n",
       "\n",
       "    .dataframe thead th {\n",
       "        text-align: right;\n",
       "    }\n",
       "</style>\n",
       "<table border=\"1\" class=\"dataframe\">\n",
       "  <thead>\n",
       "    <tr style=\"text-align: right;\">\n",
       "      <th></th>\n",
       "      <th>Cement</th>\n",
       "      <th>Blast Furnace Slag</th>\n",
       "      <th>Fly Ash</th>\n",
       "      <th>Water</th>\n",
       "      <th>Superplasticizer</th>\n",
       "      <th>Coarse Aggregate</th>\n",
       "      <th>Fine Aggregate</th>\n",
       "      <th>Age</th>\n",
       "      <th>Strength</th>\n",
       "    </tr>\n",
       "  </thead>\n",
       "  <tbody>\n",
       "    <tr>\n",
       "      <th>count</th>\n",
       "      <td>1030.000000</td>\n",
       "      <td>1030.000000</td>\n",
       "      <td>1030.000000</td>\n",
       "      <td>1030.000000</td>\n",
       "      <td>1030.000000</td>\n",
       "      <td>1030.000000</td>\n",
       "      <td>1030.000000</td>\n",
       "      <td>1030.000000</td>\n",
       "      <td>1030.000000</td>\n",
       "    </tr>\n",
       "    <tr>\n",
       "      <th>mean</th>\n",
       "      <td>281.167864</td>\n",
       "      <td>73.895825</td>\n",
       "      <td>54.188350</td>\n",
       "      <td>181.567282</td>\n",
       "      <td>6.204660</td>\n",
       "      <td>972.918932</td>\n",
       "      <td>773.580485</td>\n",
       "      <td>45.662136</td>\n",
       "      <td>35.817961</td>\n",
       "    </tr>\n",
       "    <tr>\n",
       "      <th>std</th>\n",
       "      <td>104.506364</td>\n",
       "      <td>86.279342</td>\n",
       "      <td>63.997004</td>\n",
       "      <td>21.354219</td>\n",
       "      <td>5.973841</td>\n",
       "      <td>77.753954</td>\n",
       "      <td>80.175980</td>\n",
       "      <td>63.169912</td>\n",
       "      <td>16.705742</td>\n",
       "    </tr>\n",
       "    <tr>\n",
       "      <th>min</th>\n",
       "      <td>102.000000</td>\n",
       "      <td>0.000000</td>\n",
       "      <td>0.000000</td>\n",
       "      <td>121.800000</td>\n",
       "      <td>0.000000</td>\n",
       "      <td>801.000000</td>\n",
       "      <td>594.000000</td>\n",
       "      <td>1.000000</td>\n",
       "      <td>2.330000</td>\n",
       "    </tr>\n",
       "    <tr>\n",
       "      <th>25%</th>\n",
       "      <td>192.375000</td>\n",
       "      <td>0.000000</td>\n",
       "      <td>0.000000</td>\n",
       "      <td>164.900000</td>\n",
       "      <td>0.000000</td>\n",
       "      <td>932.000000</td>\n",
       "      <td>730.950000</td>\n",
       "      <td>7.000000</td>\n",
       "      <td>23.710000</td>\n",
       "    </tr>\n",
       "    <tr>\n",
       "      <th>50%</th>\n",
       "      <td>272.900000</td>\n",
       "      <td>22.000000</td>\n",
       "      <td>0.000000</td>\n",
       "      <td>185.000000</td>\n",
       "      <td>6.400000</td>\n",
       "      <td>968.000000</td>\n",
       "      <td>779.500000</td>\n",
       "      <td>28.000000</td>\n",
       "      <td>34.445000</td>\n",
       "    </tr>\n",
       "    <tr>\n",
       "      <th>75%</th>\n",
       "      <td>350.000000</td>\n",
       "      <td>142.950000</td>\n",
       "      <td>118.300000</td>\n",
       "      <td>192.000000</td>\n",
       "      <td>10.200000</td>\n",
       "      <td>1029.400000</td>\n",
       "      <td>824.000000</td>\n",
       "      <td>56.000000</td>\n",
       "      <td>46.135000</td>\n",
       "    </tr>\n",
       "    <tr>\n",
       "      <th>max</th>\n",
       "      <td>540.000000</td>\n",
       "      <td>359.400000</td>\n",
       "      <td>200.100000</td>\n",
       "      <td>247.000000</td>\n",
       "      <td>32.200000</td>\n",
       "      <td>1145.000000</td>\n",
       "      <td>992.600000</td>\n",
       "      <td>365.000000</td>\n",
       "      <td>82.600000</td>\n",
       "    </tr>\n",
       "  </tbody>\n",
       "</table>\n",
       "</div>"
      ],
      "text/plain": [
       "            Cement  Blast Furnace Slag      Fly Ash        Water  \\\n",
       "count  1030.000000         1030.000000  1030.000000  1030.000000   \n",
       "mean    281.167864           73.895825    54.188350   181.567282   \n",
       "std     104.506364           86.279342    63.997004    21.354219   \n",
       "min     102.000000            0.000000     0.000000   121.800000   \n",
       "25%     192.375000            0.000000     0.000000   164.900000   \n",
       "50%     272.900000           22.000000     0.000000   185.000000   \n",
       "75%     350.000000          142.950000   118.300000   192.000000   \n",
       "max     540.000000          359.400000   200.100000   247.000000   \n",
       "\n",
       "       Superplasticizer  Coarse Aggregate  Fine Aggregate          Age  \\\n",
       "count       1030.000000       1030.000000     1030.000000  1030.000000   \n",
       "mean           6.204660        972.918932      773.580485    45.662136   \n",
       "std            5.973841         77.753954       80.175980    63.169912   \n",
       "min            0.000000        801.000000      594.000000     1.000000   \n",
       "25%            0.000000        932.000000      730.950000     7.000000   \n",
       "50%            6.400000        968.000000      779.500000    28.000000   \n",
       "75%           10.200000       1029.400000      824.000000    56.000000   \n",
       "max           32.200000       1145.000000      992.600000   365.000000   \n",
       "\n",
       "          Strength  \n",
       "count  1030.000000  \n",
       "mean     35.817961  \n",
       "std      16.705742  \n",
       "min       2.330000  \n",
       "25%      23.710000  \n",
       "50%      34.445000  \n",
       "75%      46.135000  \n",
       "max      82.600000  "
      ]
     },
     "execution_count": 15,
     "metadata": {},
     "output_type": "execute_result"
    }
   ],
   "source": [
    "concrete_data.describe()"
   ]
  },
  {
   "cell_type": "code",
   "execution_count": 16,
   "metadata": {
    "tags": []
   },
   "outputs": [
    {
     "data": {
      "text/plain": [
       "Cement                0\n",
       "Blast Furnace Slag    0\n",
       "Fly Ash               0\n",
       "Water                 0\n",
       "Superplasticizer      0\n",
       "Coarse Aggregate      0\n",
       "Fine Aggregate        0\n",
       "Age                   0\n",
       "Strength              0\n",
       "dtype: int64"
      ]
     },
     "execution_count": 16,
     "metadata": {},
     "output_type": "execute_result"
    }
   ],
   "source": [
    "concrete_data.isnull().sum()"
   ]
  },
  {
   "cell_type": "markdown",
   "metadata": {},
   "source": [
    "The data looks very clean and is ready to be used to build our model.\n"
   ]
  },
  {
   "cell_type": "markdown",
   "metadata": {},
   "source": [
    "#### Split data into predictors and target\n"
   ]
  },
  {
   "cell_type": "markdown",
   "metadata": {},
   "source": [
    "The target variable in this problem is the concrete sample strength. Therefore, our predictors will be all the other columns.\n"
   ]
  },
  {
   "cell_type": "code",
   "execution_count": 17,
   "metadata": {
    "tags": []
   },
   "outputs": [],
   "source": [
    "concrete_data_columns = concrete_data.columns\n",
    "\n",
    "predictors = concrete_data[concrete_data_columns[concrete_data_columns != 'Strength']] # all columns except Strength\n",
    "target = concrete_data['Strength'] # Strength column"
   ]
  },
  {
   "cell_type": "markdown",
   "metadata": {},
   "source": [
    "<a id=\"item2\"></a>\n"
   ]
  },
  {
   "cell_type": "markdown",
   "metadata": {},
   "source": [
    "Let's do a quick sanity check of the predictors and the target dataframes.\n"
   ]
  },
  {
   "cell_type": "code",
   "execution_count": 18,
   "metadata": {
    "tags": []
   },
   "outputs": [
    {
     "data": {
      "text/html": [
       "<div>\n",
       "<style scoped>\n",
       "    .dataframe tbody tr th:only-of-type {\n",
       "        vertical-align: middle;\n",
       "    }\n",
       "\n",
       "    .dataframe tbody tr th {\n",
       "        vertical-align: top;\n",
       "    }\n",
       "\n",
       "    .dataframe thead th {\n",
       "        text-align: right;\n",
       "    }\n",
       "</style>\n",
       "<table border=\"1\" class=\"dataframe\">\n",
       "  <thead>\n",
       "    <tr style=\"text-align: right;\">\n",
       "      <th></th>\n",
       "      <th>Cement</th>\n",
       "      <th>Blast Furnace Slag</th>\n",
       "      <th>Fly Ash</th>\n",
       "      <th>Water</th>\n",
       "      <th>Superplasticizer</th>\n",
       "      <th>Coarse Aggregate</th>\n",
       "      <th>Fine Aggregate</th>\n",
       "      <th>Age</th>\n",
       "    </tr>\n",
       "  </thead>\n",
       "  <tbody>\n",
       "    <tr>\n",
       "      <th>0</th>\n",
       "      <td>540.0</td>\n",
       "      <td>0.0</td>\n",
       "      <td>0.0</td>\n",
       "      <td>162.0</td>\n",
       "      <td>2.5</td>\n",
       "      <td>1040.0</td>\n",
       "      <td>676.0</td>\n",
       "      <td>28</td>\n",
       "    </tr>\n",
       "    <tr>\n",
       "      <th>1</th>\n",
       "      <td>540.0</td>\n",
       "      <td>0.0</td>\n",
       "      <td>0.0</td>\n",
       "      <td>162.0</td>\n",
       "      <td>2.5</td>\n",
       "      <td>1055.0</td>\n",
       "      <td>676.0</td>\n",
       "      <td>28</td>\n",
       "    </tr>\n",
       "    <tr>\n",
       "      <th>2</th>\n",
       "      <td>332.5</td>\n",
       "      <td>142.5</td>\n",
       "      <td>0.0</td>\n",
       "      <td>228.0</td>\n",
       "      <td>0.0</td>\n",
       "      <td>932.0</td>\n",
       "      <td>594.0</td>\n",
       "      <td>270</td>\n",
       "    </tr>\n",
       "    <tr>\n",
       "      <th>3</th>\n",
       "      <td>332.5</td>\n",
       "      <td>142.5</td>\n",
       "      <td>0.0</td>\n",
       "      <td>228.0</td>\n",
       "      <td>0.0</td>\n",
       "      <td>932.0</td>\n",
       "      <td>594.0</td>\n",
       "      <td>365</td>\n",
       "    </tr>\n",
       "    <tr>\n",
       "      <th>4</th>\n",
       "      <td>198.6</td>\n",
       "      <td>132.4</td>\n",
       "      <td>0.0</td>\n",
       "      <td>192.0</td>\n",
       "      <td>0.0</td>\n",
       "      <td>978.4</td>\n",
       "      <td>825.5</td>\n",
       "      <td>360</td>\n",
       "    </tr>\n",
       "  </tbody>\n",
       "</table>\n",
       "</div>"
      ],
      "text/plain": [
       "   Cement  Blast Furnace Slag  Fly Ash  Water  Superplasticizer  \\\n",
       "0   540.0                 0.0      0.0  162.0               2.5   \n",
       "1   540.0                 0.0      0.0  162.0               2.5   \n",
       "2   332.5               142.5      0.0  228.0               0.0   \n",
       "3   332.5               142.5      0.0  228.0               0.0   \n",
       "4   198.6               132.4      0.0  192.0               0.0   \n",
       "\n",
       "   Coarse Aggregate  Fine Aggregate  Age  \n",
       "0            1040.0           676.0   28  \n",
       "1            1055.0           676.0   28  \n",
       "2             932.0           594.0  270  \n",
       "3             932.0           594.0  365  \n",
       "4             978.4           825.5  360  "
      ]
     },
     "execution_count": 18,
     "metadata": {},
     "output_type": "execute_result"
    }
   ],
   "source": [
    "predictors.head()"
   ]
  },
  {
   "cell_type": "code",
   "execution_count": 19,
   "metadata": {
    "tags": []
   },
   "outputs": [
    {
     "data": {
      "text/plain": [
       "0    79.99\n",
       "1    61.89\n",
       "2    40.27\n",
       "3    41.05\n",
       "4    44.30\n",
       "Name: Strength, dtype: float64"
      ]
     },
     "execution_count": 19,
     "metadata": {},
     "output_type": "execute_result"
    }
   ],
   "source": [
    "target.head()"
   ]
  },
  {
   "cell_type": "markdown",
   "metadata": {},
   "source": [
    "Finally, the last step is to normalize the data by substracting the mean and dividing by the standard deviation.\n"
   ]
  },
  {
   "cell_type": "code",
   "execution_count": 20,
   "metadata": {
    "tags": []
   },
   "outputs": [
    {
     "data": {
      "text/html": [
       "<div>\n",
       "<style scoped>\n",
       "    .dataframe tbody tr th:only-of-type {\n",
       "        vertical-align: middle;\n",
       "    }\n",
       "\n",
       "    .dataframe tbody tr th {\n",
       "        vertical-align: top;\n",
       "    }\n",
       "\n",
       "    .dataframe thead th {\n",
       "        text-align: right;\n",
       "    }\n",
       "</style>\n",
       "<table border=\"1\" class=\"dataframe\">\n",
       "  <thead>\n",
       "    <tr style=\"text-align: right;\">\n",
       "      <th></th>\n",
       "      <th>Cement</th>\n",
       "      <th>Blast Furnace Slag</th>\n",
       "      <th>Fly Ash</th>\n",
       "      <th>Water</th>\n",
       "      <th>Superplasticizer</th>\n",
       "      <th>Coarse Aggregate</th>\n",
       "      <th>Fine Aggregate</th>\n",
       "      <th>Age</th>\n",
       "    </tr>\n",
       "  </thead>\n",
       "  <tbody>\n",
       "    <tr>\n",
       "      <th>0</th>\n",
       "      <td>2.476712</td>\n",
       "      <td>-0.856472</td>\n",
       "      <td>-0.846733</td>\n",
       "      <td>-0.916319</td>\n",
       "      <td>-0.620147</td>\n",
       "      <td>0.862735</td>\n",
       "      <td>-1.217079</td>\n",
       "      <td>-0.279597</td>\n",
       "    </tr>\n",
       "    <tr>\n",
       "      <th>1</th>\n",
       "      <td>2.476712</td>\n",
       "      <td>-0.856472</td>\n",
       "      <td>-0.846733</td>\n",
       "      <td>-0.916319</td>\n",
       "      <td>-0.620147</td>\n",
       "      <td>1.055651</td>\n",
       "      <td>-1.217079</td>\n",
       "      <td>-0.279597</td>\n",
       "    </tr>\n",
       "    <tr>\n",
       "      <th>2</th>\n",
       "      <td>0.491187</td>\n",
       "      <td>0.795140</td>\n",
       "      <td>-0.846733</td>\n",
       "      <td>2.174405</td>\n",
       "      <td>-1.038638</td>\n",
       "      <td>-0.526262</td>\n",
       "      <td>-2.239829</td>\n",
       "      <td>3.551340</td>\n",
       "    </tr>\n",
       "    <tr>\n",
       "      <th>3</th>\n",
       "      <td>0.491187</td>\n",
       "      <td>0.795140</td>\n",
       "      <td>-0.846733</td>\n",
       "      <td>2.174405</td>\n",
       "      <td>-1.038638</td>\n",
       "      <td>-0.526262</td>\n",
       "      <td>-2.239829</td>\n",
       "      <td>5.055221</td>\n",
       "    </tr>\n",
       "    <tr>\n",
       "      <th>4</th>\n",
       "      <td>-0.790075</td>\n",
       "      <td>0.678079</td>\n",
       "      <td>-0.846733</td>\n",
       "      <td>0.488555</td>\n",
       "      <td>-1.038638</td>\n",
       "      <td>0.070492</td>\n",
       "      <td>0.647569</td>\n",
       "      <td>4.976069</td>\n",
       "    </tr>\n",
       "  </tbody>\n",
       "</table>\n",
       "</div>"
      ],
      "text/plain": [
       "     Cement  Blast Furnace Slag   Fly Ash     Water  Superplasticizer  \\\n",
       "0  2.476712           -0.856472 -0.846733 -0.916319         -0.620147   \n",
       "1  2.476712           -0.856472 -0.846733 -0.916319         -0.620147   \n",
       "2  0.491187            0.795140 -0.846733  2.174405         -1.038638   \n",
       "3  0.491187            0.795140 -0.846733  2.174405         -1.038638   \n",
       "4 -0.790075            0.678079 -0.846733  0.488555         -1.038638   \n",
       "\n",
       "   Coarse Aggregate  Fine Aggregate       Age  \n",
       "0          0.862735       -1.217079 -0.279597  \n",
       "1          1.055651       -1.217079 -0.279597  \n",
       "2         -0.526262       -2.239829  3.551340  \n",
       "3         -0.526262       -2.239829  5.055221  \n",
       "4          0.070492        0.647569  4.976069  "
      ]
     },
     "execution_count": 20,
     "metadata": {},
     "output_type": "execute_result"
    }
   ],
   "source": [
    "predictors_norm = (predictors - predictors.mean()) / predictors.std()\n",
    "predictors_norm.head()"
   ]
  },
  {
   "cell_type": "markdown",
   "metadata": {},
   "source": [
    "Let's save the number of predictors to *n_cols* since we will need this number when building our network.\n"
   ]
  },
  {
   "cell_type": "code",
   "execution_count": 21,
   "metadata": {
    "tags": []
   },
   "outputs": [],
   "source": [
    "n_cols = predictors_norm.shape[1] # number of predictors"
   ]
  },
  {
   "cell_type": "markdown",
   "metadata": {},
   "source": [
    "<a id=\"item1\"></a>\n"
   ]
  },
  {
   "cell_type": "markdown",
   "metadata": {},
   "source": [
    "<a id='item32'></a>\n"
   ]
  },
  {
   "cell_type": "markdown",
   "metadata": {},
   "source": [
    "## Import Keras\n"
   ]
  },
  {
   "cell_type": "markdown",
   "metadata": {},
   "source": [
    "Recall from the videos that Keras normally runs on top of a low-level library such as TensorFlow. This means that to be able to use the Keras library, you will have to install TensorFlow first and when you import the Keras library, it will be explicitly displayed what backend was used to install the Keras library. In CC Labs, we used TensorFlow as the backend to install Keras, so it should clearly print that when we import Keras.\n"
   ]
  },
  {
   "cell_type": "markdown",
   "metadata": {},
   "source": [
    "#### Let's go ahead and import the Keras library\n"
   ]
  },
  {
   "cell_type": "code",
   "execution_count": 24,
   "metadata": {
    "tags": []
   },
   "outputs": [],
   "source": [
    "import keras"
   ]
  },
  {
   "cell_type": "markdown",
   "metadata": {},
   "source": [
    "As you can see, the TensorFlow backend was used to install the Keras library.\n"
   ]
  },
  {
   "cell_type": "markdown",
   "metadata": {},
   "source": [
    "Let's import the rest of the packages from the Keras library that we will need to build our regressoin model.\n"
   ]
  },
  {
   "cell_type": "code",
   "execution_count": 25,
   "metadata": {
    "tags": []
   },
   "outputs": [],
   "source": [
    "from keras.models import Sequential\n",
    "from keras.layers import Dense"
   ]
  },
  {
   "cell_type": "markdown",
   "metadata": {},
   "source": [
    "<a id='item33'></a>\n"
   ]
  },
  {
   "cell_type": "markdown",
   "metadata": {},
   "source": [
    "## Build a Neural Network\n"
   ]
  },
  {
   "cell_type": "markdown",
   "metadata": {},
   "source": [
    "Let's define a function that defines our regression model for us so that we can conveniently call it to create our model.\n"
   ]
  },
  {
   "cell_type": "code",
   "execution_count": 26,
   "metadata": {
    "tags": []
   },
   "outputs": [],
   "source": [
    "# define regression model\n",
    "def regression_model():\n",
    "    # create model\n",
    "    model = Sequential()\n",
    "    model.add(Dense(50, activation='relu', input_shape=(n_cols,)))\n",
    "    model.add(Dense(50, activation='relu'))\n",
    "    model.add(Dense(1))\n",
    "    \n",
    "    # compile model\n",
    "    model.compile(optimizer='adam', loss='mean_squared_error')\n",
    "    return model"
   ]
  },
  {
   "cell_type": "markdown",
   "metadata": {},
   "source": [
    "The above function create a model that has two hidden layers, each of 50 hidden units.\n"
   ]
  },
  {
   "cell_type": "markdown",
   "metadata": {},
   "source": [
    "<a id=\"item4\"></a>\n"
   ]
  },
  {
   "cell_type": "markdown",
   "metadata": {},
   "source": [
    "<a id='item34'></a>\n"
   ]
  },
  {
   "cell_type": "markdown",
   "metadata": {},
   "source": [
    "## Train and Test the Network\n"
   ]
  },
  {
   "cell_type": "markdown",
   "metadata": {},
   "source": [
    "Let's call the function now to create our model.\n"
   ]
  },
  {
   "cell_type": "code",
   "execution_count": 27,
   "metadata": {
    "tags": []
   },
   "outputs": [
    {
     "name": "stdout",
     "output_type": "stream",
     "text": [
      "WARNING:tensorflow:From /home/jupyterlab/conda/envs/python/lib/python3.7/site-packages/keras/backend/tensorflow_backend.py:68: The name tf.get_default_graph is deprecated. Please use tf.compat.v1.get_default_graph instead.\n",
      "\n",
      "WARNING:tensorflow:From /home/jupyterlab/conda/envs/python/lib/python3.7/site-packages/keras/backend/tensorflow_backend.py:508: The name tf.placeholder is deprecated. Please use tf.compat.v1.placeholder instead.\n",
      "\n",
      "WARNING:tensorflow:From /home/jupyterlab/conda/envs/python/lib/python3.7/site-packages/keras/backend/tensorflow_backend.py:3837: The name tf.random_uniform is deprecated. Please use tf.random.uniform instead.\n",
      "\n",
      "WARNING:tensorflow:From /home/jupyterlab/conda/envs/python/lib/python3.7/site-packages/keras/optimizers.py:757: The name tf.train.Optimizer is deprecated. Please use tf.compat.v1.train.Optimizer instead.\n",
      "\n"
     ]
    }
   ],
   "source": [
    "# build the model\n",
    "model = regression_model()"
   ]
  },
  {
   "cell_type": "markdown",
   "metadata": {},
   "source": [
    "Next, we will train and test the model at the same time using the *fit* method. We will leave out 30% of the data for validation and we will train the model for 100 epochs.\n"
   ]
  },
  {
   "cell_type": "code",
   "execution_count": 28,
   "metadata": {
    "tags": []
   },
   "outputs": [
    {
     "name": "stdout",
     "output_type": "stream",
     "text": [
      "WARNING:tensorflow:From /home/jupyterlab/conda/envs/python/lib/python3.7/site-packages/keras/backend/tensorflow_backend.py:977: The name tf.assign_add is deprecated. Please use tf.compat.v1.assign_add instead.\n",
      "\n",
      "WARNING:tensorflow:From /home/jupyterlab/conda/envs/python/lib/python3.7/site-packages/keras/backend/tensorflow_backend.py:964: The name tf.assign is deprecated. Please use tf.compat.v1.assign instead.\n",
      "\n",
      "Train on 721 samples, validate on 309 samples\n",
      "Epoch 1/100\n"
     ]
    },
    {
     "name": "stderr",
     "output_type": "stream",
     "text": [
      "2023-06-23 15:33:50.437984: I tensorflow/core/platform/cpu_feature_guard.cc:142] Your CPU supports instructions that this TensorFlow binary was not compiled to use: SSE4.1 SSE4.2 AVX AVX2 AVX512F FMA\n",
      "2023-06-23 15:33:50.443128: I tensorflow/core/platform/profile_utils/cpu_utils.cc:94] CPU Frequency: 2394280000 Hz\n",
      "2023-06-23 15:33:50.443995: I tensorflow/compiler/xla/service/service.cc:168] XLA service 0x556051697c00 executing computations on platform Host. Devices:\n",
      "2023-06-23 15:33:50.444070: I tensorflow/compiler/xla/service/service.cc:175]   StreamExecutor device (0): <undefined>, <undefined>\n",
      "2023-06-23 15:33:50.558804: W tensorflow/compiler/jit/mark_for_compilation_pass.cc:1412] (One-time warning): Not using XLA:CPU for cluster because envvar TF_XLA_FLAGS=--tf_xla_cpu_global_jit was not set.  If you want XLA:CPU, either set that envvar, or use experimental_jit_scope to enable XLA:CPU.  To confirm that XLA is active, pass --vmodule=xla_compilation_cache=1 (as a proper command-line flag, not via TF_XLA_FLAGS) or set the envvar XLA_FLAGS=--xla_hlo_profile.\n"
     ]
    },
    {
     "name": "stdout",
     "output_type": "stream",
     "text": [
      " - 0s - loss: 1618.3101 - val_loss: 1114.2389\n",
      "Epoch 2/100\n",
      " - 0s - loss: 1448.3793 - val_loss: 963.3747\n",
      "Epoch 3/100\n",
      " - 0s - loss: 1178.8833 - val_loss: 741.9512\n",
      "Epoch 4/100\n",
      " - 0s - loss: 819.5223 - val_loss: 482.6975\n",
      "Epoch 5/100\n",
      " - 0s - loss: 473.8776 - val_loss: 291.5190\n",
      "Epoch 6/100\n",
      " - 0s - loss: 301.3954 - val_loss: 206.5882\n",
      "Epoch 7/100\n",
      " - 0s - loss: 251.2661 - val_loss: 178.9572\n",
      "Epoch 8/100\n",
      " - 0s - loss: 228.6063 - val_loss: 166.8292\n",
      "Epoch 9/100\n",
      " - 0s - loss: 212.6006 - val_loss: 160.3916\n",
      "Epoch 10/100\n",
      " - 0s - loss: 201.9164 - val_loss: 156.6240\n",
      "Epoch 11/100\n",
      " - 0s - loss: 193.9276 - val_loss: 152.8335\n",
      "Epoch 12/100\n",
      " - 0s - loss: 187.0776 - val_loss: 148.8112\n",
      "Epoch 13/100\n",
      " - 0s - loss: 181.4906 - val_loss: 147.9055\n",
      "Epoch 14/100\n",
      " - 0s - loss: 176.4616 - val_loss: 149.0011\n",
      "Epoch 15/100\n",
      " - 0s - loss: 172.9410 - val_loss: 144.8364\n",
      "Epoch 16/100\n",
      " - 0s - loss: 168.7364 - val_loss: 142.4063\n",
      "Epoch 17/100\n",
      " - 0s - loss: 165.8959 - val_loss: 144.0372\n",
      "Epoch 18/100\n",
      " - 0s - loss: 162.2526 - val_loss: 140.8270\n",
      "Epoch 19/100\n",
      " - 0s - loss: 159.9964 - val_loss: 139.8501\n",
      "Epoch 20/100\n",
      " - 0s - loss: 157.9625 - val_loss: 139.3327\n",
      "Epoch 21/100\n",
      " - 0s - loss: 155.2116 - val_loss: 139.9537\n",
      "Epoch 22/100\n",
      " - 0s - loss: 153.9069 - val_loss: 140.2560\n",
      "Epoch 23/100\n",
      " - 0s - loss: 151.8072 - val_loss: 139.4753\n",
      "Epoch 24/100\n",
      " - 0s - loss: 149.7781 - val_loss: 141.0109\n",
      "Epoch 25/100\n",
      " - 0s - loss: 147.7863 - val_loss: 140.6070\n",
      "Epoch 26/100\n",
      " - 0s - loss: 146.1010 - val_loss: 141.1205\n",
      "Epoch 27/100\n",
      " - 0s - loss: 144.1668 - val_loss: 140.1983\n",
      "Epoch 28/100\n",
      " - 0s - loss: 142.8780 - val_loss: 140.0826\n",
      "Epoch 29/100\n",
      " - 0s - loss: 141.6453 - val_loss: 142.4740\n",
      "Epoch 30/100\n",
      " - 0s - loss: 139.9427 - val_loss: 141.9815\n",
      "Epoch 31/100\n",
      " - 0s - loss: 138.8278 - val_loss: 142.9872\n",
      "Epoch 32/100\n",
      " - 0s - loss: 137.2211 - val_loss: 142.7655\n",
      "Epoch 33/100\n",
      " - 0s - loss: 136.0713 - val_loss: 144.0724\n",
      "Epoch 34/100\n",
      " - 0s - loss: 134.9581 - val_loss: 142.3740\n",
      "Epoch 35/100\n",
      " - 0s - loss: 133.3351 - val_loss: 147.9036\n",
      "Epoch 36/100\n",
      " - 0s - loss: 132.0778 - val_loss: 147.1042\n",
      "Epoch 37/100\n",
      " - 0s - loss: 130.6937 - val_loss: 148.2907\n",
      "Epoch 38/100\n",
      " - 0s - loss: 129.8350 - val_loss: 148.8275\n",
      "Epoch 39/100\n",
      " - 0s - loss: 128.7560 - val_loss: 148.0960\n",
      "Epoch 40/100\n",
      " - 0s - loss: 127.5593 - val_loss: 151.3332\n",
      "Epoch 41/100\n",
      " - 0s - loss: 126.0156 - val_loss: 149.8111\n",
      "Epoch 42/100\n",
      " - 0s - loss: 125.6580 - val_loss: 154.0273\n",
      "Epoch 43/100\n",
      " - 0s - loss: 123.9173 - val_loss: 150.8736\n",
      "Epoch 44/100\n",
      " - 0s - loss: 121.5683 - val_loss: 150.8345\n",
      "Epoch 45/100\n",
      " - 0s - loss: 120.6479 - val_loss: 150.2877\n",
      "Epoch 46/100\n",
      " - 0s - loss: 118.0838 - val_loss: 151.5321\n",
      "Epoch 47/100\n",
      " - 0s - loss: 116.7139 - val_loss: 155.6518\n",
      "Epoch 48/100\n",
      " - 0s - loss: 114.0947 - val_loss: 153.0075\n",
      "Epoch 49/100\n",
      " - 0s - loss: 112.6379 - val_loss: 154.9816\n",
      "Epoch 50/100\n",
      " - 0s - loss: 110.9532 - val_loss: 155.0137\n",
      "Epoch 51/100\n",
      " - 0s - loss: 108.6903 - val_loss: 154.5736\n",
      "Epoch 52/100\n",
      " - 0s - loss: 106.7481 - val_loss: 159.2268\n",
      "Epoch 53/100\n",
      " - 0s - loss: 105.1476 - val_loss: 157.9659\n",
      "Epoch 54/100\n",
      " - 0s - loss: 101.7826 - val_loss: 156.5054\n",
      "Epoch 55/100\n",
      " - 0s - loss: 100.0072 - val_loss: 156.4398\n",
      "Epoch 56/100\n",
      " - 0s - loss: 97.6104 - val_loss: 155.7733\n",
      "Epoch 57/100\n",
      " - 0s - loss: 94.9875 - val_loss: 158.8011\n",
      "Epoch 58/100\n",
      " - 0s - loss: 94.1018 - val_loss: 155.9553\n",
      "Epoch 59/100\n",
      " - 0s - loss: 90.5326 - val_loss: 159.3000\n",
      "Epoch 60/100\n",
      " - 0s - loss: 87.9160 - val_loss: 156.0295\n",
      "Epoch 61/100\n",
      " - 0s - loss: 85.4533 - val_loss: 157.5087\n",
      "Epoch 62/100\n",
      " - 0s - loss: 82.9018 - val_loss: 153.5171\n",
      "Epoch 63/100\n",
      " - 0s - loss: 79.8788 - val_loss: 150.7841\n",
      "Epoch 64/100\n",
      " - 0s - loss: 78.4168 - val_loss: 157.6507\n",
      "Epoch 65/100\n",
      " - 0s - loss: 75.1327 - val_loss: 150.7775\n",
      "Epoch 66/100\n",
      " - 0s - loss: 72.7661 - val_loss: 148.3472\n",
      "Epoch 67/100\n",
      " - 0s - loss: 70.0773 - val_loss: 150.8259\n",
      "Epoch 68/100\n",
      " - 0s - loss: 68.1834 - val_loss: 151.2256\n",
      "Epoch 69/100\n",
      " - 0s - loss: 66.1566 - val_loss: 151.3008\n",
      "Epoch 70/100\n",
      " - 0s - loss: 64.5920 - val_loss: 147.9054\n",
      "Epoch 71/100\n",
      " - 0s - loss: 62.4573 - val_loss: 154.4446\n",
      "Epoch 72/100\n",
      " - 0s - loss: 60.3145 - val_loss: 140.7737\n",
      "Epoch 73/100\n",
      " - 0s - loss: 58.8618 - val_loss: 144.9740\n",
      "Epoch 74/100\n",
      " - 0s - loss: 57.3819 - val_loss: 149.2785\n",
      "Epoch 75/100\n",
      " - 0s - loss: 56.0633 - val_loss: 149.9449\n",
      "Epoch 76/100\n",
      " - 0s - loss: 54.5473 - val_loss: 149.5780\n",
      "Epoch 77/100\n",
      " - 0s - loss: 53.4179 - val_loss: 150.9332\n",
      "Epoch 78/100\n",
      " - 0s - loss: 52.3719 - val_loss: 155.0912\n",
      "Epoch 79/100\n",
      " - 0s - loss: 50.7448 - val_loss: 145.4061\n",
      "Epoch 80/100\n",
      " - 0s - loss: 49.5950 - val_loss: 158.3614\n",
      "Epoch 81/100\n",
      " - 0s - loss: 48.6505 - val_loss: 152.2372\n",
      "Epoch 82/100\n",
      " - 0s - loss: 48.3891 - val_loss: 157.5314\n",
      "Epoch 83/100\n",
      " - 0s - loss: 46.9429 - val_loss: 156.3235\n",
      "Epoch 84/100\n",
      " - 0s - loss: 46.3626 - val_loss: 151.3857\n",
      "Epoch 85/100\n",
      " - 0s - loss: 45.7082 - val_loss: 155.2778\n",
      "Epoch 86/100\n",
      " - 0s - loss: 44.4539 - val_loss: 149.7566\n",
      "Epoch 87/100\n",
      " - 0s - loss: 44.6092 - val_loss: 153.3917\n",
      "Epoch 88/100\n",
      " - 0s - loss: 43.3381 - val_loss: 159.2635\n",
      "Epoch 89/100\n",
      " - 0s - loss: 43.0719 - val_loss: 152.8563\n",
      "Epoch 90/100\n",
      " - 0s - loss: 41.9047 - val_loss: 155.5661\n",
      "Epoch 91/100\n",
      " - 0s - loss: 41.5209 - val_loss: 162.6061\n",
      "Epoch 92/100\n",
      " - 0s - loss: 40.8489 - val_loss: 165.6412\n",
      "Epoch 93/100\n",
      " - 0s - loss: 40.5221 - val_loss: 157.5189\n",
      "Epoch 94/100\n",
      " - 0s - loss: 39.6610 - val_loss: 168.5112\n",
      "Epoch 95/100\n",
      " - 0s - loss: 39.0386 - val_loss: 163.9830\n",
      "Epoch 96/100\n",
      " - 0s - loss: 38.4483 - val_loss: 158.8479\n",
      "Epoch 97/100\n",
      " - 0s - loss: 38.1484 - val_loss: 171.1424\n",
      "Epoch 98/100\n",
      " - 0s - loss: 37.8183 - val_loss: 168.1185\n",
      "Epoch 99/100\n",
      " - 0s - loss: 37.3310 - val_loss: 161.5041\n",
      "Epoch 100/100\n",
      " - 0s - loss: 36.6018 - val_loss: 173.9729\n"
     ]
    },
    {
     "data": {
      "text/plain": [
       "<keras.callbacks.History at 0x7f1bdc9569d0>"
      ]
     },
     "execution_count": 28,
     "metadata": {},
     "output_type": "execute_result"
    }
   ],
   "source": [
    "# fit the model\n",
    "model.fit(predictors_norm, target, validation_split=0.3, epochs=100, verbose=2)"
   ]
  },
  {
   "cell_type": "markdown",
   "metadata": {},
   "source": [
    "<strong>You can refer to this [link](https://keras.io/models/sequential/?utm_medium=Exinfluencer&utm_source=Exinfluencer&utm_content=000026UJ&utm_term=10006555&utm_id=NA-SkillsNetwork-Channel-SkillsNetworkCoursesIBMDeveloperSkillsNetworkDL0101ENSkillsNetwork945-2022-01-01) to learn about other functions that you can use for prediction or evaluation.</strong>\n"
   ]
  },
  {
   "cell_type": "markdown",
   "metadata": {},
   "source": [
    "Feel free to vary the following and note what impact each change has on the model's performance:\n",
    "\n",
    "1. Increase or decreate number of neurons in hidden layers\n",
    "2. Add more hidden layers\n",
    "3. Increase number of epochs\n"
   ]
  },
  {
   "cell_type": "code",
   "execution_count": 38,
   "metadata": {
    "tags": []
   },
   "outputs": [
    {
     "name": "stderr",
     "output_type": "stream",
     "text": [
      "/home/jupyterlab/conda/envs/python/lib/python3.7/site-packages/sklearn/preprocessing/data.py:625: DataConversionWarning: Data with input dtype int64, float64 were all converted to float64 by StandardScaler.\n",
      "  return self.partial_fit(X, y)\n",
      "/home/jupyterlab/conda/envs/python/lib/python3.7/site-packages/sklearn/base.py:462: DataConversionWarning: Data with input dtype int64, float64 were all converted to float64 by StandardScaler.\n",
      "  return self.fit(X, **fit_params).transform(X)\n"
     ]
    },
    {
     "data": {
      "text/plain": [
       "array([[ 2.47791487, -0.85688789, -0.84714393, ...,  0.86315424,\n",
       "        -1.21767004, -0.27973311],\n",
       "       [ 2.47791487, -0.85688789, -0.84714393, ...,  1.05616419,\n",
       "        -1.21767004, -0.27973311],\n",
       "       [ 0.49142531,  0.79552649, -0.84714393, ..., -0.52651741,\n",
       "        -2.24091709,  3.55306569],\n",
       "       ...,\n",
       "       [-1.27008832,  0.75957923,  0.85063487, ..., -1.03606368,\n",
       "         0.0801067 , -0.27973311],\n",
       "       [-1.16860982,  1.30806485, -0.84714393, ...,  0.21464081,\n",
       "         0.19116644, -0.27973311],\n",
       "       [-0.19403325,  0.30849909,  0.3769452 , ..., -1.39506219,\n",
       "        -0.15074782, -0.27973311]])"
      ]
     },
     "execution_count": 38,
     "metadata": {},
     "output_type": "execute_result"
    }
   ],
   "source": [
    "# New model\n",
    "# Normalizing predictors\n",
    "from sklearn.preprocessing import StandardScaler\n",
    "\n",
    "scaler = StandardScaler()\n",
    "predictor_norm = scaler.fit_transform(predictors)\n",
    "predictor_norm"
   ]
  },
  {
   "cell_type": "code",
   "execution_count": 41,
   "metadata": {
    "tags": []
   },
   "outputs": [
    {
     "data": {
      "text/plain": [
       "(1030, 8)"
      ]
     },
     "execution_count": 41,
     "metadata": {},
     "output_type": "execute_result"
    }
   ],
   "source": []
  },
  {
   "cell_type": "code",
   "execution_count": 74,
   "metadata": {
    "tags": []
   },
   "outputs": [],
   "source": [
    "# Create a new model\n",
    "\n",
    "def new_regression_model():\n",
    "    model = Sequential([\n",
    "        Dense(50, activation ='relu',input_shape=(predictor_norm.shape[1],)),\n",
    "        Dense(100, activation = 'relu'),\n",
    "        Dense(100,activation='relu'),\n",
    "        Dense(50, activation ='relu'),\n",
    "        Dense(1)])\n",
    "    model.compile(optimizer='adam',\n",
    "                 loss = 'mean_squared_error')\n",
    "    return model"
   ]
  },
  {
   "cell_type": "code",
   "execution_count": 75,
   "metadata": {
    "tags": []
   },
   "outputs": [
    {
     "name": "stdout",
     "output_type": "stream",
     "text": [
      "_________________________________________________________________\n",
      "Layer (type)                 Output Shape              Param #   \n",
      "=================================================================\n",
      "dense_48 (Dense)             (None, 50)                450       \n",
      "_________________________________________________________________\n",
      "dense_49 (Dense)             (None, 100)               5100      \n",
      "_________________________________________________________________\n",
      "dense_50 (Dense)             (None, 100)               10100     \n",
      "_________________________________________________________________\n",
      "dense_51 (Dense)             (None, 50)                5050      \n",
      "_________________________________________________________________\n",
      "dense_52 (Dense)             (None, 1)                 51        \n",
      "=================================================================\n",
      "Total params: 20,751\n",
      "Trainable params: 20,751\n",
      "Non-trainable params: 0\n",
      "_________________________________________________________________\n"
     ]
    }
   ],
   "source": [
    "new_model = new_regression_model()\n",
    "new_model.summary()"
   ]
  },
  {
   "cell_type": "code",
   "execution_count": 76,
   "metadata": {
    "tags": []
   },
   "outputs": [
    {
     "name": "stdout",
     "output_type": "stream",
     "text": [
      "Train on 721 samples, validate on 309 samples\n",
      "Epoch 1/100\n",
      "721/721 [==============================] - 1s 1ms/step - loss: 1436.0257 - val_loss: 643.1851\n",
      "Epoch 2/100\n",
      "721/721 [==============================] - 0s 212us/step - loss: 478.6740 - val_loss: 229.0681\n",
      "Epoch 3/100\n",
      "721/721 [==============================] - 0s 197us/step - loss: 264.1357 - val_loss: 184.3582\n",
      "Epoch 4/100\n",
      "721/721 [==============================] - 0s 173us/step - loss: 214.3806 - val_loss: 177.5149\n",
      "Epoch 5/100\n",
      "721/721 [==============================] - 0s 192us/step - loss: 187.5067 - val_loss: 187.6366\n",
      "Epoch 6/100\n",
      "721/721 [==============================] - 0s 165us/step - loss: 171.7147 - val_loss: 174.5390\n",
      "Epoch 7/100\n",
      "721/721 [==============================] - 0s 150us/step - loss: 156.0769 - val_loss: 172.5085\n",
      "Epoch 8/100\n",
      "721/721 [==============================] - 0s 168us/step - loss: 141.9307 - val_loss: 162.8317\n",
      "Epoch 9/100\n",
      "721/721 [==============================] - 0s 160us/step - loss: 125.3472 - val_loss: 189.2856\n",
      "Epoch 10/100\n",
      "721/721 [==============================] - 0s 163us/step - loss: 113.2497 - val_loss: 179.7864\n",
      "Epoch 11/100\n",
      "721/721 [==============================] - 0s 161us/step - loss: 102.4774 - val_loss: 188.9107\n",
      "Epoch 12/100\n",
      "721/721 [==============================] - 0s 163us/step - loss: 92.9938 - val_loss: 194.3524\n",
      "Epoch 13/100\n",
      "721/721 [==============================] - 0s 168us/step - loss: 87.2168 - val_loss: 186.4229\n",
      "Epoch 14/100\n",
      "721/721 [==============================] - 0s 223us/step - loss: 80.7139 - val_loss: 175.5362\n",
      "Epoch 15/100\n",
      "721/721 [==============================] - 0s 158us/step - loss: 79.3345 - val_loss: 178.1137\n",
      "Epoch 16/100\n",
      "721/721 [==============================] - 0s 152us/step - loss: 73.5497 - val_loss: 187.5719\n",
      "Epoch 17/100\n",
      "721/721 [==============================] - 0s 161us/step - loss: 67.8561 - val_loss: 188.1700\n",
      "Epoch 18/100\n",
      "721/721 [==============================] - 0s 159us/step - loss: 66.4377 - val_loss: 189.7384\n",
      "Epoch 19/100\n",
      "721/721 [==============================] - 0s 143us/step - loss: 60.0266 - val_loss: 192.7368\n",
      "Epoch 20/100\n",
      "721/721 [==============================] - 0s 164us/step - loss: 58.9417 - val_loss: 182.9760\n",
      "Epoch 21/100\n",
      "721/721 [==============================] - 0s 158us/step - loss: 54.9209 - val_loss: 196.5794\n",
      "Epoch 22/100\n",
      "721/721 [==============================] - 0s 165us/step - loss: 52.0059 - val_loss: 213.0884\n",
      "Epoch 23/100\n",
      "721/721 [==============================] - 0s 148us/step - loss: 50.5684 - val_loss: 202.1900\n",
      "Epoch 24/100\n",
      "721/721 [==============================] - 0s 159us/step - loss: 48.1886 - val_loss: 197.5181\n",
      "Epoch 25/100\n",
      "721/721 [==============================] - 0s 164us/step - loss: 45.6379 - val_loss: 177.6138\n",
      "Epoch 26/100\n",
      "721/721 [==============================] - 0s 141us/step - loss: 44.2860 - val_loss: 174.2382\n",
      "Epoch 27/100\n",
      "721/721 [==============================] - 0s 157us/step - loss: 45.9617 - val_loss: 216.4516\n",
      "Epoch 28/100\n",
      "721/721 [==============================] - 0s 146us/step - loss: 40.6700 - val_loss: 183.5521\n",
      "Epoch 29/100\n",
      "721/721 [==============================] - 0s 159us/step - loss: 39.1303 - val_loss: 174.8411\n",
      "Epoch 30/100\n",
      "721/721 [==============================] - 0s 170us/step - loss: 37.7743 - val_loss: 172.6093\n",
      "Epoch 31/100\n",
      "721/721 [==============================] - 0s 163us/step - loss: 36.4406 - val_loss: 195.7037\n",
      "Epoch 32/100\n",
      "721/721 [==============================] - 0s 142us/step - loss: 34.5949 - val_loss: 180.0434\n",
      "Epoch 33/100\n",
      "721/721 [==============================] - 0s 159us/step - loss: 33.0946 - val_loss: 181.5881\n",
      "Epoch 34/100\n",
      "721/721 [==============================] - 0s 161us/step - loss: 31.1560 - val_loss: 176.6956\n",
      "Epoch 35/100\n",
      "721/721 [==============================] - 0s 144us/step - loss: 32.5495 - val_loss: 178.8155\n",
      "Epoch 36/100\n",
      "721/721 [==============================] - 0s 156us/step - loss: 29.7822 - val_loss: 150.1438\n",
      "Epoch 37/100\n",
      "721/721 [==============================] - 0s 146us/step - loss: 28.8730 - val_loss: 179.0489\n",
      "Epoch 38/100\n",
      "721/721 [==============================] - 0s 155us/step - loss: 26.9086 - val_loss: 158.7395\n",
      "Epoch 39/100\n",
      "721/721 [==============================] - 0s 145us/step - loss: 26.9596 - val_loss: 185.2544\n",
      "Epoch 40/100\n",
      "721/721 [==============================] - 0s 157us/step - loss: 26.8218 - val_loss: 147.6695\n",
      "Epoch 41/100\n",
      "721/721 [==============================] - 0s 149us/step - loss: 25.5542 - val_loss: 160.6269\n",
      "Epoch 42/100\n",
      "721/721 [==============================] - 0s 162us/step - loss: 23.4786 - val_loss: 160.4701\n",
      "Epoch 43/100\n",
      "721/721 [==============================] - 0s 156us/step - loss: 23.1536 - val_loss: 171.8826\n",
      "Epoch 44/100\n",
      "721/721 [==============================] - 0s 149us/step - loss: 21.6574 - val_loss: 175.7395\n",
      "Epoch 45/100\n",
      "721/721 [==============================] - 0s 167us/step - loss: 24.7048 - val_loss: 160.2897\n",
      "Epoch 46/100\n",
      "721/721 [==============================] - 0s 159us/step - loss: 21.6088 - val_loss: 172.2967\n",
      "Epoch 47/100\n",
      "721/721 [==============================] - 0s 162us/step - loss: 20.5636 - val_loss: 180.0674\n",
      "Epoch 48/100\n",
      "721/721 [==============================] - 0s 142us/step - loss: 21.7603 - val_loss: 159.1545\n",
      "Epoch 49/100\n",
      "721/721 [==============================] - 0s 163us/step - loss: 21.3637 - val_loss: 179.4427\n",
      "Epoch 50/100\n",
      "721/721 [==============================] - 0s 143us/step - loss: 19.7166 - val_loss: 187.8268\n",
      "Epoch 51/100\n",
      "721/721 [==============================] - 0s 150us/step - loss: 18.9030 - val_loss: 175.5009\n",
      "Epoch 52/100\n",
      "721/721 [==============================] - 0s 184us/step - loss: 18.5106 - val_loss: 178.5790\n",
      "Epoch 53/100\n",
      "721/721 [==============================] - 0s 166us/step - loss: 17.4624 - val_loss: 179.4562\n",
      "Epoch 54/100\n",
      "721/721 [==============================] - 0s 147us/step - loss: 20.3217 - val_loss: 167.2170\n",
      "Epoch 55/100\n",
      "721/721 [==============================] - 0s 160us/step - loss: 18.1253 - val_loss: 185.0241\n",
      "Epoch 56/100\n",
      "721/721 [==============================] - 0s 163us/step - loss: 16.8439 - val_loss: 192.9238\n",
      "Epoch 57/100\n",
      "721/721 [==============================] - 0s 164us/step - loss: 17.7525 - val_loss: 194.3312\n",
      "Epoch 58/100\n",
      "721/721 [==============================] - 0s 145us/step - loss: 17.0462 - val_loss: 175.7855\n",
      "Epoch 59/100\n",
      "721/721 [==============================] - 0s 163us/step - loss: 15.8809 - val_loss: 178.5232\n",
      "Epoch 60/100\n",
      "721/721 [==============================] - 0s 214us/step - loss: 16.7998 - val_loss: 171.1850\n",
      "Epoch 61/100\n",
      "721/721 [==============================] - 0s 194us/step - loss: 18.9098 - val_loss: 166.3721\n",
      "Epoch 62/100\n",
      "721/721 [==============================] - 0s 162us/step - loss: 17.5387 - val_loss: 203.3859\n",
      "Epoch 63/100\n",
      "721/721 [==============================] - 0s 143us/step - loss: 16.5624 - val_loss: 156.2277\n",
      "Epoch 64/100\n",
      "721/721 [==============================] - 0s 166us/step - loss: 16.2469 - val_loss: 165.5455\n",
      "Epoch 65/100\n",
      "721/721 [==============================] - 0s 164us/step - loss: 15.4051 - val_loss: 162.8225\n",
      "Epoch 66/100\n",
      "721/721 [==============================] - 0s 159us/step - loss: 16.2679 - val_loss: 183.7168\n",
      "Epoch 67/100\n",
      "721/721 [==============================] - 0s 143us/step - loss: 17.2426 - val_loss: 155.8555\n",
      "Epoch 68/100\n",
      "721/721 [==============================] - 0s 193us/step - loss: 16.5981 - val_loss: 170.6558\n",
      "Epoch 69/100\n",
      "721/721 [==============================] - 0s 161us/step - loss: 14.7538 - val_loss: 171.7549\n",
      "Epoch 70/100\n",
      "721/721 [==============================] - 0s 145us/step - loss: 13.7825 - val_loss: 185.6781\n",
      "Epoch 71/100\n",
      "721/721 [==============================] - 0s 157us/step - loss: 14.3899 - val_loss: 194.1995\n",
      "Epoch 72/100\n",
      "721/721 [==============================] - 0s 163us/step - loss: 14.1501 - val_loss: 183.9119\n",
      "Epoch 73/100\n",
      "721/721 [==============================] - 0s 150us/step - loss: 15.3009 - val_loss: 197.1072\n",
      "Epoch 74/100\n",
      "721/721 [==============================] - 0s 151us/step - loss: 14.5057 - val_loss: 175.5047\n",
      "Epoch 75/100\n",
      "721/721 [==============================] - 0s 155us/step - loss: 13.9747 - val_loss: 178.0079\n",
      "Epoch 76/100\n",
      "721/721 [==============================] - 0s 145us/step - loss: 13.4392 - val_loss: 191.1554\n",
      "Epoch 77/100\n",
      "721/721 [==============================] - 0s 158us/step - loss: 14.9503 - val_loss: 181.8900\n",
      "Epoch 78/100\n",
      "721/721 [==============================] - 0s 142us/step - loss: 13.6887 - val_loss: 177.9227\n",
      "Epoch 79/100\n",
      "721/721 [==============================] - 0s 142us/step - loss: 13.4659 - val_loss: 191.5585\n",
      "Epoch 80/100\n",
      "721/721 [==============================] - 0s 155us/step - loss: 12.9750 - val_loss: 181.3993\n",
      "Epoch 81/100\n",
      "721/721 [==============================] - 0s 144us/step - loss: 14.9166 - val_loss: 169.1028\n",
      "Epoch 82/100\n",
      "721/721 [==============================] - 0s 157us/step - loss: 17.4115 - val_loss: 164.0582\n",
      "Epoch 83/100\n",
      "721/721 [==============================] - 0s 147us/step - loss: 13.6887 - val_loss: 159.3220\n",
      "Epoch 84/100\n",
      "721/721 [==============================] - 0s 159us/step - loss: 12.7795 - val_loss: 158.7960\n",
      "Epoch 85/100\n",
      "721/721 [==============================] - 0s 140us/step - loss: 13.7966 - val_loss: 168.0320\n",
      "Epoch 86/100\n",
      "721/721 [==============================] - 0s 146us/step - loss: 13.5351 - val_loss: 165.5986\n",
      "Epoch 87/100\n",
      "721/721 [==============================] - 0s 160us/step - loss: 13.1153 - val_loss: 161.5035\n",
      "Epoch 88/100\n",
      "721/721 [==============================] - 0s 157us/step - loss: 13.0669 - val_loss: 189.1317\n",
      "Epoch 89/100\n",
      "721/721 [==============================] - 0s 146us/step - loss: 11.8737 - val_loss: 167.4145\n",
      "Epoch 90/100\n",
      "721/721 [==============================] - 0s 161us/step - loss: 12.6368 - val_loss: 169.5401\n",
      "Epoch 91/100\n",
      "721/721 [==============================] - 0s 144us/step - loss: 13.5283 - val_loss: 173.3533\n",
      "Epoch 92/100\n",
      "721/721 [==============================] - 0s 179us/step - loss: 12.5827 - val_loss: 171.3743\n",
      "Epoch 93/100\n",
      "721/721 [==============================] - 0s 150us/step - loss: 11.5965 - val_loss: 162.8528\n",
      "Epoch 94/100\n",
      "721/721 [==============================] - 0s 161us/step - loss: 14.1394 - val_loss: 186.3423\n",
      "Epoch 95/100\n",
      "721/721 [==============================] - 0s 139us/step - loss: 13.5887 - val_loss: 165.4498\n",
      "Epoch 96/100\n",
      "721/721 [==============================] - 0s 160us/step - loss: 11.8585 - val_loss: 184.6424\n",
      "Epoch 97/100\n",
      "721/721 [==============================] - 0s 158us/step - loss: 12.0332 - val_loss: 176.7073\n",
      "Epoch 98/100\n",
      "721/721 [==============================] - 0s 143us/step - loss: 11.6584 - val_loss: 177.5910\n",
      "Epoch 99/100\n",
      "721/721 [==============================] - 0s 145us/step - loss: 12.5470 - val_loss: 149.0619\n",
      "Epoch 100/100\n",
      "721/721 [==============================] - 0s 144us/step - loss: 12.9871 - val_loss: 153.3331\n"
     ]
    },
    {
     "data": {
      "text/plain": [
       "<keras.callbacks.History at 0x7f1b416f83d0>"
      ]
     },
     "execution_count": 76,
     "metadata": {},
     "output_type": "execute_result"
    }
   ],
   "source": [
    "#Training the model\n",
    "\n",
    "new_model.fit(predictor_norm,target, validation_split=0.3,epochs=100)"
   ]
  },
  {
   "cell_type": "markdown",
   "metadata": {},
   "source": [
    "### Thank you for completing this lab!\n",
    "\n",
    "This notebook was created by [Alex Aklson](https://www.linkedin.com/in/aklson/?utm_medium=Exinfluencer&utm_source=Exinfluencer&utm_content=000026UJ&utm_term=10006555&utm_id=NA-SkillsNetwork-Channel-SkillsNetworkCoursesIBMDeveloperSkillsNetworkDL0101ENSkillsNetwork945-2022-01-01). I hope you found this lab interesting and educational. Feel free to contact me if you have any questions!\n"
   ]
  },
  {
   "cell_type": "markdown",
   "metadata": {},
   "source": [
    "\n",
    "## Change Log\n",
    "\n",
    "|  Date (YYYY-MM-DD) |  Version | Changed By  |  Change Description |\n",
    "|---|---|---|---|\n",
    "| 2020-09-21  | 2.0  | Srishti  |  Migrated Lab to Markdown and added to course repo in GitLab |\n",
    "\n",
    "\n",
    "\n",
    "<hr>\n",
    "\n",
    "## <h3 align=\"center\"> © IBM Corporation 2020. All rights reserved. <h3/>\n"
   ]
  },
  {
   "cell_type": "markdown",
   "metadata": {},
   "source": [
    "This notebook is part of a course on **Coursera** called *Introduction to Deep Learning & Neural Networks with Keras*. If you accessed this notebook outside the course, you can take this course online by clicking [here](https://cocl.us/DL0101EN_Coursera_Week3_LAB1).\n"
   ]
  },
  {
   "cell_type": "markdown",
   "metadata": {},
   "source": [
    "<hr>\n",
    "\n",
    "Copyright &copy; 2019 [IBM Developer Skills Network](https://cognitiveclass.ai/?utm_medium=dswb&utm_source=bducopyrightlink&utm_content=000026UJ&utm_term=10006555&utm_id=NA-SkillsNetwork-Channel-SkillsNetworkCoursesIBMDeveloperSkillsNetworkDL0101ENSkillsNetwork945-2022-01-01&utm_campaign=bdu). This notebook and its source code are released under the terms of the [MIT License](https://bigdatauniversity.com/mit-license/?utm_medium=Exinfluencer&utm_source=Exinfluencer&utm_content=000026UJ&utm_term=10006555&utm_id=NA-SkillsNetwork-Channel-SkillsNetworkCoursesIBMDeveloperSkillsNetworkDL0101ENSkillsNetwork945-2022-01-01).\n"
   ]
  }
 ],
 "metadata": {
  "kernelspec": {
   "display_name": "Python",
   "language": "python",
   "name": "conda-env-python-py"
  },
  "language_info": {
   "codemirror_mode": {
    "name": "ipython",
    "version": 3
   },
   "file_extension": ".py",
   "mimetype": "text/x-python",
   "name": "python",
   "nbconvert_exporter": "python",
   "pygments_lexer": "ipython3",
   "version": "3.7.12"
  }
 },
 "nbformat": 4,
 "nbformat_minor": 4
}
