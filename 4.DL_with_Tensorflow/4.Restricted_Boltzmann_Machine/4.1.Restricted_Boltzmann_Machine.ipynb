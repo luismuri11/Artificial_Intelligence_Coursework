{
 "cells": [
  {
   "cell_type": "markdown",
   "metadata": {},
   "source": [
    "<img src=\"https://cf-courses-data.s3.us.cloud-object-storage.appdomain.cloud/IBMDeveloperSkillsNetwork-DL0120EN-SkillsNetwork/images/IDSN-logo.png\" width=\"300\" alt=\"cognitiveclass.ai logo\">\n",
    "\n",
    "<h1 align=\"center\"><font size=\"5\">RESTRICTED BOLTZMANN MACHINES</font></h1>\n"
   ]
  },
  {
   "cell_type": "markdown",
   "metadata": {},
   "source": [
    "Estimated time needed: **25** minutes\n"
   ]
  },
  {
   "cell_type": "markdown",
   "metadata": {},
   "source": [
    "<h3>Introduction</h3>\n",
    "<b>Restricted Boltzmann Machine (RBM):</b>  RBMs are shallow neural nets that learn to reconstruct data by themselves in an unsupervised fashion.  \n",
    "\n",
    "\n",
    "<h4>Why are RBMs important?</h4>\n",
    "An RBM are a basic form of autoencoder.  It can automatically extract <b>meaningful</b> features from a given input.\n",
    "\n",
    "\n",
    "<h4>How does it work?</h4>\n",
    "RBM is a 2 layer neural network. Simply, RBM takes the inputs and translates those into a set of binary values that represents them in the hidden layer. Then, these numbers can be translated back to reconstruct the inputs. Through several forward and backward passes, the RBM will be trained, and a trained RBM can reveal which features are the most important ones when detecting patterns.   \n",
    "\n",
    "\n",
    "<h4>What are the applications of an RBM?</h4>\n",
    "RBM is useful for <a href='http://www.cs.utoronto.ca/~hinton/absps/netflixICML.pdf?utm_medium=Exinfluencer&utm_source=Exinfluencer&utm_content=000026UJ&utm_term=10006555&utm_id=NA-SkillsNetwork-Channel-SkillsNetworkCoursesIBMDeveloperSkillsNetworkDL0120ENSkillsNetwork954-2023-01-01'>  Collaborative Filtering</a>, dimensionality reduction, classification, regression, feature learning, topic modeling and even <b>Deep Belief Networks</b>.\n",
    "\n",
    "<h4>Is RBM a generative or Discriminative model?</h4>\n",
    "RBM is a generative model. Let me explain it by first, see what is different between discriminative and generative models: \n",
    "\n",
    "<b>Discriminative:</b> Consider a classification problem where we want to learn to distinguish between Sedan cars (y = 1) and SUV cars (y = 0), based on some features of cars. Given a training set, an algorithm like logistic regression tries to find a straight line, or <i>decision boundary</i>, that separates the suv and sedan.  \n",
    "\n",
    "<b>Generative:</b> looking at cars, we can build a model of what Sedan cars look like. Then, looking at SUVs, we can build a separate model of what SUV cars look like. Finally, to classify a new car, we can match the new car against the Sedan model, and match it against the SUV model, to see whether the new car looks more like the SUV or Sedan. \n",
    "\n",
    "Generative Models specify a probability distribution over a dataset of input vectors. We can carry out both supervised and unsupervised tasks with generative models:\n",
    "<ul>\n",
    "    <li>In an unsupervised task, we try to form a model for $P(x)$, where $P$ is the probability given $x$ as an input vector.</li>\n",
    "    <li>In the supervised task, we first form a model for $P(x|y)$, where $P$ is the probability of $x$ given $y$(the label for $x$). For example, if $y = 0$ indicates that a car is an SUV, and $y = 1$ indicates that a car is a sedan, then $p(x|y = 0)$ models the distribution of SUV features, and $p(x|y = 1)$ models the distribution of sedan features. If we manage to find $P(x|y)$ and $P(y)$, then we can use <b>Bayes rule</b> to estimate $P(y|x)$, because:   \n",
    "        $$p(y|x) = \\frac{p(x|y)p(y)}{p(x)}$$</li>\n",
    "</ul>\n",
    "Now the question is, can we build a generative model, and then use it to create synthetic data by directly sampling from the modeled probability distributions? Lets see. \n"
   ]
  },
  {
   "cell_type": "markdown",
   "metadata": {},
   "source": [
    "<h2>Table of Contents</h2>\n",
    "<ol>\n",
    "    <li><a href=\"#ref1\">Initialization</a></li>\n",
    "    <li><a href=\"#ref2\">RBM layers</a></li>\n",
    "    <li><a href=\"#ref3\">What RBM can do after training?</a></li>\n",
    "    <li><a href=\"#ref4\">How to train the model?</a></li>\n",
    "    <li><a href=\"#ref5\">Learned features</a></li>\n",
    "</ol>\n",
    "<p></p>\n",
    "</div>\n",
    "<br>\n",
    "\n",
    "<hr>\n"
   ]
  },
  {
   "cell_type": "markdown",
   "metadata": {},
   "source": [
    "<a id=\"ref1\"></a>\n",
    "<h3>Initialization</h3>\n",
    "\n",
    "First, we have to load the utility file which contains different utility functions that are not connected\n",
    "in any way to the networks presented in the tutorials, but rather help in\n",
    "processing the outputs into a more understandable way.\n"
   ]
  },
  {
   "cell_type": "code",
   "execution_count": 1,
   "metadata": {
    "tags": []
   },
   "outputs": [],
   "source": [
    "import urllib.request\n",
    "with urllib.request.urlopen(\"https://cf-courses-data.s3.us.cloud-object-storage.appdomain.cloud/IBMDeveloperSkillsNetwork-DL0120EN-SkillsNetwork/labs/Week4/data/utils.py\") as url:\n",
    "    response = url.read()\n",
    "target = open('utils.py', 'w')\n",
    "target.write(response.decode('utf-8'))\n",
    "target.close()"
   ]
  },
  {
   "cell_type": "markdown",
   "metadata": {},
   "source": [
    "<h2>Installing TensorFlow </h2>\n",
    "\n",
    "We will installing TensorFlow version 2.9.0 and its required prerequistes.  Also installing pillow...\n"
   ]
  },
  {
   "cell_type": "code",
   "execution_count": 2,
   "metadata": {
    "tags": []
   },
   "outputs": [
    {
     "name": "stdout",
     "output_type": "stream",
     "text": [
      "Requirement already satisfied: grpcio==1.24.3 in /home/jupyterlab/conda/envs/python/lib/python3.7/site-packages (1.24.3)\n",
      "Requirement already satisfied: six>=1.5.2 in /home/jupyterlab/conda/envs/python/lib/python3.7/site-packages (from grpcio==1.24.3) (1.16.0)\n",
      "Requirement already satisfied: tensorflow==2.9.0 in /home/jupyterlab/conda/envs/python/lib/python3.7/site-packages (2.9.0)\n",
      "Requirement already satisfied: absl-py>=1.0.0 in /home/jupyterlab/conda/envs/python/lib/python3.7/site-packages (from tensorflow==2.9.0) (1.4.0)\n",
      "Requirement already satisfied: astunparse>=1.6.0 in /home/jupyterlab/conda/envs/python/lib/python3.7/site-packages (from tensorflow==2.9.0) (1.6.3)\n",
      "Requirement already satisfied: flatbuffers<2,>=1.12 in /home/jupyterlab/conda/envs/python/lib/python3.7/site-packages (from tensorflow==2.9.0) (1.12)\n",
      "Requirement already satisfied: gast<=0.4.0,>=0.2.1 in /home/jupyterlab/conda/envs/python/lib/python3.7/site-packages (from tensorflow==2.9.0) (0.4.0)\n",
      "Requirement already satisfied: google-pasta>=0.1.1 in /home/jupyterlab/conda/envs/python/lib/python3.7/site-packages (from tensorflow==2.9.0) (0.2.0)\n",
      "Requirement already satisfied: grpcio<2.0,>=1.24.3 in /home/jupyterlab/conda/envs/python/lib/python3.7/site-packages (from tensorflow==2.9.0) (1.24.3)\n",
      "Requirement already satisfied: h5py>=2.9.0 in /home/jupyterlab/conda/envs/python/lib/python3.7/site-packages (from tensorflow==2.9.0) (3.8.0)\n",
      "Requirement already satisfied: keras<2.10.0,>=2.9.0rc0 in /home/jupyterlab/conda/envs/python/lib/python3.7/site-packages (from tensorflow==2.9.0) (2.9.0)\n",
      "Requirement already satisfied: keras-preprocessing>=1.1.1 in /home/jupyterlab/conda/envs/python/lib/python3.7/site-packages (from tensorflow==2.9.0) (1.1.2)\n",
      "Requirement already satisfied: libclang>=13.0.0 in /home/jupyterlab/conda/envs/python/lib/python3.7/site-packages (from tensorflow==2.9.0) (16.0.6)\n",
      "Requirement already satisfied: numpy>=1.20 in /home/jupyterlab/conda/envs/python/lib/python3.7/site-packages (from tensorflow==2.9.0) (1.21.6)\n",
      "Requirement already satisfied: opt-einsum>=2.3.2 in /home/jupyterlab/conda/envs/python/lib/python3.7/site-packages (from tensorflow==2.9.0) (3.3.0)\n",
      "Requirement already satisfied: packaging in /home/jupyterlab/conda/envs/python/lib/python3.7/site-packages (from tensorflow==2.9.0) (23.1)\n",
      "Requirement already satisfied: protobuf>=3.9.2 in /home/jupyterlab/conda/envs/python/lib/python3.7/site-packages (from tensorflow==2.9.0) (3.19.6)\n",
      "Requirement already satisfied: setuptools in /home/jupyterlab/conda/envs/python/lib/python3.7/site-packages (from tensorflow==2.9.0) (67.7.2)\n",
      "Requirement already satisfied: six>=1.12.0 in /home/jupyterlab/conda/envs/python/lib/python3.7/site-packages (from tensorflow==2.9.0) (1.16.0)\n",
      "Requirement already satisfied: tensorboard<2.10,>=2.9 in /home/jupyterlab/conda/envs/python/lib/python3.7/site-packages (from tensorflow==2.9.0) (2.9.1)\n",
      "Requirement already satisfied: tensorflow-io-gcs-filesystem>=0.23.1 in /home/jupyterlab/conda/envs/python/lib/python3.7/site-packages (from tensorflow==2.9.0) (0.33.0)\n",
      "Requirement already satisfied: tensorflow-estimator<2.10.0,>=2.9.0rc0 in /home/jupyterlab/conda/envs/python/lib/python3.7/site-packages (from tensorflow==2.9.0) (2.9.0)\n",
      "Requirement already satisfied: termcolor>=1.1.0 in /home/jupyterlab/conda/envs/python/lib/python3.7/site-packages (from tensorflow==2.9.0) (2.3.0)\n",
      "Requirement already satisfied: typing-extensions>=3.6.6 in /home/jupyterlab/conda/envs/python/lib/python3.7/site-packages (from tensorflow==2.9.0) (4.5.0)\n",
      "Requirement already satisfied: wrapt>=1.11.0 in /home/jupyterlab/conda/envs/python/lib/python3.7/site-packages (from tensorflow==2.9.0) (1.14.1)\n",
      "Requirement already satisfied: wheel<1.0,>=0.23.0 in /home/jupyterlab/conda/envs/python/lib/python3.7/site-packages (from astunparse>=1.6.0->tensorflow==2.9.0) (0.40.0)\n",
      "Requirement already satisfied: google-auth<3,>=1.6.3 in /home/jupyterlab/conda/envs/python/lib/python3.7/site-packages (from tensorboard<2.10,>=2.9->tensorflow==2.9.0) (2.22.0)\n",
      "Requirement already satisfied: google-auth-oauthlib<0.5,>=0.4.1 in /home/jupyterlab/conda/envs/python/lib/python3.7/site-packages (from tensorboard<2.10,>=2.9->tensorflow==2.9.0) (0.4.6)\n",
      "Requirement already satisfied: markdown>=2.6.8 in /home/jupyterlab/conda/envs/python/lib/python3.7/site-packages (from tensorboard<2.10,>=2.9->tensorflow==2.9.0) (3.4.3)\n",
      "Requirement already satisfied: requests<3,>=2.21.0 in /home/jupyterlab/conda/envs/python/lib/python3.7/site-packages (from tensorboard<2.10,>=2.9->tensorflow==2.9.0) (2.29.0)\n",
      "Requirement already satisfied: tensorboard-data-server<0.7.0,>=0.6.0 in /home/jupyterlab/conda/envs/python/lib/python3.7/site-packages (from tensorboard<2.10,>=2.9->tensorflow==2.9.0) (0.6.1)\n",
      "Requirement already satisfied: tensorboard-plugin-wit>=1.6.0 in /home/jupyterlab/conda/envs/python/lib/python3.7/site-packages (from tensorboard<2.10,>=2.9->tensorflow==2.9.0) (1.8.1)\n",
      "Requirement already satisfied: werkzeug>=1.0.1 in /home/jupyterlab/conda/envs/python/lib/python3.7/site-packages (from tensorboard<2.10,>=2.9->tensorflow==2.9.0) (2.2.3)\n",
      "Requirement already satisfied: cachetools<6.0,>=2.0.0 in /home/jupyterlab/conda/envs/python/lib/python3.7/site-packages (from google-auth<3,>=1.6.3->tensorboard<2.10,>=2.9->tensorflow==2.9.0) (5.3.1)\n",
      "Requirement already satisfied: pyasn1-modules>=0.2.1 in /home/jupyterlab/conda/envs/python/lib/python3.7/site-packages (from google-auth<3,>=1.6.3->tensorboard<2.10,>=2.9->tensorflow==2.9.0) (0.3.0)\n",
      "Requirement already satisfied: rsa<5,>=3.1.4 in /home/jupyterlab/conda/envs/python/lib/python3.7/site-packages (from google-auth<3,>=1.6.3->tensorboard<2.10,>=2.9->tensorflow==2.9.0) (4.9)\n",
      "Requirement already satisfied: urllib3<2.0 in /home/jupyterlab/conda/envs/python/lib/python3.7/site-packages (from google-auth<3,>=1.6.3->tensorboard<2.10,>=2.9->tensorflow==2.9.0) (1.26.15)\n",
      "Requirement already satisfied: requests-oauthlib>=0.7.0 in /home/jupyterlab/conda/envs/python/lib/python3.7/site-packages (from google-auth-oauthlib<0.5,>=0.4.1->tensorboard<2.10,>=2.9->tensorflow==2.9.0) (1.3.1)\n",
      "Requirement already satisfied: importlib-metadata>=4.4 in /home/jupyterlab/conda/envs/python/lib/python3.7/site-packages (from markdown>=2.6.8->tensorboard<2.10,>=2.9->tensorflow==2.9.0) (4.11.4)\n",
      "Requirement already satisfied: charset-normalizer<4,>=2 in /home/jupyterlab/conda/envs/python/lib/python3.7/site-packages (from requests<3,>=2.21.0->tensorboard<2.10,>=2.9->tensorflow==2.9.0) (3.1.0)\n",
      "Requirement already satisfied: idna<4,>=2.5 in /home/jupyterlab/conda/envs/python/lib/python3.7/site-packages (from requests<3,>=2.21.0->tensorboard<2.10,>=2.9->tensorflow==2.9.0) (3.4)\n",
      "Requirement already satisfied: certifi>=2017.4.17 in /home/jupyterlab/conda/envs/python/lib/python3.7/site-packages (from requests<3,>=2.21.0->tensorboard<2.10,>=2.9->tensorflow==2.9.0) (2023.5.7)\n",
      "Requirement already satisfied: MarkupSafe>=2.1.1 in /home/jupyterlab/conda/envs/python/lib/python3.7/site-packages (from werkzeug>=1.0.1->tensorboard<2.10,>=2.9->tensorflow==2.9.0) (2.1.1)\n",
      "Requirement already satisfied: zipp>=0.5 in /home/jupyterlab/conda/envs/python/lib/python3.7/site-packages (from importlib-metadata>=4.4->markdown>=2.6.8->tensorboard<2.10,>=2.9->tensorflow==2.9.0) (3.15.0)\n",
      "Requirement already satisfied: pyasn1<0.6.0,>=0.4.6 in /home/jupyterlab/conda/envs/python/lib/python3.7/site-packages (from pyasn1-modules>=0.2.1->google-auth<3,>=1.6.3->tensorboard<2.10,>=2.9->tensorflow==2.9.0) (0.5.0)\n",
      "Requirement already satisfied: oauthlib>=3.0.0 in /home/jupyterlab/conda/envs/python/lib/python3.7/site-packages (from requests-oauthlib>=0.7.0->google-auth-oauthlib<0.5,>=0.4.1->tensorboard<2.10,>=2.9->tensorflow==2.9.0) (3.2.2)\n",
      "Requirement already satisfied: pillow==8.1.0 in /home/jupyterlab/conda/envs/python/lib/python3.7/site-packages (8.1.0)\n"
     ]
    }
   ],
   "source": [
    "!pip install grpcio==1.24.3\n",
    "!pip install tensorflow==2.9.0\n",
    "!pip install pillow==8.1.0"
   ]
  },
  {
   "cell_type": "markdown",
   "metadata": {},
   "source": [
    "<b>Notice:</b> This notebook has been created with TensorFlow version 2.9.0, and might not work with other versions. Therefore we check:\n"
   ]
  },
  {
   "cell_type": "code",
   "execution_count": 3,
   "metadata": {
    "tags": []
   },
   "outputs": [
    {
     "name": "stderr",
     "output_type": "stream",
     "text": [
      "2023-08-18 16:50:07.891896: I tensorflow/core/util/util.cc:169] oneDNN custom operations are on. You may see slightly different numerical results due to floating-point round-off errors from different computation orders. To turn them off, set the environment variable `TF_ENABLE_ONEDNN_OPTS=0`.\n",
      "2023-08-18 16:50:07.899240: W tensorflow/stream_executor/platform/default/dso_loader.cc:64] Could not load dynamic library 'libcudart.so.11.0'; dlerror: libcudart.so.11.0: cannot open shared object file: No such file or directory\n",
      "2023-08-18 16:50:07.899268: I tensorflow/stream_executor/cuda/cudart_stub.cc:29] Ignore above cudart dlerror if you do not have a GPU set up on your machine.\n"
     ]
    }
   ],
   "source": [
    "import tensorflow as tf\n",
    "from IPython.display import Markdown, display\n",
    "\n",
    "def printmd(string):\n",
    "    display(Markdown('# <span style=\"color:red\">'+string+'</span>'))\n",
    "\n",
    "\n",
    "if not tf.__version__ == '2.9.0':\n",
    "    printmd('<<<<<!!!!! ERROR !!!! please upgrade to TensorFlow 2.9.0, or restart your Kernel (Kernel->Restart & Clear Output)>>>>>')"
   ]
  },
  {
   "cell_type": "markdown",
   "metadata": {},
   "source": [
    "Now, we load in all the packages that we use to create the net including the TensorFlow package:\n"
   ]
  },
  {
   "cell_type": "code",
   "execution_count": 4,
   "metadata": {
    "tags": []
   },
   "outputs": [],
   "source": [
    "import tensorflow as tf\n",
    "import numpy as np\n",
    "\n",
    "from PIL import Image\n",
    "from utils import tile_raster_images\n",
    "import matplotlib.pyplot as plt\n",
    "%matplotlib inline"
   ]
  },
  {
   "cell_type": "markdown",
   "metadata": {},
   "source": [
    "<hr>\n"
   ]
  },
  {
   "cell_type": "markdown",
   "metadata": {},
   "source": [
    "<a id=\"ref2\"></a>\n",
    "<h3>RBM layers</h3>\n",
    "\n",
    "An RBM has two layers. The first layer of the RBM is called the <b>visible</b> (or input layer). Imagine that our toy example, has only vectors with 7 values, so the visible layer must have $V=7$ input nodes. \n",
    "The second layer is the <b>hidden</b> layer, which has $H$ neurons in our case. Each hidden node takes on values of either 0 or 1 (i.e., $h_i = 1$ or $h_i$ = 0), with a probability that is a logistic function of the inputs it receives from the other $V$ visible units, called for example, $p(h_i = 1)$. For our toy sample, we'll use 2 nodes in the hidden layer, so $H = 2$.\n",
    "\n",
    "<center><img src=\"https://ibm.box.com/shared/static/eu26opvcefgls6vnwuo29uwp0nudmokh.png\" alt=\"RBM Model\" style=\"width: 400px;\"></center>\n"
   ]
  },
  {
   "cell_type": "markdown",
   "metadata": {},
   "source": [
    "     \n",
    "\n",
    "Each node in the first layer also has a <b>bias</b>. We will denote the bias as $v_{bias}$, and this single value is shared among the $V$ visible units.\n",
    "\n",
    "The <b>bias</b> of the second is defined similarly as $h_{bias}$, and this single value among the $H$ hidden units.\n"
   ]
  },
  {
   "cell_type": "code",
   "execution_count": 5,
   "metadata": {
    "tags": []
   },
   "outputs": [
    {
     "name": "stderr",
     "output_type": "stream",
     "text": [
      "2023-08-18 16:50:10.670459: W tensorflow/stream_executor/platform/default/dso_loader.cc:64] Could not load dynamic library 'libcuda.so.1'; dlerror: libcuda.so.1: cannot open shared object file: No such file or directory\n",
      "2023-08-18 16:50:10.670523: W tensorflow/stream_executor/cuda/cuda_driver.cc:269] failed call to cuInit: UNKNOWN ERROR (303)\n",
      "2023-08-18 16:50:10.670557: I tensorflow/stream_executor/cuda/cuda_diagnostics.cc:156] kernel driver does not appear to be running on this host (jupyterlab-luisalvarado): /proc/driver/nvidia/version does not exist\n",
      "2023-08-18 16:50:10.670947: I tensorflow/core/platform/cpu_feature_guard.cc:193] This TensorFlow binary is optimized with oneAPI Deep Neural Network Library (oneDNN) to use the following CPU instructions in performance-critical operations:  AVX2 AVX512F AVX512_VNNI FMA\n",
      "To enable them in other operations, rebuild TensorFlow with the appropriate compiler flags.\n"
     ]
    }
   ],
   "source": [
    "v_bias = tf.Variable(tf.zeros([7]), tf.float32)\n",
    "h_bias = tf.Variable(tf.zeros([2]), tf.float32)"
   ]
  },
  {
   "cell_type": "markdown",
   "metadata": {},
   "source": [
    "We have to define weights among the input layer and hidden layer nodes. In the weight matrix, the number of rows are equal to the input nodes, and the number of columns are equal to the output nodes. We define a tensor $\\mathbf{W}$ of shape = (7,2), where the number of visible neurons = 7, and the number of hidden neurons = 2. \n"
   ]
  },
  {
   "cell_type": "code",
   "execution_count": 6,
   "metadata": {
    "tags": []
   },
   "outputs": [
    {
     "data": {
      "text/plain": [
       "<tf.Tensor: shape=(7, 2), dtype=float32, numpy=\n",
       "array([[ 1.3719224 , -0.5702638 ],\n",
       "       [-0.17159009, -0.01873972],\n",
       "       [ 0.68223494,  0.2520492 ],\n",
       "       [ 2.295495  , -0.520245  ],\n",
       "       [ 1.1157534 ,  0.34742415],\n",
       "       [ 0.28720674, -0.9054699 ],\n",
       "       [-0.9744072 , -2.0459096 ]], dtype=float32)>"
      ]
     },
     "execution_count": 6,
     "metadata": {},
     "output_type": "execute_result"
    }
   ],
   "source": [
    "W = tf.constant(np.random.normal(loc=0.0, scale=1.0, size=(7, 2)).astype(np.float32))\n",
    "W"
   ]
  },
  {
   "cell_type": "markdown",
   "metadata": {},
   "source": [
    "<hr>\n"
   ]
  },
  {
   "cell_type": "markdown",
   "metadata": {},
   "source": [
    "<a id=\"ref3\"></a>\n",
    "<h3>What RBM can do after training?</h3>\n",
    "Think of RBM as a model that has been trained based on images of a dataset of many SUV and sedan cars. Also, imagine that the RBM network has only two hidden nodes, where one node encodes the weight and, and the other encodes the size.  \n",
    "In a sense, the different configurations represent different cars, where one is an SUV and the other is Sedan.  In a training process, through many forward and backward passes, the RBM adjust its weights to send a stronger signal to either the SUV node (0, 1) or the sedan node (1, 0) in the hidden layer, given the pixels of images. Now, given an SUV in hidden layer, which distribution of pixels should we expect? RBM can give you 2 things. First, it encodes your images in hidden layer. Second, it gives you the probability of observing a case, given some hidden values.\n",
    "\n",
    "\n",
    "<h3>The Inference Process</h3>\n",
    "\n",
    "RBM has two phases:\n",
    "<ul>\n",
    "    <li>Forward Pass</li>  \n",
    "    <li>Backward Pass or Reconstruction</li>\n",
    "</ul>\n",
    "\n",
    "<b>Phase 1) Forward pass:</b>  \n",
    "\n",
    "Input one training sample (one image) $\\mathbf{x}$ through all visible nodes, and pass it to all hidden nodes. Processing happens in each node in the hidden layer. This computation begins by making stochastic decisions about whether to transmit that input or not (i.e. to determine the state of each hidden layer).  First, the probability vector is computed using the input feature vector $\\mathbf{x}$, the weight matrix $\\mathbf{W}$, and the bias term $h_{bias}$, as \n",
    "\n",
    "\n",
    "$$p({h_j}|\\mathbf x)= \\sigma( \\sum_{i=1}^V W_{ij} x_i + h_{bias} )$$, \n",
    "\n",
    "where $\\sigma(z) = (1+e^{-z})^{-1}$ is the logistic function.\n",
    "\n",
    "\n",
    "So, what does $p({h_j})$ represent? It is the <b>probability distribution</b> of the hidden units. That is, RBM uses inputs $x_i$ to make predictions about hidden node activations. For example, imagine that the hidden node activation values are [0.51 0.84] for the first training item. It tells you that the conditional probability for each hidden neuron for Phase 1 is: \n",
    "\n",
    "$$p(h_{1} = 1|\\mathbf{v}) = 0.51$$\n",
    "$$p(h_{2} = 1|\\mathbf{v}) = 0.84$$\n",
    "\n",
    "As a result, for each row in the training set, vector of probabilities is generated.  In TensorFlow, this is referred to as a `tensor` with a shape of (1,2). \n",
    "\n",
    "We then turn unit $j$ with probability $p(h_{j}|\\mathbf{v})$, and turn it off with probability $1 - p(h_{j}|\\mathbf{v})$ by generating a uniform random number vector $\\mathbf{\\xi}$, and comparing it to the activation probability as \n",
    "\n",
    "<center>If $\\xi_j>p(h_{j}|\\mathbf{v})$, then $h_j=1$, else $h_j=0$.</center>\n",
    "\n",
    "\n",
    "Therefore, the conditional probability of a configuration of $\\mathbf{h}$ given $\\mathbf{v}$ (for a training sample) is:\n",
    "\n",
    "$$p(\\mathbf{h} \\mid \\mathbf{v}) = \\prod_{j=1}^H p(h_j \\mid \\mathbf{v})$$\n",
    "\n",
    "\n",
    "where $H$ is the number of hidden units.\n",
    "\n"
   ]
  },
  {
   "cell_type": "markdown",
   "metadata": {},
   "source": [
    "Before we go further, let's look at a toy example for one case out of all input. Assume that we have a trained RBM, and a very simple input vector, such as [1.0, 0.0, 0.0, 1.0, 0.0, 0.0, 0.0].   \n",
    "Let's see what the output of forward pass would look like:\n"
   ]
  },
  {
   "cell_type": "code",
   "execution_count": 7,
   "metadata": {
    "tags": []
   },
   "outputs": [
    {
     "name": "stdout",
     "output_type": "stream",
     "text": [
      "Input:  tf.Tensor([[1. 0. 0. 1. 0. 0. 0.]], shape=(1, 7), dtype=float32)\n",
      "hb:  tf.Tensor([0.1 0.1], shape=(2,), dtype=float32)\n",
      "w:  tf.Tensor(\n",
      "[[ 1.3719224  -0.5702638 ]\n",
      " [-0.17159009 -0.01873972]\n",
      " [ 0.68223494  0.2520492 ]\n",
      " [ 2.295495   -0.520245  ]\n",
      " [ 1.1157534   0.34742415]\n",
      " [ 0.28720674 -0.9054699 ]\n",
      " [-0.9744072  -2.0459096 ]], shape=(7, 2), dtype=float32)\n",
      "p(h|v):  tf.Tensor([[0.97741044 0.2708116 ]], shape=(1, 2), dtype=float32)\n",
      "h0 states: tf.Tensor([[1. 1.]], shape=(1, 2), dtype=float32)\n"
     ]
    }
   ],
   "source": [
    "X = tf.constant([[1.0, 0.0, 0.0, 1.0, 0.0, 0.0, 0.0]], tf.float32)\n",
    "\n",
    "v_state = X\n",
    "print (\"Input: \", v_state)\n",
    "\n",
    "h_bias = tf.constant([0.1, 0.1])\n",
    "print (\"hb: \", h_bias)\n",
    "print (\"w: \", W)\n",
    "\n",
    "# Calculate the probabilities of turning the hidden units on:\n",
    "h_prob = tf.nn.sigmoid(tf.matmul(v_state, W) + h_bias)  #probabilities of the hidden units\n",
    "print (\"p(h|v): \", h_prob)\n",
    "\n",
    "# Draw samples from the distribution:\n",
    "h_state = tf.nn.relu(tf.sign(h_prob - tf.random.uniform(tf.shape(h_prob)))) #states\n",
    "print (\"h0 states:\", h_state)"
   ]
  },
  {
   "cell_type": "markdown",
   "metadata": {},
   "source": [
    "<b>Phase 2) Backward Pass (Reconstruction):</b>\n",
    "The RBM reconstructs data by making several forward and backward passes between the visible and hidden layers.\n",
    "\n",
    "So, in the second phase (i.e. reconstruction phase), the samples from the hidden layer (i.e. $\\mathbf h$) becomes the input in the backward pass. The same weight matrix and visible layer biases are used to passed to the sigmoid function. The reproduced output is a reconstruction which is an approximation of the original input.\n"
   ]
  },
  {
   "cell_type": "code",
   "execution_count": 8,
   "metadata": {
    "tags": []
   },
   "outputs": [
    {
     "name": "stdout",
     "output_type": "stream",
     "text": [
      "b:  tf.Tensor([0.1 0.2 0.1 0.1 0.1 0.2 0.1], shape=(7,), dtype=float32)\n",
      "p(vi∣h):  tf.Tensor(\n",
      "[[0.71129024 0.50241756 0.73774564 0.8670646  0.82680887 0.39693242\n",
      "  0.05115832]], shape=(1, 7), dtype=float32)\n",
      "v probability states:  tf.Tensor([[1. 1. 0. 1. 1. 0. 0.]], shape=(1, 7), dtype=float32)\n"
     ]
    }
   ],
   "source": [
    "vb = tf.constant([0.1, 0.2, 0.1, 0.1, 0.1, 0.2, 0.1])\n",
    "print (\"b: \", vb)\n",
    "v_prob = tf.nn.sigmoid(tf.matmul(h_state, tf.transpose(W)) + vb)\n",
    "print (\"p(vi∣h): \", v_prob)\n",
    "v_state = tf.nn.relu(tf.sign(v_prob - tf.random.uniform(tf.shape(v_prob))))\n",
    "print (\"v probability states: \", v_state)"
   ]
  },
  {
   "cell_type": "markdown",
   "metadata": {},
   "source": [
    "RBM learns a probability distribution over the input, and then, after being trained, the RBM can generate new samples from the learned probability distribution. As you know, <b>probability distribution</b>, is a mathematical function that provides the probabilities of occurrence of different possible outcomes in an experiment.\n",
    "\n",
    "The (conditional) probability distribution over the visible units v is given by\n",
    "\n",
    "$$p(\\mathbf{v} \\mid \\mathbf{h}) = \\prod_{i=1}^V p(v_i \\mid \\mathbf{h}),$$\n",
    "\n",
    "\n",
    "where,\n",
    "\n",
    "$$p(v_i \\mid \\mathbf{h}) = \\sigma\\left(\\sum_{j=1}^H W_{ji} h_j + v_{bias} \\right)$$\n",
    "\n",
    "so, given current state of hidden units and weights, what is the probability of generating [1. 0. 0. 1. 0. 0. 0.] in reconstruction phase, based on the above <b>probability distribution</b> function?\n"
   ]
  },
  {
   "cell_type": "code",
   "execution_count": 9,
   "metadata": {
    "tags": []
   },
   "outputs": [
    {
     "name": "stdout",
     "output_type": "stream",
     "text": [
      "input X: [[1. 0. 0. 1. 0. 0. 0.]]\n",
      "probablity vector: [0.71129024 0.50241756 0.73774564 0.8670646  0.82680887 0.39693242\n",
      " 0.05115832]\n",
      "probability of generating X:  0.007975749\n"
     ]
    }
   ],
   "source": [
    "inp = X\n",
    "print(\"input X:\" , inp.numpy())\n",
    "\n",
    "print(\"probablity vector:\" , v_prob[0].numpy())\n",
    "v_probability = 1\n",
    "\n",
    "for elm, p in zip(inp[0],v_prob[0]) :\n",
    "    if elm ==1:\n",
    "        v_probability *= p\n",
    "    else:\n",
    "        v_probability *= (1-p)\n",
    "\n",
    "print(\"probability of generating X: \" , v_probability.numpy())"
   ]
  },
  {
   "cell_type": "markdown",
   "metadata": {},
   "source": [
    "How similar are vectors $\\mathbf{x}$ and $\\mathbf{v}$? Of course, the reconstructed values most likely will not look anything like the input vector, because our network has not been trained yet. Our objective is to train the model in such a way that the input vector and reconstructed vector to be same. Therefore, based on how different the input values look to the ones that we just reconstructed, the weights are adjusted. \n"
   ]
  },
  {
   "cell_type": "markdown",
   "metadata": {},
   "source": [
    "<hr>\n"
   ]
  },
  {
   "cell_type": "markdown",
   "metadata": {},
   "source": [
    "\n",
    "<h2>MNIST</h2>\n"
   ]
  },
  {
   "cell_type": "markdown",
   "metadata": {},
   "source": [
    "We will be using the MNIST dataset to practice the usage of RBMs. The following cell loads the MNIST dataset.\n"
   ]
  },
  {
   "cell_type": "code",
   "execution_count": 10,
   "metadata": {
    "tags": []
   },
   "outputs": [],
   "source": [
    "#loading training and test data\n",
    "mnist = tf.keras.datasets.mnist\n",
    "(trX, trY), (teX, teY) = mnist.load_data()\n",
    "\n",
    "# showing an example of the Flatten class and operation\n",
    "from tensorflow.keras.layers import Flatten\n",
    "flatten = Flatten(dtype='float32')\n",
    "trX = flatten(trX/255.0)\n",
    "trY = flatten(trY/255.0)"
   ]
  },
  {
   "cell_type": "markdown",
   "metadata": {},
   "source": [
    "Lets look at the dimension of the images.\n"
   ]
  },
  {
   "cell_type": "markdown",
   "metadata": {},
   "source": [
    "MNIST images have 784 pixels, so the visible layer must have 784 input nodes.  For our case, we'll use 50 nodes in the hidden layer, so i = 50.\n"
   ]
  },
  {
   "cell_type": "code",
   "execution_count": 11,
   "metadata": {
    "tags": []
   },
   "outputs": [],
   "source": [
    "vb = tf.Variable(tf.zeros([784]), tf.float32)\n",
    "hb = tf.Variable(tf.zeros([50]), tf.float32)"
   ]
  },
  {
   "cell_type": "markdown",
   "metadata": {},
   "source": [
    "Let $\\mathbf W$ be the Tensor of 784x50 (784 - number of visible neurons, 50 - number of hidden neurons) that represents weights between the neurons. \n"
   ]
  },
  {
   "cell_type": "code",
   "execution_count": 12,
   "metadata": {
    "tags": []
   },
   "outputs": [],
   "source": [
    "W = tf.Variable(tf.zeros([784,50]), tf.float32)"
   ]
  },
  {
   "cell_type": "markdown",
   "metadata": {},
   "source": [
    "Lets define the visible layer:\n"
   ]
  },
  {
   "cell_type": "code",
   "execution_count": 13,
   "metadata": {
    "tags": []
   },
   "outputs": [
    {
     "data": {
      "text/plain": [
       "<tf.Tensor: shape=(1, 50), dtype=float32, numpy=\n",
       "array([[0., 0., 0., 0., 0., 0., 0., 0., 0., 0., 0., 0., 0., 0., 0., 0.,\n",
       "        0., 0., 0., 0., 0., 0., 0., 0., 0., 0., 0., 0., 0., 0., 0., 0.,\n",
       "        0., 0., 0., 0., 0., 0., 0., 0., 0., 0., 0., 0., 0., 0., 0., 0.,\n",
       "        0., 0.]], dtype=float32)>"
      ]
     },
     "execution_count": 13,
     "metadata": {},
     "output_type": "execute_result"
    }
   ],
   "source": [
    "v0_state = tf.Variable(tf.zeros([784]), tf.float32)\n",
    "\n",
    "#testing to see if the matrix product works\n",
    "tf.matmul( [v0_state], W)"
   ]
  },
  {
   "cell_type": "markdown",
   "metadata": {},
   "source": [
    "Now, we can define hidden layer:\n"
   ]
  },
  {
   "cell_type": "code",
   "execution_count": 14,
   "metadata": {
    "tags": []
   },
   "outputs": [
    {
     "name": "stdout",
     "output_type": "stream",
     "text": [
      "h0_state shape:  tf.Tensor([ 1 50], shape=(2,), dtype=int32)\n",
      "first 15 hidden states:  tf.Tensor([1. 0. 1. 0. 1. 1. 0. 1. 0. 1. 0. 1. 1. 1. 1.], shape=(15,), dtype=float32)\n"
     ]
    }
   ],
   "source": [
    "#computing the hidden nodes probability vector and checking shape\n",
    "h0_prob = tf.nn.sigmoid(tf.matmul([v0_state], W) + hb)  #probabilities of the hidden units\n",
    "print(\"h0_state shape: \" , tf.shape(h0_prob))\n",
    "\n",
    "#defining a function to return only the generated hidden states \n",
    "def hidden_layer(v0_state, W, hb):\n",
    "    h0_prob = tf.nn.sigmoid(tf.matmul([v0_state], W) + hb)  #probabilities of the hidden units\n",
    "    h0_state = tf.nn.relu(tf.sign(h0_prob - tf.random.uniform(tf.shape(h0_prob)))) #sample_h_given_X\n",
    "    return h0_state\n",
    "\n",
    "\n",
    "h0_state = hidden_layer(v0_state, W, hb)\n",
    "print(\"first 15 hidden states: \", h0_state[0][0:15])"
   ]
  },
  {
   "cell_type": "markdown",
   "metadata": {},
   "source": [
    "Now, we define reconstruction part:\n"
   ]
  },
  {
   "cell_type": "code",
   "execution_count": 15,
   "metadata": {
    "tags": []
   },
   "outputs": [
    {
     "name": "stdout",
     "output_type": "stream",
     "text": [
      "hidden state shape:  (1, 50)\n",
      "v0 state shape:   (784,)\n",
      "v1 state shape:   (784,)\n"
     ]
    }
   ],
   "source": [
    "def reconstructed_output(h0_state, W, vb):\n",
    "    v1_prob = tf.nn.sigmoid(tf.matmul(h0_state, tf.transpose(W)) + vb) \n",
    "    v1_state = tf.nn.relu(tf.sign(v1_prob - tf.random.uniform(tf.shape(v1_prob)))) #sample_v_given_h\n",
    "    return v1_state[0]\n",
    "\n",
    "v1_state = reconstructed_output(h0_state, W, vb)\n",
    "print(\"hidden state shape: \", h0_state.shape)\n",
    "print(\"v0 state shape:  \", v0_state.shape)\n",
    "print(\"v1 state shape:  \", v1_state.shape)"
   ]
  },
  {
   "cell_type": "markdown",
   "metadata": {},
   "source": [
    "<h3>What is the objective function?</h3>\n",
    "\n",
    "<b>Goal</b>: Maximize the likelihood of our data being drawn from that distribution\n",
    "\n",
    "<b>Calculate error:</b>  \n",
    "In each epoch, we compute the \"error\" as a sum of the squared difference between step 1 and step n,\n",
    "e.g the error shows the difference between the data and its reconstruction.\n",
    "\n",
    "<b>Note:</b> tf.reduce_mean computes the mean of elements across dimensions of a tensor.\n"
   ]
  },
  {
   "cell_type": "code",
   "execution_count": 16,
   "metadata": {
    "tags": []
   },
   "outputs": [
    {
     "name": "stdout",
     "output_type": "stream",
     "text": [
      "error 0.502551\n"
     ]
    }
   ],
   "source": [
    "def error(v0_state, v1_state):\n",
    "    return tf.reduce_mean(tf.square(v0_state - v1_state))\n",
    "\n",
    "err = tf.reduce_mean(tf.square(v0_state - v1_state))\n",
    "print(\"error\" , err.numpy())"
   ]
  },
  {
   "cell_type": "markdown",
   "metadata": {},
   "source": [
    "<a id=\"ref4\"></a>\n",
    "<h3>Training the Model</h3>\n",
    "<b>Warning...</b> The following part is math-heavy, but you can skip it if you just want to run the cells in the next section.\n",
    "\n",
    "As mentioned, we want to give a high probability to the input data we train on. So, in order to train an RBM, we have to maximize the product of probabilities assigned to all rows $\\mathbf{v}$ (images) in the training set $\\mathbf{V}$ (a matrix, where each row of it is treated as a visible vector $\\mathbf{v}$)\n",
    "\n",
    "$$\\arg \\max_W \\prod_{\\mathbf{v}\\in\\mathbf{V}_T} p(\\mathbf{v})$$\n",
    "\n",
    "\n",
    "which is equivalent to maximizing the expectation of the log probability, given as\n",
    "\n",
    "$$\\arg\\max_W\\left[ \\mathbb{E} \\left(\\prod_{\\mathbf v\\in \\mathbf V}\\text{log} \\left(p(\\mathbf v)\\right) \\right) \\right].$$\n",
    "\n",
    "\n",
    "So, we have to update the weights $W_{ij}$  to increase $p(\\mathbf{v})$ for all $\\mathbf{v}$ in our training data during training. So we have to calculate the derivative:\n",
    "\n",
    "\n",
    "$$\\frac{\\partial \\log p(\\mathbf v)}{\\partial W_{ij}}$$\n",
    "\n",
    "This cannot be easily done by typical <b>gradient descent (SGD)</b>, so we can use another approach, which has 2 steps:\n",
    "<ol>\n",
    "    <li>Gibbs Sampling</li>\n",
    "    <li>Contrastive Divergence</li>\n",
    "</ol>    \n",
    "    \n",
    "<h3>Gibbs Sampling</h3>   \n",
    "\n",
    "<h4>Gibbs Sampling Step 1</h4> \n",
    "Given an input vector $\\mathbf{v}$, we are using $p(\\mathbf{h}|\\mathbf{v})$ to predict the hidden values $\\mathbf{h}$. \n",
    "  $$p({h_j}|\\mathbf v)= \\sigma\\left(\\sum_{i=1}^V W_{ij} v_i + h_{bias} \\right)$$\n",
    "The samples are generated from this distribution by generating the uniform random variate vector $\\mathbf{\\xi} \\sim U[0,1]$ of length $H$ and comparing to the computed probabilities as\n",
    "\n",
    "\n",
    "<center>If $\\xi_j>p(h_{j}|\\mathbf{v})$, then $h_j=1$, else $h_j=0$.</center>\n",
    "\n",
    "\n",
    "<h4>Gibbs Sampling Step 2</h4> \n",
    "Then, knowing the hidden values, we use $p(\\mathbf v| \\mathbf h)$ for reconstructing of new input values v. \n",
    "\n",
    "   $$p({v_i}|\\mathbf h)= \\sigma\\left(\\sum_{j=1}^H W^{T}_{ij} h_j + v_{bias} \\right)$$\n",
    "\n",
    "\n",
    "The samples are generated from this distribution by generating a uniform random variate vector $\\mathbf{\\xi} \\sim U[0,1]$ of length $V$ and comparing to the computed probabilities as\n",
    "\n",
    "<center>If $\\xi_i>p(v_{i}|\\mathbf{h})$, then $v_i=1$, else $v_i=0$.</center>\n",
    "\n",
    "Let vectors $\\mathbf v_k$ and $\\mathbf h_k$ be for the $k$th iteration.  In general, the $kth$ state is generrated as: \n",
    "\n",
    "\n",
    "    \n",
    "<b>Iteration</b> $k$: \n",
    "\n",
    "$$\\mathbf v_{k-1} \\Rightarrow p(\\mathbf h_{k-1}|\\mathbf v_{k-1})\\Rightarrow \\mathbf h_{k-1}\\Rightarrow p(\\mathbf v_{k}|\\mathbf h_{k-1})\\Rightarrow \\mathbf v_k$$       \n",
    "    \n",
    "<h3>Contrastive Divergence (CD-k)</h3>\n",
    "The update of the weight matrix is done during the Contrastive Divergence step. \n",
    "\n",
    "Vectors v0 and vk are used to calculate the activation probabilities for hidden values h0 and hk. The difference between the outer products of those probabilities with input vectors v0 and vk results in the update matrix:\n",
    "\n",
    "\n",
    "$$\\Delta \\mathbf W_k =\\mathbf v_k \\otimes \\mathbf h_k - \\mathbf v_{k-1} \\otimes \\mathbf h_{k-1}$$\n",
    "\n",
    "Contrastive Divergence is actually matrix of values that is computed and used to adjust values of the $\\mathbf W$ matrix. Changing $\\mathbf W$ incrementally leads to training of the  $\\mathbf W$ values. Then, on each step (epoch), $\\mathbf W$ is updated using the following:\n",
    "\n",
    "$$\\mathbf W_k = \\mathbf W_{k-1} + \\alpha * \\Delta \\mathbf W_k$$\n",
    "\n",
    "\n",
    "\n",
    "Reconstruction steps:\n",
    "<ul>\n",
    "    <li> Get one data point from data set, like <i>x</i>, and pass it through the following steps:</li>\n",
    "    \n",
    "<b>Iteration</b> $k=1$: \n",
    "    \n",
    "Sampling (starting with input image)\n",
    "    $$\\mathbf x = \\mathbf v_0 \\Rightarrow p(\\mathbf h_0|\\mathbf v_0)\\Rightarrow \\mathbf h_0 \\Rightarrow p(\\mathbf v_1|\\mathbf h_0)\\Rightarrow \\mathbf v_1$$   \n",
    "    followed by the CD-k step\n",
    "$$\\Delta \\mathbf W_1 =\\mathbf v_1 \\otimes \\mathbf h_1 - \\mathbf v_{0} \\otimes \\mathbf h_{0}$$     \n",
    "$$\\mathbf W_1 = \\mathbf W_{0} + \\alpha * \\Delta \\mathbf W_1$$ \n",
    " \n",
    "<li> $\\mathbf v_1$ is the reconstruction of $\\mathbf x$ sent to the next iteration).</li>\n",
    "\n",
    "<b>Iteration</b> $k=2$: \n",
    "\n",
    "Sampling (starting with $\\mathbf v_1$)\n",
    "\n",
    "$$\\mathbf v_1 \\Rightarrow p(\\mathbf h_1|\\mathbf v_1)\\Rightarrow \\mathbf h_1\\Rightarrow p(\\mathbf v_2|\\mathbf h_1)\\Rightarrow \\mathbf v_2$$   \n",
    "\n",
    "followed by the CD-k step\n",
    "$$\\Delta \\mathbf W_2 =\\mathbf v_2 \\otimes \\mathbf h_2 - \\mathbf v_{1} \\otimes \\mathbf h_{1}$$     \n",
    "$$\\mathbf W_2 = \\mathbf W_{1} + \\alpha * \\Delta \\mathbf W_2$$ \n",
    "\n",
    "<li> $\\mathbf v_2$ is the reconstruction of $\\mathbf v_1$ sent to the next iteration).</li>    \n",
    "      \n",
    "<b>Iteration</b> $k=K$:\n",
    "    \n",
    "Sampling (starting with $\\mathbf v_{K-1}$)\n",
    "\n",
    "$$\\mathbf v_{K-1} \\Rightarrow p(\\mathbf h_{K-1}|\\mathbf v_{K-1})\\Rightarrow \\mathbf h_{K-1}\\Rightarrow p(\\mathbf v_K|\\mathbf h_{K-1})\\Rightarrow \\mathbf v_K$$   \n",
    "\n",
    "followed by the CD-k step\n",
    "$$\\Delta \\mathbf W_K =\\mathbf v_K \\otimes \\mathbf h_K - \\mathbf v_{K-1} \\otimes \\mathbf h_{K-1}$$     \n",
    "$$\\mathbf W_K = \\mathbf W_{K-1} + \\alpha * \\Delta \\mathbf W_K$$ \n",
    "    \n",
    "<b>What is $\\alpha$?</b>  \n",
    "Here, alpha is some small step size, and is also known as the \"learning rate\".\n"
   ]
  },
  {
   "cell_type": "markdown",
   "metadata": {},
   "source": [
    "$K$ is adjustable, and good performance can be achieved with $K=1$, so that we just take one set of sampling steps per image.\n"
   ]
  },
  {
   "cell_type": "code",
   "execution_count": 17,
   "metadata": {
    "tags": []
   },
   "outputs": [],
   "source": [
    "h1_prob = tf.nn.sigmoid(tf.matmul([v1_state], W) + hb)\n",
    "h1_state = tf.nn.relu(tf.sign(h1_prob - tf.random.uniform(tf.shape(h1_prob)))) #sample_h_given_X"
   ]
  },
  {
   "cell_type": "markdown",
   "metadata": {},
   "source": [
    "Lets look at the error of the first run:\n"
   ]
  },
  {
   "cell_type": "code",
   "execution_count": 18,
   "metadata": {
    "tags": []
   },
   "outputs": [
    {
     "name": "stdout",
     "output_type": "stream",
     "text": [
      "error:  tf.Tensor(0.502551, shape=(), dtype=float32)\n"
     ]
    }
   ],
   "source": [
    "print(\"error: \", error(v0_state, v1_state))"
   ]
  },
  {
   "cell_type": "code",
   "execution_count": 19,
   "metadata": {
    "tags": []
   },
   "outputs": [
    {
     "name": "stdout",
     "output_type": "stream",
     "text": [
      "Epoch: 0 batch #: 1  of 300 sample #: 199 reconstruction error: 0.142014\n",
      "Epoch: 0 batch #: 2  of 300 sample #: 199 reconstruction error: 0.213073\n",
      "Epoch: 0 batch #: 3  of 300 sample #: 199 reconstruction error: 0.105669\n",
      "Epoch: 0 batch #: 4  of 300 sample #: 199 reconstruction error: 0.138612\n",
      "Epoch: 0 batch #: 5  of 300 sample #: 199 reconstruction error: 0.110622\n",
      "Epoch: 0 batch #: 6  of 300 sample #: 199 reconstruction error: 0.177885\n",
      "Epoch: 0 batch #: 7  of 300 sample #: 199 reconstruction error: 0.095131\n",
      "Epoch: 0 batch #: 8  of 300 sample #: 199 reconstruction error: 0.133859\n",
      "Epoch: 0 batch #: 9  of 300 sample #: 199 reconstruction error: 0.096571\n",
      "Epoch: 0 batch #: 10  of 300 sample #: 199 reconstruction error: 0.169693\n",
      "Epoch: 0 batch #: 11  of 300 sample #: 199 reconstruction error: 0.091246\n",
      "Epoch: 0 batch #: 12  of 300 sample #: 199 reconstruction error: 0.134315\n",
      "Epoch: 0 batch #: 13  of 300 sample #: 199 reconstruction error: 0.061593\n",
      "Epoch: 0 batch #: 14  of 300 sample #: 199 reconstruction error: 0.118519\n",
      "Epoch: 0 batch #: 15  of 300 sample #: 199 reconstruction error: 0.099500\n",
      "Epoch: 0 batch #: 16  of 300 sample #: 199 reconstruction error: 0.102675\n",
      "Epoch: 0 batch #: 17  of 300 sample #: 199 reconstruction error: 0.085452\n",
      "Epoch: 0 batch #: 18  of 300 sample #: 199 reconstruction error: 0.132335\n",
      "Epoch: 0 batch #: 19  of 300 sample #: 199 reconstruction error: 0.127386\n",
      "Epoch: 0 batch #: 20  of 300 sample #: 199 reconstruction error: 0.089161\n",
      "Epoch: 0 batch #: 21  of 300 sample #: 199 reconstruction error: 0.088238\n",
      "Epoch: 0 batch #: 22  of 300 sample #: 199 reconstruction error: 0.076293\n",
      "Epoch: 0 batch #: 23  of 300 sample #: 199 reconstruction error: 0.108289\n",
      "Epoch: 0 batch #: 24  of 300 sample #: 199 reconstruction error: 0.138800\n",
      "Epoch: 0 batch #: 25  of 300 sample #: 199 reconstruction error: 0.091261\n",
      "Epoch: 0 batch #: 26  of 300 sample #: 199 reconstruction error: 0.109406\n",
      "Epoch: 0 batch #: 27  of 300 sample #: 199 reconstruction error: 0.106177\n",
      "Epoch: 0 batch #: 28  of 300 sample #: 199 reconstruction error: 0.069975\n",
      "Epoch: 0 batch #: 29  of 300 sample #: 199 reconstruction error: 0.100306\n",
      "Epoch: 0 batch #: 30  of 300 sample #: 199 reconstruction error: 0.081005\n",
      "Epoch: 0 batch #: 31  of 300 sample #: 199 reconstruction error: 0.086537\n",
      "Epoch: 0 batch #: 32  of 300 sample #: 199 reconstruction error: 0.113076\n",
      "Epoch: 0 batch #: 33  of 300 sample #: 199 reconstruction error: 0.049108\n",
      "Epoch: 0 batch #: 34  of 300 sample #: 199 reconstruction error: 0.072329\n",
      "Epoch: 0 batch #: 35  of 300 sample #: 199 reconstruction error: 0.065542\n",
      "Epoch: 0 batch #: 36  of 300 sample #: 199 reconstruction error: 0.087865\n",
      "Epoch: 0 batch #: 37  of 300 sample #: 199 reconstruction error: 0.058572\n",
      "Epoch: 0 batch #: 38  of 300 sample #: 199 reconstruction error: 0.067267\n",
      "Epoch: 0 batch #: 39  of 300 sample #: 199 reconstruction error: 0.098004\n",
      "Epoch: 0 batch #: 40  of 300 sample #: 199 reconstruction error: 0.122238\n",
      "Epoch: 0 batch #: 41  of 300 sample #: 199 reconstruction error: 0.073276\n",
      "Epoch: 0 batch #: 42  of 300 sample #: 199 reconstruction error: 0.073878\n",
      "Epoch: 0 batch #: 43  of 300 sample #: 199 reconstruction error: 0.104860\n",
      "Epoch: 0 batch #: 44  of 300 sample #: 199 reconstruction error: 0.077267\n",
      "Epoch: 0 batch #: 45  of 300 sample #: 199 reconstruction error: 0.056575\n",
      "Epoch: 0 batch #: 46  of 300 sample #: 199 reconstruction error: 0.040280\n",
      "Epoch: 0 batch #: 47  of 300 sample #: 199 reconstruction error: 0.033608\n",
      "Epoch: 0 batch #: 48  of 300 sample #: 199 reconstruction error: 0.044793\n",
      "Epoch: 0 batch #: 49  of 300 sample #: 199 reconstruction error: 0.127534\n",
      "Epoch: 0 batch #: 50  of 300 sample #: 199 reconstruction error: 0.047817\n",
      "Epoch: 0 batch #: 51  of 300 sample #: 199 reconstruction error: 0.083529\n",
      "Epoch: 0 batch #: 52  of 300 sample #: 199 reconstruction error: 0.032239\n",
      "Epoch: 0 batch #: 53  of 300 sample #: 199 reconstruction error: 0.102331\n",
      "Epoch: 0 batch #: 54  of 300 sample #: 199 reconstruction error: 0.057226\n",
      "Epoch: 0 batch #: 55  of 300 sample #: 199 reconstruction error: 0.132654\n",
      "Epoch: 0 batch #: 56  of 300 sample #: 199 reconstruction error: 0.064824\n",
      "Epoch: 0 batch #: 57  of 300 sample #: 199 reconstruction error: 0.036015\n",
      "Epoch: 0 batch #: 58  of 300 sample #: 199 reconstruction error: 0.073662\n",
      "Epoch: 0 batch #: 59  of 300 sample #: 199 reconstruction error: 0.070542\n",
      "Epoch: 0 batch #: 60  of 300 sample #: 199 reconstruction error: 0.098311\n",
      "Epoch: 0 batch #: 61  of 300 sample #: 199 reconstruction error: 0.074760\n",
      "Epoch: 0 batch #: 62  of 300 sample #: 199 reconstruction error: 0.085525\n",
      "Epoch: 0 batch #: 63  of 300 sample #: 199 reconstruction error: 0.057967\n",
      "Epoch: 0 batch #: 64  of 300 sample #: 199 reconstruction error: 0.093425\n",
      "Epoch: 0 batch #: 65  of 300 sample #: 199 reconstruction error: 0.096904\n",
      "Epoch: 0 batch #: 66  of 300 sample #: 199 reconstruction error: 0.056614\n",
      "Epoch: 0 batch #: 67  of 300 sample #: 199 reconstruction error: 0.055862\n",
      "Epoch: 0 batch #: 68  of 300 sample #: 199 reconstruction error: 0.061388\n",
      "Epoch: 0 batch #: 69  of 300 sample #: 199 reconstruction error: 0.089700\n",
      "Epoch: 0 batch #: 70  of 300 sample #: 199 reconstruction error: 0.078576\n",
      "Epoch: 0 batch #: 71  of 300 sample #: 199 reconstruction error: 0.078176\n",
      "Epoch: 0 batch #: 72  of 300 sample #: 199 reconstruction error: 0.068833\n",
      "Epoch: 0 batch #: 73  of 300 sample #: 199 reconstruction error: 0.083582\n",
      "Epoch: 0 batch #: 74  of 300 sample #: 199 reconstruction error: 0.087721\n",
      "Epoch: 0 batch #: 75  of 300 sample #: 199 reconstruction error: 0.047302\n",
      "Epoch: 0 batch #: 76  of 300 sample #: 199 reconstruction error: 0.081347\n",
      "Epoch: 0 batch #: 77  of 300 sample #: 199 reconstruction error: 0.125484\n",
      "Epoch: 0 batch #: 78  of 300 sample #: 199 reconstruction error: 0.097202\n",
      "Epoch: 0 batch #: 79  of 300 sample #: 199 reconstruction error: 0.116320\n",
      "Epoch: 0 batch #: 80  of 300 sample #: 199 reconstruction error: 0.051429\n",
      "Epoch: 0 batch #: 81  of 300 sample #: 199 reconstruction error: 0.059353\n",
      "Epoch: 0 batch #: 82  of 300 sample #: 199 reconstruction error: 0.053460\n",
      "Epoch: 0 batch #: 83  of 300 sample #: 199 reconstruction error: 0.083303\n",
      "Epoch: 0 batch #: 84  of 300 sample #: 199 reconstruction error: 0.092739\n",
      "Epoch: 0 batch #: 85  of 300 sample #: 199 reconstruction error: 0.039346\n",
      "Epoch: 0 batch #: 86  of 300 sample #: 199 reconstruction error: 0.066376\n",
      "Epoch: 0 batch #: 87  of 300 sample #: 199 reconstruction error: 0.074710\n",
      "Epoch: 0 batch #: 88  of 300 sample #: 199 reconstruction error: 0.030157\n",
      "Epoch: 0 batch #: 89  of 300 sample #: 199 reconstruction error: 0.056187\n",
      "Epoch: 0 batch #: 90  of 300 sample #: 199 reconstruction error: 0.075260\n",
      "Epoch: 0 batch #: 91  of 300 sample #: 199 reconstruction error: 0.061316\n",
      "Epoch: 0 batch #: 92  of 300 sample #: 199 reconstruction error: 0.064838\n",
      "Epoch: 0 batch #: 93  of 300 sample #: 199 reconstruction error: 0.110210\n",
      "Epoch: 0 batch #: 94  of 300 sample #: 199 reconstruction error: 0.114425\n",
      "Epoch: 0 batch #: 95  of 300 sample #: 199 reconstruction error: 0.066716\n",
      "Epoch: 0 batch #: 96  of 300 sample #: 199 reconstruction error: 0.052610\n",
      "Epoch: 0 batch #: 97  of 300 sample #: 199 reconstruction error: 0.093285\n",
      "Epoch: 0 batch #: 98  of 300 sample #: 199 reconstruction error: 0.074798\n",
      "Epoch: 0 batch #: 99  of 300 sample #: 199 reconstruction error: 0.055985\n",
      "Epoch: 0 batch #: 100  of 300 sample #: 199 reconstruction error: 0.106202\n",
      "Epoch: 0 batch #: 101  of 300 sample #: 199 reconstruction error: 0.076208\n",
      "Epoch: 0 batch #: 102  of 300 sample #: 199 reconstruction error: 0.077775\n",
      "Epoch: 0 batch #: 103  of 300 sample #: 199 reconstruction error: 0.080920\n",
      "Epoch: 0 batch #: 104  of 300 sample #: 199 reconstruction error: 0.078215\n",
      "Epoch: 0 batch #: 105  of 300 sample #: 199 reconstruction error: 0.059911\n",
      "Epoch: 0 batch #: 106  of 300 sample #: 199 reconstruction error: 0.105562\n",
      "Epoch: 0 batch #: 107  of 300 sample #: 199 reconstruction error: 0.132836\n",
      "Epoch: 0 batch #: 108  of 300 sample #: 199 reconstruction error: 0.053841\n",
      "Epoch: 0 batch #: 109  of 300 sample #: 199 reconstruction error: 0.109405\n",
      "Epoch: 0 batch #: 110  of 300 sample #: 199 reconstruction error: 0.059347\n",
      "Epoch: 0 batch #: 111  of 300 sample #: 199 reconstruction error: 0.107334\n",
      "Epoch: 0 batch #: 112  of 300 sample #: 199 reconstruction error: 0.053746\n",
      "Epoch: 0 batch #: 113  of 300 sample #: 199 reconstruction error: 0.082968\n",
      "Epoch: 0 batch #: 114  of 300 sample #: 199 reconstruction error: 0.073149\n",
      "Epoch: 0 batch #: 115  of 300 sample #: 199 reconstruction error: 0.060601\n",
      "Epoch: 0 batch #: 116  of 300 sample #: 199 reconstruction error: 0.058398\n",
      "Epoch: 0 batch #: 117  of 300 sample #: 199 reconstruction error: 0.038021\n",
      "Epoch: 0 batch #: 118  of 300 sample #: 199 reconstruction error: 0.071295\n",
      "Epoch: 0 batch #: 119  of 300 sample #: 199 reconstruction error: 0.106441\n",
      "Epoch: 0 batch #: 120  of 300 sample #: 199 reconstruction error: 0.079167\n",
      "Epoch: 0 batch #: 121  of 300 sample #: 199 reconstruction error: 0.040857\n",
      "Epoch: 0 batch #: 122  of 300 sample #: 199 reconstruction error: 0.094980\n",
      "Epoch: 0 batch #: 123  of 300 sample #: 199 reconstruction error: 0.064983\n",
      "Epoch: 0 batch #: 124  of 300 sample #: 199 reconstruction error: 0.058858\n",
      "Epoch: 0 batch #: 125  of 300 sample #: 199 reconstruction error: 0.040419\n",
      "Epoch: 0 batch #: 126  of 300 sample #: 199 reconstruction error: 0.078745\n",
      "Epoch: 0 batch #: 127  of 300 sample #: 199 reconstruction error: 0.078155\n",
      "Epoch: 0 batch #: 128  of 300 sample #: 199 reconstruction error: 0.069782\n",
      "Epoch: 0 batch #: 129  of 300 sample #: 199 reconstruction error: 0.053791\n",
      "Epoch: 0 batch #: 130  of 300 sample #: 199 reconstruction error: 0.076129\n",
      "Epoch: 0 batch #: 131  of 300 sample #: 199 reconstruction error: 0.069780\n",
      "Epoch: 0 batch #: 132  of 300 sample #: 199 reconstruction error: 0.055434\n",
      "Epoch: 0 batch #: 133  of 300 sample #: 199 reconstruction error: 0.052718\n",
      "Epoch: 0 batch #: 134  of 300 sample #: 199 reconstruction error: 0.093626\n",
      "Epoch: 0 batch #: 135  of 300 sample #: 199 reconstruction error: 0.102982\n",
      "Epoch: 0 batch #: 136  of 300 sample #: 199 reconstruction error: 0.103205\n",
      "Epoch: 0 batch #: 137  of 300 sample #: 199 reconstruction error: 0.068646\n",
      "Epoch: 0 batch #: 138  of 300 sample #: 199 reconstruction error: 0.085988\n",
      "Epoch: 0 batch #: 139  of 300 sample #: 199 reconstruction error: 0.116127\n",
      "Epoch: 0 batch #: 140  of 300 sample #: 199 reconstruction error: 0.073860\n",
      "Epoch: 0 batch #: 141  of 300 sample #: 199 reconstruction error: 0.085361\n",
      "Epoch: 0 batch #: 142  of 300 sample #: 199 reconstruction error: 0.069209\n",
      "Epoch: 0 batch #: 143  of 300 sample #: 199 reconstruction error: 0.060183\n",
      "Epoch: 0 batch #: 144  of 300 sample #: 199 reconstruction error: 0.062266\n",
      "Epoch: 0 batch #: 145  of 300 sample #: 199 reconstruction error: 0.097813\n",
      "Epoch: 0 batch #: 146  of 300 sample #: 199 reconstruction error: 0.113364\n",
      "Epoch: 0 batch #: 147  of 300 sample #: 199 reconstruction error: 0.068880\n",
      "Epoch: 0 batch #: 148  of 300 sample #: 199 reconstruction error: 0.083828\n",
      "Epoch: 0 batch #: 149  of 300 sample #: 199 reconstruction error: 0.044728\n",
      "Epoch: 0 batch #: 150  of 300 sample #: 199 reconstruction error: 0.050062\n",
      "Epoch: 0 batch #: 151  of 300 sample #: 199 reconstruction error: 0.108642\n",
      "Epoch: 0 batch #: 152  of 300 sample #: 199 reconstruction error: 0.092918\n",
      "Epoch: 0 batch #: 153  of 300 sample #: 199 reconstruction error: 0.062293\n",
      "Epoch: 0 batch #: 154  of 300 sample #: 199 reconstruction error: 0.083426\n",
      "Epoch: 0 batch #: 155  of 300 sample #: 199 reconstruction error: 0.060092\n",
      "Epoch: 0 batch #: 156  of 300 sample #: 199 reconstruction error: 0.059845\n",
      "Epoch: 0 batch #: 157  of 300 sample #: 199 reconstruction error: 0.077488\n",
      "Epoch: 0 batch #: 158  of 300 sample #: 199 reconstruction error: 0.080168\n",
      "Epoch: 0 batch #: 159  of 300 sample #: 199 reconstruction error: 0.059126\n",
      "Epoch: 0 batch #: 160  of 300 sample #: 199 reconstruction error: 0.068642\n",
      "Epoch: 0 batch #: 161  of 300 sample #: 199 reconstruction error: 0.079894\n",
      "Epoch: 0 batch #: 162  of 300 sample #: 199 reconstruction error: 0.119556\n",
      "Epoch: 0 batch #: 163  of 300 sample #: 199 reconstruction error: 0.037441\n",
      "Epoch: 0 batch #: 164  of 300 sample #: 199 reconstruction error: 0.066976\n",
      "Epoch: 0 batch #: 165  of 300 sample #: 199 reconstruction error: 0.089303\n",
      "Epoch: 0 batch #: 166  of 300 sample #: 199 reconstruction error: 0.059020\n",
      "Epoch: 0 batch #: 167  of 300 sample #: 199 reconstruction error: 0.084208\n",
      "Epoch: 0 batch #: 168  of 300 sample #: 199 reconstruction error: 0.051422\n",
      "Epoch: 0 batch #: 169  of 300 sample #: 199 reconstruction error: 0.031124\n",
      "Epoch: 0 batch #: 170  of 300 sample #: 199 reconstruction error: 0.051596\n",
      "Epoch: 0 batch #: 171  of 300 sample #: 199 reconstruction error: 0.041510\n",
      "Epoch: 0 batch #: 172  of 300 sample #: 199 reconstruction error: 0.055129\n",
      "Epoch: 0 batch #: 173  of 300 sample #: 199 reconstruction error: 0.072654\n",
      "Epoch: 0 batch #: 174  of 300 sample #: 199 reconstruction error: 0.086440\n",
      "Epoch: 0 batch #: 175  of 300 sample #: 199 reconstruction error: 0.071188\n",
      "Epoch: 0 batch #: 176  of 300 sample #: 199 reconstruction error: 0.047422\n",
      "Epoch: 0 batch #: 177  of 300 sample #: 199 reconstruction error: 0.034857\n",
      "Epoch: 0 batch #: 178  of 300 sample #: 199 reconstruction error: 0.102914\n",
      "Epoch: 0 batch #: 179  of 300 sample #: 199 reconstruction error: 0.067021\n",
      "Epoch: 0 batch #: 180  of 300 sample #: 199 reconstruction error: 0.096321\n",
      "Epoch: 0 batch #: 181  of 300 sample #: 199 reconstruction error: 0.090365\n",
      "Epoch: 0 batch #: 182  of 300 sample #: 199 reconstruction error: 0.065332\n",
      "Epoch: 0 batch #: 183  of 300 sample #: 199 reconstruction error: 0.096269\n",
      "Epoch: 0 batch #: 184  of 300 sample #: 199 reconstruction error: 0.063228\n",
      "Epoch: 0 batch #: 185  of 300 sample #: 199 reconstruction error: 0.072033\n",
      "Epoch: 0 batch #: 186  of 300 sample #: 199 reconstruction error: 0.085777\n",
      "Epoch: 0 batch #: 187  of 300 sample #: 199 reconstruction error: 0.051141\n",
      "Epoch: 0 batch #: 188  of 300 sample #: 199 reconstruction error: 0.106428\n",
      "Epoch: 0 batch #: 189  of 300 sample #: 199 reconstruction error: 0.086515\n",
      "Epoch: 0 batch #: 190  of 300 sample #: 199 reconstruction error: 0.068010\n",
      "Epoch: 0 batch #: 191  of 300 sample #: 199 reconstruction error: 0.119283\n",
      "Epoch: 0 batch #: 192  of 300 sample #: 199 reconstruction error: 0.120554\n",
      "Epoch: 0 batch #: 193  of 300 sample #: 199 reconstruction error: 0.093865\n",
      "Epoch: 0 batch #: 194  of 300 sample #: 199 reconstruction error: 0.091174\n",
      "Epoch: 0 batch #: 195  of 300 sample #: 199 reconstruction error: 0.045738\n",
      "Epoch: 0 batch #: 196  of 300 sample #: 199 reconstruction error: 0.049634\n",
      "Epoch: 0 batch #: 197  of 300 sample #: 199 reconstruction error: 0.046852\n",
      "Epoch: 0 batch #: 198  of 300 sample #: 199 reconstruction error: 0.093840\n",
      "Epoch: 0 batch #: 199  of 300 sample #: 199 reconstruction error: 0.065428\n",
      "Epoch: 0 batch #: 200  of 300 sample #: 199 reconstruction error: 0.112240\n",
      "Epoch: 0 batch #: 201  of 300 sample #: 199 reconstruction error: 0.100191\n",
      "Epoch: 0 batch #: 202  of 300 sample #: 199 reconstruction error: 0.029819\n",
      "Epoch: 0 batch #: 203  of 300 sample #: 199 reconstruction error: 0.076051\n",
      "Epoch: 0 batch #: 204  of 300 sample #: 199 reconstruction error: 0.054026\n",
      "Epoch: 0 batch #: 205  of 300 sample #: 199 reconstruction error: 0.022426\n",
      "Epoch: 0 batch #: 206  of 300 sample #: 199 reconstruction error: 0.073916\n",
      "Epoch: 0 batch #: 207  of 300 sample #: 199 reconstruction error: 0.080617\n",
      "Epoch: 0 batch #: 208  of 300 sample #: 199 reconstruction error: 0.054035\n",
      "Epoch: 0 batch #: 209  of 300 sample #: 199 reconstruction error: 0.035168\n",
      "Epoch: 0 batch #: 210  of 300 sample #: 199 reconstruction error: 0.112162\n",
      "Epoch: 0 batch #: 211  of 300 sample #: 199 reconstruction error: 0.075162\n",
      "Epoch: 0 batch #: 212  of 300 sample #: 199 reconstruction error: 0.075803\n",
      "Epoch: 0 batch #: 213  of 300 sample #: 199 reconstruction error: 0.080980\n",
      "Epoch: 0 batch #: 214  of 300 sample #: 199 reconstruction error: 0.084222\n",
      "Epoch: 0 batch #: 215  of 300 sample #: 199 reconstruction error: 0.025886\n",
      "Epoch: 0 batch #: 216  of 300 sample #: 199 reconstruction error: 0.087092\n",
      "Epoch: 0 batch #: 217  of 300 sample #: 199 reconstruction error: 0.083087\n",
      "Epoch: 0 batch #: 218  of 300 sample #: 199 reconstruction error: 0.066666\n",
      "Epoch: 0 batch #: 219  of 300 sample #: 199 reconstruction error: 0.070076\n",
      "Epoch: 0 batch #: 220  of 300 sample #: 199 reconstruction error: 0.061336\n",
      "Epoch: 0 batch #: 221  of 300 sample #: 199 reconstruction error: 0.100213\n",
      "Epoch: 0 batch #: 222  of 300 sample #: 199 reconstruction error: 0.092899\n",
      "Epoch: 0 batch #: 223  of 300 sample #: 199 reconstruction error: 0.066641\n",
      "Epoch: 0 batch #: 224  of 300 sample #: 199 reconstruction error: 0.075746\n",
      "Epoch: 0 batch #: 225  of 300 sample #: 199 reconstruction error: 0.064396\n",
      "Epoch: 0 batch #: 226  of 300 sample #: 199 reconstruction error: 0.140437\n",
      "Epoch: 0 batch #: 227  of 300 sample #: 199 reconstruction error: 0.075195\n",
      "Epoch: 0 batch #: 228  of 300 sample #: 199 reconstruction error: 0.060423\n",
      "Epoch: 0 batch #: 229  of 300 sample #: 199 reconstruction error: 0.061324\n",
      "Epoch: 0 batch #: 230  of 300 sample #: 199 reconstruction error: 0.039675\n",
      "Epoch: 0 batch #: 231  of 300 sample #: 199 reconstruction error: 0.024689\n",
      "Epoch: 0 batch #: 232  of 300 sample #: 199 reconstruction error: 0.079773\n",
      "Epoch: 0 batch #: 233  of 300 sample #: 199 reconstruction error: 0.078823\n",
      "Epoch: 0 batch #: 234  of 300 sample #: 199 reconstruction error: 0.070754\n",
      "Epoch: 0 batch #: 235  of 300 sample #: 199 reconstruction error: 0.065333\n",
      "Epoch: 0 batch #: 236  of 300 sample #: 199 reconstruction error: 0.088537\n",
      "Epoch: 0 batch #: 237  of 300 sample #: 199 reconstruction error: 0.072492\n",
      "Epoch: 0 batch #: 238  of 300 sample #: 199 reconstruction error: 0.135619\n",
      "Epoch: 0 batch #: 239  of 300 sample #: 199 reconstruction error: 0.037034\n",
      "Epoch: 0 batch #: 240  of 300 sample #: 199 reconstruction error: 0.094305\n",
      "Epoch: 0 batch #: 241  of 300 sample #: 199 reconstruction error: 0.076923\n",
      "Epoch: 0 batch #: 242  of 300 sample #: 199 reconstruction error: 0.071475\n",
      "Epoch: 0 batch #: 243  of 300 sample #: 199 reconstruction error: 0.069150\n",
      "Epoch: 0 batch #: 244  of 300 sample #: 199 reconstruction error: 0.081318\n",
      "Epoch: 0 batch #: 245  of 300 sample #: 199 reconstruction error: 0.052124\n",
      "Epoch: 0 batch #: 246  of 300 sample #: 199 reconstruction error: 0.096198\n",
      "Epoch: 0 batch #: 247  of 300 sample #: 199 reconstruction error: 0.048806\n",
      "Epoch: 0 batch #: 248  of 300 sample #: 199 reconstruction error: 0.079372\n",
      "Epoch: 0 batch #: 249  of 300 sample #: 199 reconstruction error: 0.035692\n",
      "Epoch: 0 batch #: 250  of 300 sample #: 199 reconstruction error: 0.081634\n",
      "Epoch: 0 batch #: 251  of 300 sample #: 199 reconstruction error: 0.051222\n",
      "Epoch: 0 batch #: 252  of 300 sample #: 199 reconstruction error: 0.074273\n",
      "Epoch: 0 batch #: 253  of 300 sample #: 199 reconstruction error: 0.057456\n",
      "Epoch: 0 batch #: 254  of 300 sample #: 199 reconstruction error: 0.027642\n",
      "Epoch: 0 batch #: 255  of 300 sample #: 199 reconstruction error: 0.051996\n",
      "Epoch: 0 batch #: 256  of 300 sample #: 199 reconstruction error: 0.074934\n",
      "Epoch: 0 batch #: 257  of 300 sample #: 199 reconstruction error: 0.083901\n",
      "Epoch: 0 batch #: 258  of 300 sample #: 199 reconstruction error: 0.101879\n",
      "Epoch: 0 batch #: 259  of 300 sample #: 199 reconstruction error: 0.059467\n",
      "Epoch: 0 batch #: 260  of 300 sample #: 199 reconstruction error: 0.077540\n",
      "Epoch: 0 batch #: 261  of 300 sample #: 199 reconstruction error: 0.028410\n",
      "Epoch: 0 batch #: 262  of 300 sample #: 199 reconstruction error: 0.053183\n",
      "Epoch: 0 batch #: 263  of 300 sample #: 199 reconstruction error: 0.071419\n",
      "Epoch: 0 batch #: 264  of 300 sample #: 199 reconstruction error: 0.078776\n",
      "Epoch: 0 batch #: 265  of 300 sample #: 199 reconstruction error: 0.058439\n",
      "Epoch: 0 batch #: 266  of 300 sample #: 199 reconstruction error: 0.033108\n",
      "Epoch: 0 batch #: 267  of 300 sample #: 199 reconstruction error: 0.065285\n",
      "Epoch: 0 batch #: 268  of 300 sample #: 199 reconstruction error: 0.029332\n",
      "Epoch: 0 batch #: 269  of 300 sample #: 199 reconstruction error: 0.089588\n",
      "Epoch: 0 batch #: 270  of 300 sample #: 199 reconstruction error: 0.094126\n",
      "Epoch: 0 batch #: 271  of 300 sample #: 199 reconstruction error: 0.053952\n",
      "Epoch: 0 batch #: 272  of 300 sample #: 199 reconstruction error: 0.054118\n",
      "Epoch: 0 batch #: 273  of 300 sample #: 199 reconstruction error: 0.050426\n",
      "Epoch: 0 batch #: 274  of 300 sample #: 199 reconstruction error: 0.049164\n",
      "Epoch: 0 batch #: 275  of 300 sample #: 199 reconstruction error: 0.124221\n",
      "Epoch: 0 batch #: 276  of 300 sample #: 199 reconstruction error: 0.064843\n",
      "Epoch: 0 batch #: 277  of 300 sample #: 199 reconstruction error: 0.076005\n",
      "Epoch: 0 batch #: 278  of 300 sample #: 199 reconstruction error: 0.062736\n",
      "Epoch: 0 batch #: 279  of 300 sample #: 199 reconstruction error: 0.055237\n",
      "Epoch: 0 batch #: 280  of 300 sample #: 199 reconstruction error: 0.087653\n",
      "Epoch: 0 batch #: 281  of 300 sample #: 199 reconstruction error: 0.057842\n",
      "Epoch: 0 batch #: 282  of 300 sample #: 199 reconstruction error: 0.103705\n",
      "Epoch: 0 batch #: 283  of 300 sample #: 199 reconstruction error: 0.052379\n",
      "Epoch: 0 batch #: 284  of 300 sample #: 199 reconstruction error: 0.049152\n",
      "Epoch: 0 batch #: 285  of 300 sample #: 199 reconstruction error: 0.060509\n",
      "Epoch: 0 batch #: 286  of 300 sample #: 199 reconstruction error: 0.089256\n",
      "Epoch: 0 batch #: 287  of 300 sample #: 199 reconstruction error: 0.067803\n",
      "Epoch: 0 batch #: 288  of 300 sample #: 199 reconstruction error: 0.032589\n",
      "Epoch: 0 batch #: 289  of 300 sample #: 199 reconstruction error: 0.086297\n",
      "Epoch: 0 batch #: 290  of 300 sample #: 199 reconstruction error: 0.104536\n",
      "Epoch: 0 batch #: 291  of 300 sample #: 199 reconstruction error: 0.114896\n",
      "Epoch: 0 batch #: 292  of 300 sample #: 199 reconstruction error: 0.058752\n",
      "Epoch: 0 batch #: 293  of 300 sample #: 199 reconstruction error: 0.065354\n",
      "Epoch: 0 batch #: 294  of 300 sample #: 199 reconstruction error: 0.114849\n",
      "Epoch: 0 batch #: 295  of 300 sample #: 199 reconstruction error: 0.078664\n",
      "Epoch: 0 batch #: 296  of 300 sample #: 199 reconstruction error: 0.025928\n",
      "Epoch: 0 batch #: 297  of 300 sample #: 199 reconstruction error: 0.099740\n",
      "Epoch: 0 batch #: 298  of 300 sample #: 199 reconstruction error: 0.045980\n",
      "Epoch: 0 batch #: 299  of 300 sample #: 199 reconstruction error: 0.061945\n",
      "Epoch: 0 batch #: 300  of 300 sample #: 199 reconstruction error: 0.074891\n"
     ]
    }
   ],
   "source": [
    "#Parameters\n",
    "alpha = 0.01\n",
    "epochs = 1\n",
    "batchsize = 200\n",
    "weights = []\n",
    "errors = []\n",
    "batch_number = 0\n",
    "K = 1\n",
    "\n",
    "#creating datasets\n",
    "train_ds = \\\n",
    "    tf.data.Dataset.from_tensor_slices((trX, trY)).batch(batchsize)\n",
    "\n",
    "for epoch in range(epochs):\n",
    "    for batch_x, batch_y in train_ds:\n",
    "        batch_number += 1\n",
    "        for i_sample in range(batchsize):           \n",
    "            for k in range(K):\n",
    "                v0_state = batch_x[i_sample]\n",
    "                h0_state = hidden_layer(v0_state, W, hb)\n",
    "                v1_state = reconstructed_output(h0_state, W, vb)\n",
    "                h1_state = hidden_layer(v1_state, W, hb)\n",
    "\n",
    "                delta_W = tf.matmul(tf.transpose([v0_state]), h0_state) - tf.matmul(tf.transpose([v1_state]), h1_state)\n",
    "                W = W + alpha * delta_W\n",
    "\n",
    "                vb = vb + alpha * tf.reduce_mean(v0_state - v1_state, 0)\n",
    "                hb = hb + alpha * tf.reduce_mean(h0_state - h1_state, 0) \n",
    "\n",
    "                v0_state = v1_state\n",
    "\n",
    "            if i_sample == batchsize-1:\n",
    "                err = error(batch_x[i_sample], v1_state)\n",
    "                errors.append(err)\n",
    "                weights.append(W)\n",
    "                print ( 'Epoch: %d' % epoch, \n",
    "                       \"batch #: %i \" % batch_number, \"of %i\" % int(60e3/batchsize), \n",
    "                       \"sample #: %i\" % i_sample,\n",
    "                       'reconstruction error: %f' % err)\n",
    "\n"
   ]
  },
  {
   "cell_type": "markdown",
   "metadata": {},
   "source": [
    "Let's take a look at the errors at the end of each batch:\n"
   ]
  },
  {
   "cell_type": "code",
   "execution_count": 20,
   "metadata": {
    "tags": []
   },
   "outputs": [
    {
     "data": {
      "image/png": "[encoded data removed]",
      "text/plain": [
       "<Figure size 640x480 with 1 Axes>"
      ]
     },
     "metadata": {},
     "output_type": "display_data"
    }
   ],
   "source": [
    "plt.plot(errors)\n",
    "plt.xlabel(\"Batch Number\")\n",
    "plt.ylabel(\"Error\")\n",
    "plt.show()"
   ]
  },
  {
   "cell_type": "markdown",
   "metadata": {},
   "source": [
    "What is the final weight matrix $W$ after training?\n"
   ]
  },
  {
   "cell_type": "code",
   "execution_count": 21,
   "metadata": {
    "tags": []
   },
   "outputs": [
    {
     "name": "stdout",
     "output_type": "stream",
     "text": [
      "[[-0.5099998  -0.35999992 -0.20000002 ... -0.41999987 -0.44999984\n",
      "  -0.3999999 ]\n",
      " [-0.3799999  -0.44999984 -0.22000003 ... -0.32999995 -0.44999984\n",
      "  -0.43999985]\n",
      " [-0.5199998  -0.43999985 -0.17       ... -0.32999995 -0.4799998\n",
      "  -0.41999987]\n",
      " ...\n",
      " [-0.44999984 -0.3899999  -0.22000003 ... -0.43999985 -0.5099998\n",
      "  -0.41999987]\n",
      " [-0.4799998  -0.42999986 -0.25000003 ... -0.43999985 -0.4899998\n",
      "  -0.42999986]\n",
      " [-0.46999982 -0.40999988 -0.24000004 ... -0.45999983 -0.46999982\n",
      "  -0.41999987]]\n"
     ]
    }
   ],
   "source": [
    "print(W.numpy()) # a weight matrix of shape (50,784)"
   ]
  },
  {
   "cell_type": "markdown",
   "metadata": {},
   "source": [
    "<a id=\"ref5\"></a>\n",
    "<h3>Learned features</h3> \n"
   ]
  },
  {
   "cell_type": "markdown",
   "metadata": {},
   "source": [
    "We can take each hidden unit and visualize the connections between that hidden unit and each element in the input vector. In our case, we have 50 hidden units. Lets visualize those.\n"
   ]
  },
  {
   "cell_type": "markdown",
   "metadata": {},
   "source": [
    "Let's plot the current weights:\n",
    "<b>tile_raster_images</b> helps in generating an easy to grasp image from a set of samples or weights. It transforms the <b>uw</b> (with one flattened image per row of size 784), into an array (of size $28\\times28$) in which images are reshaped and laid out like tiles on a floor.\n"
   ]
  },
  {
   "cell_type": "code",
   "execution_count": 22,
   "metadata": {
    "tags": []
   },
   "outputs": [
    {
     "data": {
      "image/png": "[encoded data removed]",
      "text/plain": [
       "<Figure size 1800x1800 with 1 Axes>"
      ]
     },
     "metadata": {},
     "output_type": "display_data"
    }
   ],
   "source": [
    "tile_raster_images(X=W.numpy().T, img_shape=(28, 28), tile_shape=(5, 10), tile_spacing=(1, 1))\n",
    "import matplotlib.pyplot as plt\n",
    "from PIL import Image\n",
    "%matplotlib inline\n",
    "image = Image.fromarray(tile_raster_images(X=W.numpy().T, img_shape=(28, 28) ,tile_shape=(5, 10), tile_spacing=(1, 1)))\n",
    "### Plot image\n",
    "plt.rcParams['figure.figsize'] = (18.0, 18.0)\n",
    "imgplot = plt.imshow(image)\n",
    "imgplot.set_cmap('gray')  "
   ]
  },
  {
   "cell_type": "markdown",
   "metadata": {},
   "source": [
    "Each tile in the above visualization corresponds to a vector of connections between a hidden unit and visible layer's units. \n"
   ]
  },
  {
   "cell_type": "markdown",
   "metadata": {},
   "source": [
    "Let's look at one of the learned weights corresponding to one of hidden units for example. In this particular square, the gray color represents weight = 0, and the whiter it is, the more positive the weights are (closer to 1). Conversely, the darker pixels are, the more negative the weights. The positive pixels will increase the probability of activation in hidden units (after multiplying by input/visible pixels), and negative pixels will decrease the probability of a unit hidden to be 1 (activated). So, why is this important?  So we can see that this specific square (hidden unit) can detect a feature (e.g. a \"/\" shape) and if it exists in the input.\n"
   ]
  },
  {
   "cell_type": "code",
   "execution_count": 23,
   "metadata": {
    "tags": []
   },
   "outputs": [
    {
     "data": {
      "image/png": "[encoded data removed]",
      "text/plain": [
       "<Figure size 400x400 with 1 Axes>"
      ]
     },
     "metadata": {},
     "output_type": "display_data"
    }
   ],
   "source": [
    "from PIL import Image\n",
    "image = Image.fromarray(tile_raster_images(X =W.numpy().T[10:11], img_shape=(28, 28),tile_shape=(1, 1), tile_spacing=(1, 1)))\n",
    "### Plot image\n",
    "plt.rcParams['figure.figsize'] = (4.0, 4.0)\n",
    "imgplot = plt.imshow(image)\n",
    "imgplot.set_cmap('gray')"
   ]
  },
  {
   "cell_type": "markdown",
   "metadata": {},
   "source": [
    "Let's look at the reconstruction of an image now. Imagine that we have a destructed image of figure 3. Lets see if our trained network can fix it:\n",
    "\n",
    "First we plot the image:\n"
   ]
  },
  {
   "cell_type": "code",
   "execution_count": 24,
   "metadata": {
    "tags": []
   },
   "outputs": [
    {
     "name": "stdout",
     "output_type": "stream",
     "text": [
      "--2023-08-18 16:53:21--  https://ibm.box.com/shared/static/vvm1b63uvuxq88vbw9znpwu5ol380mco.jpg\n",
      "Resolving ibm.box.com (ibm.box.com)... 74.112.186.144\n",
      "Connecting to ibm.box.com (ibm.box.com)|74.112.186.144|:443... connected.\n",
      "HTTP request sent, awaiting response... 301 Moved Permanently\n",
      "Location: /public/static/vvm1b63uvuxq88vbw9znpwu5ol380mco.jpg [following]\n",
      "--2023-08-18 16:53:21--  https://ibm.box.com/public/static/vvm1b63uvuxq88vbw9znpwu5ol380mco.jpg\n",
      "Reusing existing connection to ibm.box.com:443.\n",
      "HTTP request sent, awaiting response... 301 Moved Permanently\n",
      "Location: https://ibm.ent.box.com/public/static/vvm1b63uvuxq88vbw9znpwu5ol380mco.jpg [following]\n",
      "--2023-08-18 16:53:21--  https://ibm.ent.box.com/public/static/vvm1b63uvuxq88vbw9znpwu5ol380mco.jpg\n",
      "Resolving ibm.ent.box.com (ibm.ent.box.com)... 74.112.186.144\n",
      "Connecting to ibm.ent.box.com (ibm.ent.box.com)|74.112.186.144|:443... connected.\n",
      "HTTP request sent, awaiting response... 302 Found\n",
      "Location: https://public.boxcloud.com/d/1/b1!DZbPYXfy9EEjVmbL14qILjPQ8zJajZnHdnjMRaaeBzqf1a3X1lUhXYkP3dclO1DrYFeiTn3NG-bN6d04rs958_AZ5E03KELECn1lrRoJTXwOj8Zpd8wdSqp1XdsfdLSCQg7aKlNSpoJBtgIGEvvhP2uWpvEoK1LoqzdeaqOoj717i9Q6q6tiVrBZcdB5TXTw6JhUYYEj9BzAqam9-3BnuznJIFYyNrqbWq5pwMVVxJk7LTb0VilVwRF3S3X1AzFQguBBCWVBXQfPHmb9LxOWoOXmukFdLLnB1Uq3gOTd-xQwYgenj5FZZzOTqPCZPPPfN9AtBH0z_OKwTElgQ-qxNG0qyqJmx9dNOYEcA1OUvjxqs0JeCefuN8s8_Q_iR_PwE15Eisj-Ky70iHqZ7ax0rJqUXAmF7fW_n0w2YGWFUAUmqNN2xUza4_J-leJPHj-YddSQL9FORTq8E92a_BJkLakENTJFNFt8C9eV4JKo6acqwWYDYga31uZ3iTxsdz1u2u6hq1ou-0_0l_k7bQ2t_c9yxSZ7qq9KqJ1ReZihuU3JFFvfmMp4v7pbNTRM79-auvUyZt_Y_ZuAQDSIx8zcsg_eZVzpbNmFvA7up1_OcOIf_mEDPhh_Xr8Rz4MJIWdmS8F2FX6ywaXrRwF214U-tkoMTyCu8rhQj_B3mdKJlvd9KnZ6iTtwQ4qDVDBw5nVUinLAZOrShg6xc4wX2iVGprxUq9f7cTN9M4u0rgAOtSzHlG1XchBjK9zFH0p-6Yq8WlgBOVruN0NpJH0lCBR9scISHzpb5DE8XX_obXBNAKYnpTiVWv6x9dYKneGK-8_vNEeP9j2XDbMdOHziENzXOz0IJSw1zEht9hLBF8JJwNxPHycClDaXtDRVbbYddgtkryp32X13eYj9vP7vjAUmtsm6rEAASpAjvw0u9bVXIEgPaLqM8M9sY8Ez-_FaQDt3vzz1BKV8EyDiF0cql2kA7vbX2sEQ3nR_CTHglyZARnFhDpL07YPTvRbZ0YJ8ksxDIpA80R-v4cLfAFwzDOB__JF1lGCAeto7TiNX65s1j3fgoGlqiMuXjZkOyxD0-pw7oXJdaKRFlUUnwq77PnUykj41-X404NXEUGVWRmFjOv687TjrNoRpnYDBizZbkzZQ7Yuf5UdqXoBgVTYtkwv6gVrD5RylC6p4blbew34DBAR-GUHAL4nU0CgJV59WPxuUhZ7Xo4VF2o6lkBxoAT2h3KnHHeooNXTxp0QLsf4cmeTQ5jTl5jk7isOAO7niSEBZA0E6e2wzD3g1s_UsNq4gofDNqFksY_t_O8JwTapAbYVVYFp1Z6EoEiRySQsS3thjKjofVNycK31v1NuX2QgTpaFYFIGZjMGeJkcbbny8wrLgturNQp7NBA6S3wIB018-rJEs7YAkiHBE1Tqfm5Hs6aY./download [following]\n",
      "--2023-08-18 16:53:22--  https://public.boxcloud.com/d/1/b1!DZbPYXfy9EEjVmbL14qILjPQ8zJajZnHdnjMRaaeBzqf1a3X1lUhXYkP3dclO1DrYFeiTn3NG-bN6d04rs958_AZ5E03KELECn1lrRoJTXwOj8Zpd8wdSqp1XdsfdLSCQg7aKlNSpoJBtgIGEvvhP2uWpvEoK1LoqzdeaqOoj717i9Q6q6tiVrBZcdB5TXTw6JhUYYEj9BzAqam9-3BnuznJIFYyNrqbWq5pwMVVxJk7LTb0VilVwRF3S3X1AzFQguBBCWVBXQfPHmb9LxOWoOXmukFdLLnB1Uq3gOTd-xQwYgenj5FZZzOTqPCZPPPfN9AtBH0z_OKwTElgQ-qxNG0qyqJmx9dNOYEcA1OUvjxqs0JeCefuN8s8_Q_iR_PwE15Eisj-Ky70iHqZ7ax0rJqUXAmF7fW_n0w2YGWFUAUmqNN2xUza4_J-leJPHj-YddSQL9FORTq8E92a_BJkLakENTJFNFt8C9eV4JKo6acqwWYDYga31uZ3iTxsdz1u2u6hq1ou-0_0l_k7bQ2t_c9yxSZ7qq9KqJ1ReZihuU3JFFvfmMp4v7pbNTRM79-auvUyZt_Y_ZuAQDSIx8zcsg_eZVzpbNmFvA7up1_OcOIf_mEDPhh_Xr8Rz4MJIWdmS8F2FX6ywaXrRwF214U-tkoMTyCu8rhQj_B3mdKJlvd9KnZ6iTtwQ4qDVDBw5nVUinLAZOrShg6xc4wX2iVGprxUq9f7cTN9M4u0rgAOtSzHlG1XchBjK9zFH0p-6Yq8WlgBOVruN0NpJH0lCBR9scISHzpb5DE8XX_obXBNAKYnpTiVWv6x9dYKneGK-8_vNEeP9j2XDbMdOHziENzXOz0IJSw1zEht9hLBF8JJwNxPHycClDaXtDRVbbYddgtkryp32X13eYj9vP7vjAUmtsm6rEAASpAjvw0u9bVXIEgPaLqM8M9sY8Ez-_FaQDt3vzz1BKV8EyDiF0cql2kA7vbX2sEQ3nR_CTHglyZARnFhDpL07YPTvRbZ0YJ8ksxDIpA80R-v4cLfAFwzDOB__JF1lGCAeto7TiNX65s1j3fgoGlqiMuXjZkOyxD0-pw7oXJdaKRFlUUnwq77PnUykj41-X404NXEUGVWRmFjOv687TjrNoRpnYDBizZbkzZQ7Yuf5UdqXoBgVTYtkwv6gVrD5RylC6p4blbew34DBAR-GUHAL4nU0CgJV59WPxuUhZ7Xo4VF2o6lkBxoAT2h3KnHHeooNXTxp0QLsf4cmeTQ5jTl5jk7isOAO7niSEBZA0E6e2wzD3g1s_UsNq4gofDNqFksY_t_O8JwTapAbYVVYFp1Z6EoEiRySQsS3thjKjofVNycK31v1NuX2QgTpaFYFIGZjMGeJkcbbny8wrLgturNQp7NBA6S3wIB018-rJEs7YAkiHBE1Tqfm5Hs6aY./download\n",
      "Resolving public.boxcloud.com (public.boxcloud.com)... 74.112.186.128\n",
      "Connecting to public.boxcloud.com (public.boxcloud.com)|74.112.186.128|:443... connected.\n",
      "HTTP request sent, awaiting response... 200 OK\n",
      "Length: 24383 (24K) [image/jpeg]\n",
      "Saving to: ‘destructed3.jpg’\n",
      "\n",
      "destructed3.jpg     100%[===================>]  23.81K  --.-KB/s    in 0.007s  \n",
      "\n",
      "2023-08-18 16:53:23 (3.22 MB/s) - ‘destructed3.jpg’ saved [24383/24383]\n",
      "\n"
     ]
    },
    {
     "data": {
      "image/png": "[encoded data removed]",
      "text/plain": [
       "<PIL.JpegImagePlugin.JpegImageFile image mode=RGB size=181x181 at 0x7F2E1EB30B10>"
      ]
     },
     "execution_count": 24,
     "metadata": {},
     "output_type": "execute_result"
    }
   ],
   "source": [
    "!wget -O destructed3.jpg  https://ibm.box.com/shared/static/vvm1b63uvuxq88vbw9znpwu5ol380mco.jpg\n",
    "img = Image.open('destructed3.jpg')\n",
    "img"
   ]
  },
  {
   "cell_type": "markdown",
   "metadata": {},
   "source": [
    "Now let's pass this image through the neural net:\n"
   ]
  },
  {
   "cell_type": "code",
   "execution_count": 25,
   "metadata": {
    "tags": []
   },
   "outputs": [],
   "source": [
    "# convert the image to a 1d numpy array\n",
    "sample_case = np.array(img.convert('I').resize((28,28))).ravel().reshape((1, -1))/255.0\n",
    "\n",
    "sample_case = tf.cast(sample_case, dtype=tf.float32)"
   ]
  },
  {
   "cell_type": "markdown",
   "metadata": {},
   "source": [
    "Feed the sample case into the network and reconstruct the output:\n"
   ]
  },
  {
   "cell_type": "code",
   "execution_count": 26,
   "metadata": {
    "tags": []
   },
   "outputs": [
    {
     "name": "stdout",
     "output_type": "stream",
     "text": [
      "Probability nodes in hidden layer: tf.Tensor(\n",
      "[[1.8803383e-13 9.9999011e-01 4.3385762e-07 9.9999928e-01 3.4601111e-05\n",
      "  9.9942279e-01 7.0512729e-09 7.0731703e-14 3.7541229e-04 1.0878013e-03\n",
      "  1.0000000e+00 3.4383219e-02 2.0915370e-16 9.4081461e-01 1.6599583e-02\n",
      "  6.3060135e-01 9.9999964e-01 9.9999231e-01 6.8486547e-13 5.3711087e-01\n",
      "  1.5278841e-18 9.9366432e-01 8.5844092e-12 9.7175169e-01 5.0949603e-07\n",
      "  8.1102931e-01 9.9992889e-01 1.0000000e+00 3.9000292e-09 9.9719232e-01\n",
      "  1.1587610e-13 9.9999630e-01 6.3399020e-14 3.1180571e-09 2.0947891e-14\n",
      "  9.3345022e-01 6.8839507e-09 5.9012566e-03 9.9989897e-01 2.1149981e-07\n",
      "  4.5361102e-04 9.7721273e-01 4.1956794e-15 7.0445502e-01 9.9717635e-01\n",
      "  9.9996865e-01 3.0346112e-10 4.2304184e-11 2.0045458e-01 8.7240366e-08]], shape=(1, 50), dtype=float32)\n",
      "activated nodes in hidden layer: tf.Tensor(\n",
      "[[0. 1. 0. 1. 0. 1. 0. 0. 0. 0. 1. 0. 0. 1. 0. 1. 1. 1. 0. 1. 0. 1. 0. 1.\n",
      "  0. 1. 1. 1. 0. 1. 0. 1. 0. 0. 0. 1. 0. 0. 1. 0. 0. 1. 0. 1. 1. 1. 0. 0.\n",
      "  0. 0.]], shape=(1, 50), dtype=float32)\n",
      "tf.Tensor(\n",
      "[[3.22564083e-05 3.25805595e-05 2.91868837e-05 2.25047806e-05\n",
      "  4.53179819e-05 3.45951703e-05 2.48715314e-05 2.34231757e-05\n",
      "  2.51215188e-05 4.90921411e-05 4.90921411e-05 6.43080202e-05\n",
      "  3.51310991e-05 3.08668023e-05 1.66094105e-05 3.57621902e-05\n",
      "  5.16090840e-05 2.94802157e-05 2.43790655e-05 4.90921884e-05\n",
      "  1.99599672e-05 2.80424829e-05 2.18396435e-05 2.83243116e-05\n",
      "  2.56289823e-05 5.00838469e-05 4.26789593e-05 3.93977753e-05\n",
      "  3.63688487e-05 1.80606021e-05 4.31078406e-05 4.86036806e-05\n",
      "  3.15001416e-05 2.74872582e-05 2.85182959e-05 1.76932717e-05\n",
      "  4.25169565e-05 4.39407595e-05 7.67878664e-05 5.74879996e-05\n",
      "  6.04448142e-05 5.24662282e-05 5.12884071e-05 4.90095372e-05\n",
      "  6.19907078e-05 6.09302479e-05 1.11229834e-04 5.05218559e-05\n",
      "  5.48884418e-05 2.01993844e-05 2.87631301e-05 4.00065401e-05\n",
      "  6.05632667e-05 3.97937220e-05 2.18396235e-05 3.63688487e-05\n",
      "  2.72137331e-05 3.00757511e-05 2.76277260e-05 2.02787505e-05\n",
      "  3.30153380e-05 2.95334812e-05 7.43317578e-05 4.72896318e-05\n",
      "  3.53467440e-05 3.77330834e-05 4.92137806e-05 1.14682871e-05\n",
      "  1.00564430e-05 1.08645700e-05 7.36900029e-06 4.74851695e-05\n",
      "  2.34197796e-05 3.39664948e-05 3.30130097e-05 3.70645976e-05\n",
      "  5.27158809e-05 8.85236368e-05 1.43936559e-04 8.50795695e-05\n",
      "  3.70555827e-05 3.54132790e-05 4.01936122e-05 2.34231757e-05\n",
      "  2.14072079e-05 3.97936856e-05 3.55524571e-05 3.95138923e-05\n",
      "  3.90579153e-05 8.29775745e-05 4.76901550e-05 8.20876012e-05\n",
      "  2.83945228e-05 3.16627120e-05 1.57123686e-05 1.46904713e-05\n",
      "  6.10730649e-06 8.76752438e-06 2.09114824e-05 1.03218197e-04\n",
      "  1.75465291e-04 2.92065932e-04 2.60626868e-04 1.72510030e-04\n",
      "  1.68023704e-04 2.10356098e-04 1.92554944e-04 1.33142836e-04\n",
      "  6.00431231e-05 5.20991707e-05 3.11256554e-05 2.77634826e-05\n",
      "  3.56487399e-05 3.53772302e-05 4.34729045e-05 4.80579401e-05\n",
      "  7.18638985e-05 1.89313389e-04 3.11220530e-04 1.46442733e-04\n",
      "  1.43363446e-04 1.94171138e-04 1.33657755e-04 1.33568043e-04\n",
      "  9.02911561e-05 3.78363329e-04 2.72812671e-03 7.73715274e-03\n",
      "  1.57661848e-02 8.92643072e-03 6.64826343e-03 3.03423288e-03\n",
      "  1.71834382e-03 1.83286890e-03 3.48123652e-03 1.62608537e-03\n",
      "  1.08224002e-03 2.68385338e-04 6.76103009e-05 4.14356000e-05\n",
      "  4.39786563e-05 3.74763913e-05 5.19094319e-05 5.90206000e-05\n",
      "  2.01096394e-04 7.95180036e-04 7.46223144e-04 2.82324920e-03\n",
      "  1.33607630e-03 2.75896024e-03 1.12326385e-03 2.31703231e-03\n",
      "  1.50902718e-02 1.13347784e-01 6.44401789e-01 6.73830271e-01\n",
      "  6.80779219e-01 7.07491159e-01 3.66080970e-01 1.41168535e-01\n",
      "  3.03118490e-02 1.50772445e-02 1.17902039e-02 4.24046582e-03\n",
      "  1.05963345e-03 4.82997275e-04 7.11268949e-05 3.08994677e-05\n",
      "  2.53739709e-05 2.35974712e-05 4.87202051e-05 2.07682999e-04\n",
      "  6.70395268e-04 2.34933384e-03 2.70874123e-03 2.79775634e-03\n",
      "  4.12496366e-03 3.10681481e-03 7.21240928e-03 6.82694614e-02\n",
      "  2.36870348e-01 6.98437154e-01 9.56968307e-01 9.61306870e-01\n",
      "  9.22253072e-01 8.63270521e-01 8.98352742e-01 7.01793492e-01\n",
      "  3.41891795e-01 5.96820377e-02 2.57385727e-02 9.41051450e-03\n",
      "  1.49821606e-03 2.87052448e-04 2.16386150e-04 3.77478027e-05\n",
      "  3.70454072e-05 4.34200811e-05 7.67516249e-05 3.83180159e-04\n",
      "  1.60239649e-03 7.76807452e-03 1.77820493e-02 2.78716646e-02\n",
      "  1.18468106e-02 2.40249988e-02 9.98912230e-02 5.02572954e-01\n",
      "  8.09700787e-01 9.20664847e-01 9.63730335e-01 9.74706948e-01\n",
      "  9.09190238e-01 7.90280223e-01 7.42517531e-01 7.57502079e-01\n",
      "  7.04148471e-01 2.81119764e-01 3.32244337e-02 4.10123635e-03\n",
      "  1.04805583e-03 3.70798894e-04 1.90646577e-04 3.51311319e-05\n",
      "  2.94756064e-05 5.60520893e-05 2.13377920e-04 1.83338183e-03\n",
      "  3.87367210e-03 1.16166389e-02 2.39287689e-02 5.98835088e-02\n",
      "  6.82035461e-02 9.28278193e-02 1.38680369e-01 4.53783631e-01\n",
      "  8.65115523e-01 9.30308163e-01 8.85404110e-01 6.37521803e-01\n",
      "  5.48270643e-01 2.67258376e-01 4.41053063e-01 8.13840330e-01\n",
      "  8.13859522e-01 4.42826688e-01 6.33717254e-02 7.34686991e-03\n",
      "  9.92560643e-04 6.29800663e-04 1.67265869e-04 4.16767471e-05\n",
      "  2.13795447e-05 5.65843620e-05 1.39496755e-04 9.17467813e-04\n",
      "  3.92668229e-03 2.46526264e-02 5.26503548e-02 7.42839202e-02\n",
      "  6.34162277e-02 5.41274957e-02 1.99109122e-01 5.43496251e-01\n",
      "  5.73942423e-01 6.14842296e-01 2.50103801e-01 1.02096662e-01\n",
      "  7.94115439e-02 8.97828341e-02 3.36328298e-01 7.01194823e-01\n",
      "  7.94218540e-01 6.39840901e-01 8.44749808e-02 5.73233329e-03\n",
      "  1.37720257e-03 2.17808614e-04 1.24835715e-04 4.05450955e-05\n",
      "  4.09204040e-05 5.12078623e-05 1.66193393e-04 5.59166307e-04\n",
      "  3.49798100e-03 1.42919123e-02 2.31417399e-02 3.71462740e-02\n",
      "  3.29890437e-02 2.04333290e-02 8.34861323e-02 2.56072581e-01\n",
      "  2.09820569e-01 1.14080407e-01 8.20463821e-02 7.55953193e-02\n",
      "  1.36291355e-01 1.47754148e-01 5.91662705e-01 7.72440791e-01\n",
      "  8.48991752e-01 6.59889162e-01 4.33216095e-02 6.74359733e-03\n",
      "  8.02574097e-04 2.77927349e-04 1.11260699e-04 3.60338709e-05\n",
      "  3.50898190e-05 4.87526486e-05 1.34038593e-04 7.90917838e-04\n",
      "  1.09792233e-03 1.47197107e-02 1.27419485e-02 3.67767215e-02\n",
      "  1.58018172e-02 8.88120383e-03 3.06076054e-02 1.08029507e-01\n",
      "  1.15817897e-01 2.33200178e-01 1.80158362e-01 1.83462158e-01\n",
      "  5.21170259e-01 6.32207036e-01 7.45797217e-01 8.75618994e-01\n",
      "  8.35719943e-01 2.56379336e-01 2.88484208e-02 5.65061485e-03\n",
      "  4.43548139e-04 2.96452432e-04 1.20502358e-04 3.09722454e-05\n",
      "  2.83443351e-05 5.70589764e-05 1.28990519e-04 3.72955081e-04\n",
      "  1.60931819e-03 9.70950350e-03 1.82858072e-02 1.66013036e-02\n",
      "  1.02323825e-02 9.47421044e-03 3.54684256e-02 2.75203645e-01\n",
      "  6.83742702e-01 7.12628543e-01 7.68649995e-01 9.04872894e-01\n",
      "  8.38108599e-01 8.11288893e-01 8.18544269e-01 7.00493157e-01\n",
      "  4.75542754e-01 1.61233589e-01 1.46041512e-02 3.09765630e-04\n",
      "  4.01089899e-04 1.38163421e-04 3.65504784e-05 4.89211961e-05\n",
      "  3.44678956e-05 3.63418039e-05 7.86128876e-05 1.85805766e-04\n",
      "  1.70384720e-03 7.11353030e-03 1.84872877e-02 2.39794515e-02\n",
      "  1.25373211e-02 2.34224368e-02 7.72916526e-02 6.15903735e-01\n",
      "  8.74317467e-01 9.73894358e-01 9.60230231e-01 9.26488340e-01\n",
      "  9.55475330e-01 9.18239534e-01 7.70291507e-01 6.99548602e-01\n",
      "  3.12065542e-01 5.33404984e-02 3.60963331e-03 3.82885511e-04\n",
      "  2.14959029e-04 9.52215851e-05 6.77829157e-05 2.46202289e-05\n",
      "  3.75102500e-05 3.22868145e-05 1.33487454e-04 2.70859018e-04\n",
      "  1.27122540e-03 5.48786577e-03 5.85120311e-03 1.80765353e-02\n",
      "  9.34641529e-03 3.68493944e-02 1.55206755e-01 6.94518328e-01\n",
      "  9.64335680e-01 9.65365350e-01 9.43951666e-01 9.13784504e-01\n",
      "  9.53755438e-01 9.01190758e-01 7.72468984e-01 5.22042751e-01\n",
      "  1.76977754e-01 2.82578617e-02 1.97663554e-03 3.83084494e-04\n",
      "  9.81414269e-05 4.95605527e-05 7.32238332e-05 5.44318718e-05\n",
      "  1.56378810e-05 4.25169128e-05 4.79751543e-05 2.63774971e-04\n",
      "  2.66853534e-03 1.76244928e-03 7.50909979e-03 9.53436643e-03\n",
      "  9.42591857e-03 2.70379204e-02 1.24959826e-01 3.77807558e-01\n",
      "  6.53638244e-01 5.86588144e-01 4.99380857e-01 2.71776408e-01\n",
      "  5.84496915e-01 7.03109801e-01 8.23268056e-01 3.68830353e-01\n",
      "  4.98114824e-02 2.93065328e-02 3.16037098e-03 3.78027296e-04\n",
      "  1.48804582e-04 3.87833716e-05 6.64955514e-05 4.44137368e-05\n",
      "  2.19642334e-05 4.13820162e-05 1.04375933e-04 9.49612469e-04\n",
      "  1.91451551e-03 2.83530820e-03 5.06293029e-03 7.90244527e-03\n",
      "  1.20326178e-02 2.36432850e-02 3.95037346e-02 5.99435717e-02\n",
      "  2.27859214e-01 5.50850816e-02 6.42370507e-02 9.57926884e-02\n",
      "  1.69815406e-01 6.25192702e-01 5.83077371e-01 1.93727076e-01\n",
      "  4.39045057e-02 1.19640520e-02 4.70596226e-03 5.45498682e-04\n",
      "  7.01343233e-05 1.40359871e-05 4.07716470e-05 3.52290954e-05\n",
      "  3.52940333e-05 3.98186639e-05 2.09145554e-04 3.74973798e-03\n",
      "  4.85198107e-03 1.01362569e-02 2.07906086e-02 1.01446416e-02\n",
      "  1.33297006e-02 7.70615926e-03 1.78984851e-02 2.40684282e-02\n",
      "  7.79958721e-03 1.83122070e-03 6.04146859e-03 3.51400599e-02\n",
      "  1.39600873e-01 5.42867780e-01 2.37717196e-01 1.48498639e-01\n",
      "  3.38396057e-02 1.90343689e-02 5.56046981e-03 9.28813999e-04\n",
      "  2.28492092e-04 6.72168680e-05 4.12169575e-05 3.67978100e-05\n",
      "  3.21768639e-05 3.06340226e-05 2.85144430e-04 2.53740093e-03\n",
      "  3.50019373e-02 5.56452163e-02 1.42565072e-01 2.89510712e-02\n",
      "  2.86117028e-02 8.02967325e-03 6.91132201e-03 1.84987288e-03\n",
      "  5.92186174e-04 3.37596866e-04 8.46208632e-03 4.67736423e-02\n",
      "  3.37625235e-01 4.67980653e-01 5.48879445e-01 1.77379072e-01\n",
      "  4.45608497e-02 2.30594501e-02 2.85423407e-03 8.89603514e-04\n",
      "  2.72599980e-04 8.00753260e-05 1.17857482e-04 3.70265479e-05\n",
      "  2.96716698e-05 3.48471185e-05 3.70883383e-04 1.36632025e-02\n",
      "  1.16611235e-01 2.61146367e-01 3.80654871e-01 2.20206484e-01\n",
      "  9.80700031e-02 2.76136976e-02 6.23055687e-03 2.12188181e-03\n",
      "  5.77440544e-04 5.11595188e-03 2.28003729e-02 1.81604758e-01\n",
      "  8.24995875e-01 7.81004310e-01 5.10253847e-01 1.27553865e-01\n",
      "  9.08625200e-02 7.78358476e-03 1.99108408e-03 4.29039908e-04\n",
      "  2.31266225e-04 9.39423262e-05 5.07939803e-05 4.57806236e-05\n",
      "  1.82420808e-05 6.81480014e-05 5.57983294e-04 2.95408014e-02\n",
      "  1.98753342e-01 5.30667603e-01 6.41723990e-01 4.58884835e-01\n",
      "  2.93150097e-01 1.28410563e-01 1.81044303e-02 1.25831952e-02\n",
      "  1.27738751e-02 2.78536212e-02 1.45619199e-01 7.14227796e-01\n",
      "  8.93566489e-01 7.71788418e-01 3.30657512e-01 4.01635021e-02\n",
      "  1.39708491e-02 3.09669995e-03 1.44782569e-03 8.17922701e-04\n",
      "  1.81274401e-04 1.63646080e-04 5.42551061e-05 4.00128702e-05\n",
      "  2.45027386e-05 1.91886647e-05 5.60525863e-04 1.91441942e-02\n",
      "  3.56136918e-01 5.69702625e-01 7.59180009e-01 7.84034312e-01\n",
      "  8.04601490e-01 3.80049020e-01 7.71022737e-02 1.23968862e-01\n",
      "  8.45208243e-02 3.16838831e-01 6.88306391e-01 9.00358319e-01\n",
      "  8.78250003e-01 5.30349195e-01 8.08143541e-02 1.86342616e-02\n",
      "  6.08103210e-03 1.47807540e-03 6.81463978e-04 3.12349497e-04\n",
      "  2.50266923e-04 1.47160827e-04 5.26929143e-05 6.18738850e-05\n",
      "  3.76487587e-05 2.85955830e-05 4.09151078e-04 1.08544054e-02\n",
      "  6.69361427e-02 2.66856015e-01 7.87922442e-01 7.23266661e-01\n",
      "  7.56469190e-01 6.08295739e-01 3.78807366e-01 7.06818283e-01\n",
      "  4.44553465e-01 7.37367094e-01 8.21326256e-01 8.08798671e-01\n",
      "  5.17085671e-01 1.10867247e-01 1.72730628e-02 4.44290973e-03\n",
      "  2.21397937e-03 3.15740821e-04 4.30212909e-04 2.02831608e-04\n",
      "  2.02474141e-04 1.15537856e-04 3.83175538e-05 3.25652763e-05\n",
      "  2.83243389e-05 4.66980382e-05 1.13290116e-04 1.39699364e-03\n",
      "  2.37033125e-02 1.05542429e-01 4.99042094e-01 6.80685580e-01\n",
      "  6.55334651e-01 7.51346707e-01 6.96520507e-01 7.21895993e-01\n",
      "  5.79444170e-01 5.28072059e-01 4.40517396e-01 2.61379212e-01\n",
      "  6.15402348e-02 4.88741323e-03 3.36092291e-03 1.26519648e-03\n",
      "  1.50972046e-03 5.10071695e-04 2.96443701e-04 3.62065068e-04\n",
      "  1.07365020e-04 6.79718651e-05 3.73063376e-05 2.03631844e-05\n",
      "  3.29080540e-05 6.30347422e-05 3.43182328e-05 1.73022185e-04\n",
      "  2.42901477e-03 6.82696141e-03 1.37774661e-01 2.83917785e-01\n",
      "  3.58850867e-01 3.50057513e-01 3.34578753e-01 2.80513793e-01\n",
      "  1.78088650e-01 1.34657919e-01 3.13449614e-02 1.18610142e-02\n",
      "  3.09118768e-03 7.15583621e-04 2.90851603e-04 2.16392349e-04\n",
      "  3.14191682e-04 1.67614227e-04 1.57835646e-04 1.66709186e-04\n",
      "  4.26255938e-05 4.84819320e-05 3.03792021e-05 5.42549496e-05\n",
      "  3.35728037e-05 3.60070080e-05 3.28732094e-05 4.28130734e-05\n",
      "  8.50596116e-05 3.73540359e-04 1.01362646e-03 1.18108059e-03\n",
      "  4.71069524e-03 7.28178024e-03 9.46634728e-03 2.38552922e-03\n",
      "  1.38588506e-03 1.19915942e-03 1.07972824e-03 1.32415572e-03\n",
      "  4.67293721e-04 2.39838671e-04 1.33083042e-04 1.69758263e-04\n",
      "  2.13966297e-04 1.01913509e-04 6.45432592e-05 9.01066596e-05\n",
      "  3.24403918e-05 5.97963917e-05 5.50673722e-05 3.25806213e-05\n",
      "  3.09916577e-05 4.22542689e-05 3.93978153e-05 4.47248131e-05\n",
      "  3.61654820e-05 1.14954644e-04 2.45531905e-04 1.47814077e-04\n",
      "  1.26526313e-04 9.73125934e-05 2.15650260e-04 1.66795377e-04\n",
      "  2.10919243e-04 6.73021059e-05 1.08492372e-04 1.23988561e-04\n",
      "  4.79379305e-05 6.79058430e-05 6.59173020e-05 6.16491961e-05\n",
      "  1.07108353e-04 6.03594526e-05 5.45237817e-05 5.77160172e-05\n",
      "  2.49252680e-05 3.48648646e-05 3.93977389e-05 4.76413334e-05\n",
      "  5.00838942e-05 3.67343164e-05 3.82334511e-05 2.34231975e-05\n",
      "  2.38654484e-05 3.09261777e-05 5.22710543e-05 7.05987331e-05\n",
      "  1.21856385e-04 1.17042160e-04 1.51879591e-04 1.74877350e-04\n",
      "  1.35746726e-04 1.15415081e-04 5.96699902e-05 7.06321298e-05\n",
      "  1.68655009e-04 1.54904803e-04 4.97141591e-05 4.37071430e-05\n",
      "  3.57060999e-05 4.21170043e-05 2.07550238e-05 4.88866353e-05\n",
      "  4.86037279e-05 4.53179819e-05 2.83243116e-05 2.69429784e-05]], shape=(1, 784), dtype=float32)\n"
     ]
    }
   ],
   "source": [
    "hh0_p = tf.nn.sigmoid(tf.matmul(sample_case, W) + hb)\n",
    "hh0_s = tf.round(hh0_p)\n",
    "\n",
    "print(\"Probability nodes in hidden layer:\" ,hh0_p)\n",
    "print(\"activated nodes in hidden layer:\" ,hh0_s)\n",
    "\n",
    "# reconstruct\n",
    "vv1_p = tf.nn.sigmoid(tf.matmul(hh0_s, tf.transpose(W)) + vb)\n",
    "\n",
    "print(vv1_p)\n",
    "#rec_prob = sess.run(vv1_p, feed_dict={ hh0_s: hh0_s_val, W: prv_w, vb: prv_vb})"
   ]
  },
  {
   "cell_type": "markdown",
   "metadata": {},
   "source": [
    "Here we plot the reconstructed image:\n"
   ]
  },
  {
   "cell_type": "code",
   "execution_count": 27,
   "metadata": {
    "tags": []
   },
   "outputs": [
    {
     "data": {
      "image/png": "[encoded data removed]",
      "text/plain": [
       "<Figure size 400x400 with 1 Axes>"
      ]
     },
     "metadata": {},
     "output_type": "display_data"
    }
   ],
   "source": [
    "img = Image.fromarray(tile_raster_images(X=vv1_p.numpy(), img_shape=(28, 28),tile_shape=(1, 1), tile_spacing=(1, 1)))\n",
    "plt.rcParams['figure.figsize'] = (4.0, 4.0)\n",
    "imgplot = plt.imshow(img)\n",
    "imgplot.set_cmap('gray')"
   ]
  },
  {
   "cell_type": "markdown",
   "metadata": {},
   "source": [
    "### References:\n",
    "https://en.wikipedia.org/wiki/Restricted_Boltzmann_machine  \n",
    "http://deeplearning.net/tutorial/rbm.html  \n",
    "http://www.cs.utoronto.ca/~hinton/absps/netflixICML.pdf<br>\n",
    "http://imonad.com/rbm/restricted-boltzmann-machine/  \n"
   ]
  },
  {
   "cell_type": "markdown",
   "metadata": {},
   "source": [
    "<hr>\n",
    "\n",
    "Copyright &copy; 2018 [Cognitive Class](https://cocl.us/DX0108EN_CC). This notebook and its source code are released under the terms of the [MIT License](https://bigdatauniversity.com/mit-license/?utm_medium=Exinfluencer&utm_source=Exinfluencer&utm_content=000026UJ&utm_term=10006555&utm_id=NA-SkillsNetwork-Channel-SkillsNetworkCoursesIBMDeveloperSkillsNetworkDL0120ENSkillsNetwork954-2023-01-01).\n"
   ]
  }
 ],
 "metadata": {
  "kernelspec": {
   "display_name": "Python 3 (ipykernel)",
   "language": "python",
   "name": "python3"
  },
  "language_info": {
   "codemirror_mode": {
    "name": "ipython",
    "version": 3
   },
   "file_extension": ".py",
   "mimetype": "text/x-python",
   "name": "python",
   "nbconvert_exporter": "python",
   "pygments_lexer": "ipython3",
   "version": "3.10.9"
  }
 },
 "nbformat": 4,
 "nbformat_minor": 4
}
