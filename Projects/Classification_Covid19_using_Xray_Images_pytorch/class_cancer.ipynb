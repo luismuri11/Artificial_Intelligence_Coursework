{
 "cells": [
  {
   "cell_type": "code",
   "execution_count": 66,
   "id": "bfc99509-fd81-4654-8727-71f0b5b0b0cd",
   "metadata": {},
   "outputs": [
    {
     "name": "stdout",
     "output_type": "stream",
     "text": [
      "All Modules have been loaded\n"
     ]
    }
   ],
   "source": [
    "# import data handling tools\n",
    "\n",
    "import numpy as np\n",
    "import pandas as pd\n",
    "import matplotlib.pyplot as plt\n",
    "import os\n",
    "import shutil\n",
    "\n",
    "from sklearn.model_selection import train_test_split\n",
    "from sklearn.metrics import confusion_matrix, classification_report\n",
    "\n",
    "# import Deep Learning libraries\n",
    "\n",
    "from tensorflow.keras.models import Sequential\n",
    "from tensorflow.keras.layers import Conv2D, MaxPool2D, Dropout, Flatten, Dense\n",
    "from tensorflow.keras.losses import CategoricalCrossentropy\n",
    "from tensorflow.keras.optimizers import Adam\n",
    "from tensorflow.keras.applications import EfficientNetB0 \n",
    "from tensorflow.keras.applications.efficientnet import preprocess_input\n",
    "from tensorflow.keras.preprocessing.image import ImageDataGenerator\n",
    "\n",
    "\n",
    "print ('All Modules have been loaded')"
   ]
  },
  {
   "cell_type": "code",
   "execution_count": 60,
   "id": "0629dd65-2123-4a65-b70a-5e990d3b14be",
   "metadata": {},
   "outputs": [],
   "source": [
    "train_path = './datasets/train'\n",
    "validation_path = './datasets/test'\n",
    "normal = 'NORMAL'\n",
    "covid ='COVID19'"
   ]
  },
  {
   "cell_type": "code",
   "execution_count": 79,
   "id": "a33d5245-14f3-4841-9a71-d9d435364aaa",
   "metadata": {},
   "outputs": [],
   "source": [
    "TARGET_SIZE = (224,224)\n",
    "CHANNELS = 3\n",
    "IMG_SHAPE = (TARGET_SIZE[0],TARGET_SIZE[0],CHANNELS)"
   ]
  },
  {
   "cell_type": "code",
   "execution_count": 80,
   "id": "812561b5-3952-4b2d-b427-70c3105fbc1e",
   "metadata": {},
   "outputs": [],
   "source": [
    "image_generator = ImageDataGenerator(preprocessing_function=preprocess_input)"
   ]
  },
  {
   "cell_type": "code",
   "execution_count": 81,
   "id": "59306176-53ac-4e16-8109-998afaa1bb8e",
   "metadata": {},
   "outputs": [
    {
     "name": "stdout",
     "output_type": "stream",
     "text": [
      "Found 1812 images belonging to 2 classes.\n"
     ]
    }
   ],
   "source": [
    "train_generator = image_generator.flow_from_directory(train_path,\n",
    "                                                     target_size=TARGET_SIZE,\n",
    "                                                    class_mode='categorical',\n",
    "                                                     batch_size=32)"
   ]
  },
  {
   "cell_type": "code",
   "execution_count": 82,
   "id": "c8652bf8-5b4c-487b-b6e6-27929b579dc4",
   "metadata": {},
   "outputs": [
    {
     "name": "stdout",
     "output_type": "stream",
     "text": [
      "Found 484 images belonging to 2 classes.\n"
     ]
    }
   ],
   "source": [
    "valid_generator = image_generator.flow_from_directory(validation_path,\n",
    "                                                     target_size=TARGET_SIZE,\n",
    "                                                    class_mode='categorical',\n",
    "                                                     batch_size=32)"
   ]
  },
  {
   "cell_type": "code",
   "execution_count": 83,
   "id": "46276ed0-b7bf-4847-b5a7-bf73b0ddc8f3",
   "metadata": {},
   "outputs": [],
   "source": [
    "pretrained_model = EfficientNetB0(include_top=False,\n",
    "                                 weights='imagenet',\n",
    "                                  input_shape=IMG_SHAPE,\n",
    "                                 pooling='max')"
   ]
  },
  {
   "cell_type": "code",
   "execution_count": 84,
   "id": "f4e96d34-6299-4010-8f82-f29138532217",
   "metadata": {},
   "outputs": [],
   "source": [
    "model = Sequential([pretrained_model,\n",
    "                  Dense(2,activation='sigmoid')])"
   ]
  },
  {
   "cell_type": "code",
   "execution_count": 85,
   "id": "f0a7fe6c-59e6-4f3d-a530-a3fa6d955be6",
   "metadata": {},
   "outputs": [
    {
     "name": "stdout",
     "output_type": "stream",
     "text": [
      "Model: \"sequential_5\"\n",
      "_________________________________________________________________\n",
      " Layer (type)                Output Shape              Param #   \n",
      "=================================================================\n",
      " efficientnetb0 (Functional)  (None, 1280)             4049571   \n",
      "                                                                 \n",
      " dense_6 (Dense)             (None, 2)                 2562      \n",
      "                                                                 \n",
      "=================================================================\n",
      "Total params: 4,052,133\n",
      "Trainable params: 4,010,110\n",
      "Non-trainable params: 42,023\n",
      "_________________________________________________________________\n"
     ]
    }
   ],
   "source": [
    "model.summary()"
   ]
  },
  {
   "cell_type": "code",
   "execution_count": 86,
   "id": "1582d07a-cf51-4879-af03-6e72a25433ef",
   "metadata": {},
   "outputs": [],
   "source": [
    "model.layers[0].trainable= False"
   ]
  },
  {
   "cell_type": "code",
   "execution_count": 87,
   "id": "acfcbd36-db98-434e-9e8f-b687425726c8",
   "metadata": {},
   "outputs": [],
   "source": [
    "model.compile(optimizer=Adam(),\n",
    "             loss=CategoricalCrossentropy(),\n",
    "             metrics=['accuracy'])"
   ]
  },
  {
   "cell_type": "code",
   "execution_count": 88,
   "id": "1db46a90-1798-441e-a40c-02eec66bb3ce",
   "metadata": {},
   "outputs": [
    {
     "name": "stdout",
     "output_type": "stream",
     "text": [
      "Model: \"sequential_5\"\n",
      "_________________________________________________________________\n",
      " Layer (type)                Output Shape              Param #   \n",
      "=================================================================\n",
      " efficientnetb0 (Functional)  (None, 1280)             4049571   \n",
      "                                                                 \n",
      " dense_6 (Dense)             (None, 2)                 2562      \n",
      "                                                                 \n",
      "=================================================================\n",
      "Total params: 4,052,133\n",
      "Trainable params: 2,562\n",
      "Non-trainable params: 4,049,571\n",
      "_________________________________________________________________\n"
     ]
    }
   ],
   "source": [
    "model.summary()"
   ]
  },
  {
   "cell_type": "code",
   "execution_count": 89,
   "id": "9cffab82-53bb-45c9-b821-75607f0f78e2",
   "metadata": {},
   "outputs": [],
   "source": [
    "BATCH_SIZE = 16   # set batch size for training\n",
    "EPOCHS = 100   # number of all epochs in training"
   ]
  },
  {
   "cell_type": "code",
   "execution_count": null,
   "id": "1f33bb8f-9a82-43ac-8aa6-c75810561797",
   "metadata": {},
   "outputs": [
    {
     "name": "stderr",
     "output_type": "stream",
     "text": [
      "2023-12-19 17:21:17.233775: I tensorflow/core/common_runtime/executor.cc:1197] [/device:CPU:0] (DEBUG INFO) Executor start aborting (this does not indicate an error and you can ignore this message): INVALID_ARGUMENT: You must feed a value for placeholder tensor 'Placeholder/_0' with dtype int32\n",
      "\t [[{{node Placeholder/_0}}]]\n",
      "2023-12-19 17:21:29.227553: W tensorflow/tsl/framework/cpu_allocator_impl.cc:83] Allocation of 154140672 exceeds 10% of free system memory.\n",
      "2023-12-19 17:21:29.293052: W tensorflow/tsl/framework/cpu_allocator_impl.cc:83] Allocation of 154140672 exceeds 10% of free system memory.\n",
      "2023-12-19 17:21:29.425082: W tensorflow/tsl/framework/cpu_allocator_impl.cc:83] Allocation of 156905472 exceeds 10% of free system memory.\n",
      "2023-12-19 17:21:31.046156: W tensorflow/tsl/framework/cpu_allocator_impl.cc:83] Allocation of 154140672 exceeds 10% of free system memory.\n",
      "2023-12-19 17:21:31.102419: W tensorflow/tsl/framework/cpu_allocator_impl.cc:83] Allocation of 154140672 exceeds 10% of free system memory.\n",
      "2023-12-19 17:23:35.426736: I tensorflow/core/common_runtime/executor.cc:1197] [/device:CPU:0] (DEBUG INFO) Executor start aborting (this does not indicate an error and you can ignore this message): INVALID_ARGUMENT: You must feed a value for placeholder tensor 'Placeholder/_0' with dtype int32\n",
      "\t [[{{node Placeholder/_0}}]]\n"
     ]
    }
   ],
   "source": [
    "history = model.fit(train_generator,\n",
    "                     epochs= EPOCHS,\n",
    "                    validation_data = valid_generator, \n",
    "                     validation_steps= None, \n",
    "                     shuffle= False,\n",
    "                    verbose=False)"
   ]
  },
  {
   "cell_type": "code",
   "execution_count": null,
   "id": "2ffa04d2-8e2c-40e3-8747-51d96f730b8f",
   "metadata": {},
   "outputs": [],
   "source": []
  }
 ],
 "metadata": {
  "kernelspec": {
   "display_name": "Python 3 (ipykernel)",
   "language": "python",
   "name": "python3"
  },
  "language_info": {
   "codemirror_mode": {
    "name": "ipython",
    "version": 3
   },
   "file_extension": ".py",
   "mimetype": "text/x-python",
   "name": "python",
   "nbconvert_exporter": "python",
   "pygments_lexer": "ipython3",
   "version": "3.10.9"
  }
 },
 "nbformat": 4,
 "nbformat_minor": 5
}
