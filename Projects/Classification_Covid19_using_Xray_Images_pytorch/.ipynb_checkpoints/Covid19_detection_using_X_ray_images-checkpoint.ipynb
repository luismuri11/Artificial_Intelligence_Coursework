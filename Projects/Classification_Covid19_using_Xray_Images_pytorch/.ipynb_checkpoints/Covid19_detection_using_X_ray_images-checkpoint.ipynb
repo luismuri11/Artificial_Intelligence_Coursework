{
 "cells": [
  {
   "cell_type": "markdown",
   "metadata": {
    "colab_type": "text",
    "id": "vWxzGS08AcVK"
   },
   "source": [
    "# TASK 1 : Import Libraries"
   ]
  },
  {
   "cell_type": "code",
   "execution_count": 9,
   "metadata": {
    "colab": {},
    "colab_type": "code",
    "id": "CDBYcQCeAUAp"
   },
   "outputs": [],
   "source": [
    "import tensorflow as tf\n",
    "import numpy as np\n",
    "import matplotlib.pyplot as plt\n",
    "from tensorflow.keras.models import Sequential\n",
    "from tensorflow.keras.layers import Conv2D, MaxPooling2D,Dropout,Flatten,Dense\n",
    "from tensorflow.keras.optimizers import Adam\n",
    "from tensorflow.keras.preprocessing.image import ImageDataGenerator"
   ]
  },
  {
   "cell_type": "markdown",
   "metadata": {
    "colab_type": "text",
    "id": "hMRiBWpYAiOQ"
   },
   "source": [
    "# TASK 2 : Clone & Explore dataset"
   ]
  },
  {
   "cell_type": "code",
   "execution_count": 11,
   "metadata": {
    "colab": {},
    "colab_type": "code",
    "id": "lY1sIb7GI_m5"
   },
   "outputs": [
    {
     "name": "stdout",
     "output_type": "stream",
     "text": [
      "fatal: destination path 'datasets' already exists and is not an empty directory.\n"
     ]
    }
   ],
   "source": [
    "#clone the dataset from the github repository\n",
    "! git clone https://github.com/education454/datasets.git"
   ]
  },
  {
   "cell_type": "code",
   "execution_count": 8,
   "metadata": {
    "colab": {},
    "colab_type": "code",
    "id": "qv3ykJOtAn7k"
   },
   "outputs": [],
   "source": [
    "#set the path to the main dir\n",
    "import os\n",
    "\n",
    "main_dir = './datasets/Data'\n",
    "\n",
    "#set the path to the train dir\n",
    "\n",
    "train_dir = os.path.join(main_dir, 'train')\n",
    "\n",
    "#set the path to the test dir\n",
    "\n",
    "test_dir = os.path.join(main_dir,'test')\n",
    "\n",
    "#directory with the training covid images\n",
    "\n",
    "train_covid_dir = os.path.join(train_dir,'COVID19')\n",
    "\n",
    "#directory with the training normal images\n",
    "\n",
    "train_normal_dir = os.path.join(train_dir,'NORMAL')\n",
    "\n",
    "#directory with the testing covid images\n",
    "\n",
    "test_covid_dir = os.path.join(test_dir,'COVID19')\n",
    "\n",
    "#directory with the testing normal images\n",
    "\n",
    "test_normal_dir = os.path.join(test_dir,'NORMAL')"
   ]
  },
  {
   "cell_type": "code",
   "execution_count": 9,
   "metadata": {
    "colab": {},
    "colab_type": "code",
    "id": "s_QyIqfcBUwv"
   },
   "outputs": [],
   "source": [
    "#print the filenames\n",
    "\n",
    "train_covid_names = os.listdir(train_covid_dir)"
   ]
  },
  {
   "cell_type": "code",
   "execution_count": 7,
   "metadata": {
    "colab": {},
    "colab_type": "code",
    "id": "8_PDJQWuBU8U"
   },
   "outputs": [],
   "source": [
    "#print the total no of images present in each dir"
   ]
  },
  {
   "cell_type": "markdown",
   "metadata": {
    "colab_type": "text",
    "id": "NMPZ9t8UBogq"
   },
   "source": [
    "# TASK 3 : Data Visualization"
   ]
  },
  {
   "cell_type": "code",
   "execution_count": null,
   "metadata": {
    "colab": {},
    "colab_type": "code",
    "id": "vryI0-PKBtLF"
   },
   "outputs": [],
   "source": [
    "# plot a grid of 16 images (8 images of Covid19 and 8 images of Normal)\n",
    "\n",
    "#set the number of columns and rows\n",
    "\n",
    "#set the figure size\n",
    "\n",
    "#get the filenames from the covid & normal dir of the train dataset\n",
    "\n",
    "#print the list\n",
    "\n",
    "#merge the covid and normal list"
   ]
  },
  {
   "cell_type": "markdown",
   "metadata": {
    "colab_type": "text",
    "id": "UWiQARLdCB9J"
   },
   "source": [
    "# TASK 4 : Data Preprocessing & Augmentation"
   ]
  },
  {
   "cell_type": "code",
   "execution_count": null,
   "metadata": {
    "colab": {},
    "colab_type": "code",
    "id": "ZU7C28QWB_il"
   },
   "outputs": [],
   "source": [
    "# generate training,testing and validation batches "
   ]
  },
  {
   "cell_type": "code",
   "execution_count": null,
   "metadata": {
    "colab": {},
    "colab_type": "code",
    "id": "SIdVxgoLGb0K"
   },
   "outputs": [],
   "source": [
    "#get the class indices"
   ]
  },
  {
   "cell_type": "code",
   "execution_count": null,
   "metadata": {
    "colab": {},
    "colab_type": "code",
    "id": "gMe4b6_YGdlt"
   },
   "outputs": [],
   "source": [
    "#get the image shape"
   ]
  },
  {
   "cell_type": "markdown",
   "metadata": {
    "colab_type": "text",
    "id": "ELcsfIibGoK3"
   },
   "source": [
    "# TASK 5 : Build Convolutional Neural Network Model"
   ]
  },
  {
   "cell_type": "code",
   "execution_count": null,
   "metadata": {
    "colab": {},
    "colab_type": "code",
    "id": "_-pwXOyuGxIq"
   },
   "outputs": [],
   "source": [
    "\n",
    "# add the convolutional layer\n",
    "# filters, size of filters,padding,activation_function,input_shape\n",
    "\n",
    "# pooling layer\n",
    "\n",
    "# place a dropout layer\n",
    "\n",
    "# add another convolutional layer\n",
    "\n",
    "# pooling layer\n",
    "\n",
    "# place a dropout layer\n",
    "\n",
    "# Flatten layer\n",
    "\n",
    "# add a dense layer : amount of nodes, activation\n",
    "\n",
    "# place a dropout layer\n",
    "# 0.5 drop out rate is recommended, half input nodes will be dropped at each update\n",
    "\n"
   ]
  },
  {
   "cell_type": "markdown",
   "metadata": {
    "colab_type": "text",
    "id": "hgCag-_HHG2N"
   },
   "source": [
    "# TASK 6 : Compile & Train the Model"
   ]
  },
  {
   "cell_type": "code",
   "execution_count": null,
   "metadata": {
    "colab": {},
    "colab_type": "code",
    "id": "1iVcxB1ZHNDV"
   },
   "outputs": [],
   "source": [
    "#compile the model"
   ]
  },
  {
   "cell_type": "code",
   "execution_count": null,
   "metadata": {
    "colab": {},
    "colab_type": "code",
    "id": "OWtZjCFlHPQs"
   },
   "outputs": [],
   "source": [
    "#train the model"
   ]
  },
  {
   "cell_type": "markdown",
   "metadata": {
    "colab_type": "text",
    "id": "z95l8IC5HRoG"
   },
   "source": [
    "# TASK 7 : Performance Evaluation"
   ]
  },
  {
   "cell_type": "code",
   "execution_count": null,
   "metadata": {
    "colab": {},
    "colab_type": "code",
    "id": "M0d8G-BEHXXs"
   },
   "outputs": [],
   "source": [
    "#get the keys of history object"
   ]
  },
  {
   "cell_type": "code",
   "execution_count": null,
   "metadata": {
    "colab": {},
    "colab_type": "code",
    "id": "EVtqI0QuHbZR"
   },
   "outputs": [],
   "source": [
    "#plot graph between training and validation loss"
   ]
  },
  {
   "cell_type": "code",
   "execution_count": null,
   "metadata": {
    "colab": {},
    "colab_type": "code",
    "id": "CEIibDQOHgfT"
   },
   "outputs": [],
   "source": [
    "#plot graph between training and validation accuarcy"
   ]
  },
  {
   "cell_type": "code",
   "execution_count": null,
   "metadata": {
    "colab": {},
    "colab_type": "code",
    "id": "U9Zm__wJHm3v"
   },
   "outputs": [],
   "source": [
    "# get the test acuarcy and loss"
   ]
  },
  {
   "cell_type": "markdown",
   "metadata": {
    "colab_type": "text",
    "id": "-AZjx1Q2HseZ"
   },
   "source": [
    "# TASK 8 : Prediction On New Data"
   ]
  },
  {
   "cell_type": "code",
   "execution_count": null,
   "metadata": {
    "colab": {},
    "colab_type": "code",
    "id": "b5qflf3jH3o_"
   },
   "outputs": [],
   "source": []
  }
 ],
 "metadata": {
  "colab": {
   "name": "Covid19 detection using X-ray images.ipynb",
   "provenance": []
  },
  "kernelspec": {
   "display_name": "Python 3 (ipykernel)",
   "language": "python",
   "name": "python3"
  },
  "language_info": {
   "codemirror_mode": {
    "name": "ipython",
    "version": 3
   },
   "file_extension": ".py",
   "mimetype": "text/x-python",
   "name": "python",
   "nbconvert_exporter": "python",
   "pygments_lexer": "ipython3",
   "version": "3.9.13"
  }
 },
 "nbformat": 4,
 "nbformat_minor": 4
}
